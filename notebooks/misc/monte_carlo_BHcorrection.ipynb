{
 "cells": [
  {
   "cell_type": "code",
   "execution_count": 4,
   "metadata": {},
   "outputs": [],
   "source": [
    "from scipy import stats\n",
    "import numpy as np\n",
    "from statsmodels.stats import multitest\n",
    "import matplotlib.pyplot as plt"
   ]
  },
  {
   "cell_type": "markdown",
   "metadata": {},
   "source": [
    "### Without multiple comparisons correction"
   ]
  },
  {
   "cell_type": "code",
   "execution_count": 5,
   "metadata": {},
   "outputs": [
    {
     "data": {
      "text/plain": [
       "'4.8500000000000005% of nulls rejected'"
      ]
     },
     "execution_count": 5,
     "metadata": {},
     "output_type": "execute_result"
    }
   ],
   "source": [
    "count = 0\n",
    "n_tests = 10000\n",
    "mu, sigma = 0, 1\n",
    "\n",
    "for _ in range(n_tests):\n",
    "    \n",
    "    a = np.random.normal(mu, sigma, 1000)\n",
    "    b = np.random.normal(mu, sigma, 1000)\n",
    "    # Test null that two populations have the same mean\n",
    "    pval = stats.ttest_ind(a, b)[1]\n",
    "    if pval < 0.05:\n",
    "        count += 1\n",
    "\n",
    "f'{(count / n_tests * 100)}% of nulls rejected'"
   ]
  },
  {
   "cell_type": "markdown",
   "metadata": {},
   "source": [
    "## With  Benjamini/Hochberg correction"
   ]
  },
  {
   "cell_type": "code",
   "execution_count": 2,
   "metadata": {},
   "outputs": [
    {
     "data": {
      "text/plain": [
       "'0.0% of nulls rejected'"
      ]
     },
     "execution_count": 2,
     "metadata": {},
     "output_type": "execute_result"
    }
   ],
   "source": [
    "mu, sigma = 5, 2\n",
    "n_tests = 10000\n",
    "pvals = []\n",
    "for _ in range(n_tests):\n",
    "    \n",
    "    a = np.random.normal(mu, sigma, 100)\n",
    "    b = np.random.normal(mu, sigma, 100)\n",
    "    # Test null that two populations have the same mean\n",
    "    pvals.append(stats.ttest_ind(a, b)[1])\n",
    "    \n",
    "reject, correct_pval, _, _ = multitest.multipletests(pvals, alpha=0.5, method='fdr_bh', \n",
    "                                                     is_sorted=False, returnsorted=False)\n",
    "\n",
    "f'{sum(reject) / len(reject) * 100}% of nulls rejected'"
   ]
  },
  {
   "cell_type": "code",
   "execution_count": 6,
   "metadata": {},
   "outputs": [
    {
     "data": {
      "text/plain": [
       "Text(0, 0.5, '% nulls rejected')"
      ]
     },
     "execution_count": 6,
     "metadata": {},
     "output_type": "execute_result"
    },
    {
     "data": {
      "image/png": "[encoded data removed]",
      "text/plain": [
       "<Figure size 432x288 with 1 Axes>"
      ]
     },
     "metadata": {
      "needs_background": "light"
     },
     "output_type": "display_data"
    }
   ],
   "source": [
    "x_range = np.linspace(1e-5, 1, 100)\n",
    "\n",
    "percent_pass = []\n",
    "for alpha in x_range:\n",
    "    reject, correct_pval, _, _ = multitest.multipletests(pvals, alpha=alpha, method='fdr_bh', \n",
    "                                                         is_sorted=False, returnsorted=False)\n",
    "    percent_pass.append(sum(reject) / len(reject) * 100)\n",
    "\n",
    "plt.plot(x_range, percent_pass)\n",
    "plt.xlabel('Benjamini Hochberg Alpha')\n",
    "plt.ylabel('% nulls rejected')"
   ]
  }
 ],
 "metadata": {
  "kernelspec": {
   "display_name": "Python 3",
   "language": "python",
   "name": "python3"
  },
  "language_info": {
   "codemirror_mode": {
    "name": "ipython",
    "version": 3
   },
   "file_extension": ".py",
   "mimetype": "text/x-python",
   "name": "python",
   "nbconvert_exporter": "python",
   "pygments_lexer": "ipython3",
   "version": "3.7.4"
  }
 },
 "nbformat": 4,
 "nbformat_minor": 4
}
