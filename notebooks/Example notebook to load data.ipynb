{
 "cells": [
  {
   "cell_type": "markdown",
   "id": "f4b25f6f",
   "metadata": {},
   "source": [
    "## Before you start:\n",
    "\n",
    "First, make sure you are using the conda environment `pope` that is included in the `popping-off` repo.\n",
    "\n",
    "Second, the cell block below loads the data, using the data path that is given in `popping-off/data_paths.json`. \n",
    "You need to customise the following:\n",
    "\n",
    "- `base_path`: path of the `.pkl` data set. (e.g., `sessions_lite_flu_2021-10-22.pkl`)\n",
    "- `vape_path`: path of the `Vape` repo."
   ]
  },
  {
   "cell_type": "code",
   "execution_count": 1,
   "id": "627162f3",
   "metadata": {},
   "outputs": [],
   "source": [
    "## Following lines such that modules are automatically updated:\n",
    "%load_ext autoreload\n",
    "%autoreload 2"
   ]
  },
  {
   "cell_type": "code",
   "execution_count": 3,
   "id": "2de11c5d",
   "metadata": {},
   "outputs": [
    {
     "name": "stdout",
     "output_type": "stream",
     "text": [
      "/home/tplas/repos/popping-off/popoff/popoff/loadpaths.py\n",
      "/home/tplas/repos/Vape\n"
     ]
    }
   ],
   "source": [
    "import matplotlib.pyplot as plt\n",
    "import numpy as np\n",
    "import os, sys\n",
    "import popoff  # custom package with all code routines\n",
    "import pop_off_plotting as pop  # module with plotting functions\n",
    "import pop_off_functions as pof  # module with analysis functions\n",
    "from Session import SessionLite  # Class object that holds data of 1 recording session\n",
    "from linear_model import PoolAcrossSessions, LinearModel, MultiSessionModel  # Classes that hold multiple Sessions"
   ]
  },
  {
   "cell_type": "markdown",
   "id": "7cdc7abf",
   "metadata": {},
   "source": [
    "## Load data:\n",
    "\n",
    "We load all recording sessions into a joint object `PoolAcrossSessions()`. \n",
    "This object contains each sessions as individual `SessionLite()` classes, which we extract and put in the dictionary `sessions`. "
   ]
  },
  {
   "cell_type": "code",
   "execution_count": 4,
   "id": "d5a745e5",
   "metadata": {},
   "outputs": [
    {
     "name": "stdout",
     "output_type": "stream",
     "text": [
      "long post time\n",
      "long post time\n",
      "long post time\n",
      "long post time\n",
      "long post time\n",
      "Mouse RL070, run 29  registered no-lick hit. changed to too soon\n",
      "long post time\n",
      "long post time\n",
      "Mouse RL117, run 29  registered no-lick hit. changed to too soon\n",
      "Mouse RL117, run 29  registered no-lick hit. changed to too soon\n",
      "long post time\n",
      "long post time\n",
      "long post time\n",
      "Mouse RL116, run 32  registered no-lick hit. changed to too soon\n",
      "Mouse RL116, run 32  registered no-lick hit. changed to too soon\n",
      "Mouse RL116, run 32  registered no-lick hit. changed to too soon\n",
      "long post time\n",
      "ALERT SESSIONS NOT SUBSAMPLED\n",
      "long post time\n",
      "long post time\n",
      "long post time\n",
      "long post time\n",
      "long post time\n",
      "long post time\n",
      "long post time\n",
      "long post time\n",
      "long post time\n",
      "long post time\n",
      "long post time\n",
      "{0: instance Mouse J064, run 10 of Session class, 1: instance Mouse J064, run 11 of Session class, 2: instance Mouse J064, run 14 of Session class, 3: instance Mouse RL070, run 28 of Session class, 4: instance Mouse RL070, run 29 of Session class, 5: instance Mouse RL117, run 26 of Session class, 6: instance Mouse RL117, run 29 of Session class, 7: instance Mouse RL117, run 30 of Session class, 8: instance Mouse RL123, run 22 of Session class, 9: instance Mouse RL116, run 32 of Session class, 10: instance Mouse RL116, run 33 of Session class}\n",
      "URH and ARM trials have been labelled\n",
      "------------------------------------\n",
      "11 sessions are loaded\n"
     ]
    }
   ],
   "source": [
    "## Load data in form of Jimmy's PAS object\n",
    "pas = PoolAcrossSessions(save_PCA=False, subsample_sessions=False,\n",
    "                         remove_targets=False, remove_toosoon=True)\n",
    "\n",
    "## Create sessions object from PAS:\n",
    "sessions = {}\n",
    "int_keys_pas_sessions = pas.sessions.keys()\n",
    "for i_s, ses in enumerate(pas.sessions.values()):  # load into sessions dict (in case pas skips an int as key)\n",
    "    ses.signature = f'{ses.mouse}_R{ses.run_number}'\n",
    "    sessions[i_s] = ses\n",
    "print(sessions)\n",
    "assert len(sessions) == 11\n",
    "pof.label_urh_arm(sessions=sessions)  # label arm and urh trials\n",
    "\n",
    "print('------------------------------------')\n",
    "print(f'{len(sessions)} sessions are loaded')\n",
    "# tp_dict = pof.create_tp_dict(sessions=sessions)\n"
   ]
  },
  {
   "cell_type": "markdown",
   "id": "59e236ee",
   "metadata": {},
   "source": [
    "## Load a single recording session"
   ]
  },
  {
   "cell_type": "markdown",
   "id": "9364dc57",
   "metadata": {},
   "source": [
    "Sessions are indexed by ints."
   ]
  },
  {
   "cell_type": "code",
   "execution_count": 4,
   "id": "a17bf092",
   "metadata": {},
   "outputs": [
    {
     "name": "stdout",
     "output_type": "stream",
     "text": [
      "Full name: Mouse J064, run 10. Short name (that we often use as identifier): J064_R10\n",
      "Session J064_R10 has 471 cells.\n",
      "Of these, 319 are in S1 and 152 in S2\n",
      "There are 162 trials in total.\n",
      "There are 61 trials with 0 cells stimulated\n",
      "There are 9 trials with 5 cells stimulated\n",
      "There are 8 trials with 10 cells stimulated\n",
      "There are 7 trials with 20 cells stimulated\n",
      "There are 13 trials with 30 cells stimulated\n",
      "There are 8 trials with 40 cells stimulated\n",
      "There are 9 trials with 50 cells stimulated\n",
      "There are 47 trials with 150 cells stimulated\n",
      "There are 2 trials with outcome arm\n",
      "There are 31 trials with outcome cr\n",
      "There are 28 trials with outcome fp\n",
      "There are 66 trials with outcome hit\n",
      "There are 16 trials with outcome miss\n",
      "There are 13 trials with outcome too_\n",
      "There are 6 trials with outcome urh\n"
     ]
    }
   ],
   "source": [
    "example_session = sessions[0]  # get the first session\n",
    "\n",
    "## Identify the session:\n",
    "print(f'Full name: {example_session.name}. Short name (that we often use as identifier): {example_session.signature}')\n",
    "\n",
    "## Some important data objects:\n",
    "## Number of cells, and region identity:\n",
    "print(f'Session {example_session.signature} has {example_session.n_cells} cells.')\n",
    "print(f'Of these, {example_session.s1_bool.sum()} are in S1 and {example_session.s2_bool.sum()} in S2')\n",
    "assert example_session.s1_bool.sum() + example_session.s2_bool.sum() == example_session.n_cells \n",
    "\n",
    "## Number of trial, and stimulation:\n",
    "print(f'There are {example_session.n_trials} trials in total.')\n",
    "assert example_session.n_trials == len(example_session.trial_subsets)\n",
    "for n_stim in np.unique(example_session.trial_subsets):\n",
    "    print(f'There are {np.sum(example_session.trial_subsets == n_stim)} trials with {n_stim} cells stimulated')\n",
    "\n",
    "## Number of trials, and outcomes:\n",
    "assert example_session.n_trials == len(example_session.outcome)\n",
    "for behav_outcome in np.unique(example_session.outcome):\n",
    "    print(f'There are {np.sum(example_session.outcome == behav_outcome)} trials with outcome {behav_outcome}')\n"
   ]
  },
  {
   "cell_type": "code",
   "execution_count": 5,
   "id": "1ad7cc14",
   "metadata": {},
   "outputs": [
    {
     "name": "stdout",
     "output_type": "stream",
     "text": [
      "Session J064_R10 had 10 reward only trials.\n"
     ]
    }
   ],
   "source": [
    "## Data:\n",
    "\n",
    "# example_session.filter_ps_time  # time array of a trial, in seconds \n",
    "# example_session.filter_ps_array  # frame array of  trial, in frames\n",
    "assert example_session.filter_ps_time.shape == example_session.filter_ps_array.shape\n",
    "\n",
    "## Neural data:\n",
    "# example_session.behaviour_trials  # neural data during behaviour trials\n",
    "assert example_session.behaviour_trials.ndim == 3\n",
    "assert example_session.behaviour_trials.shape[0] == example_session.n_cells\n",
    "assert example_session.behaviour_trials.shape[1] == example_session.n_trials\n",
    "assert example_session.behaviour_trials.shape[2] == example_session.n_times\n",
    "\n",
    "# example_session.pre_rew_trials  # neural data without behaviour (spontaneous reward deliveries at start of trial)\n",
    "assert example_session.pre_rew_trials.ndim == 3\n",
    "assert example_session.pre_rew_trials.shape[0] == example_session.n_cells\n",
    "print(f'Session {example_session.signature} had {example_session.pre_rew_trials.shape[1]} reward only trials.')\n",
    "assert example_session.pre_rew_trials.shape[2] == example_session.n_times\n",
    "\n"
   ]
  },
  {
   "cell_type": "code",
   "execution_count": 6,
   "id": "2d012d2e",
   "metadata": {},
   "outputs": [],
   "source": [
    "## For Fig 1-3 of the manuscript, we normalize each trial/neuron with respect to their pre-stimulus baseline\n",
    "## That is done by the following functions, which returns the normalized data, sorted, with some other options: \n",
    "\n",
    "(data_use_mat_norm, data_use_mat_norm_s1, data_use_mat_norm_s2, data_spont_mat_norm, ol_neurons_s1, ol_neurons_s2, outcome_arr,\n",
    "        time_ticks, time_tick_labels, time_axis) = pop.normalise_raster_data(session=example_session, sorting_method='sum', sort_tt_list=['hit'],\n",
    "                            sort_neurons=True, filter_150_stim=False)"
   ]
  },
  {
   "cell_type": "markdown",
   "id": "a66d404a",
   "metadata": {},
   "source": [
    "For more information, see the notebooks in `popping-off/notebooks/Paper Figures/` that show what functions were used to create the figures of the Rowland ea manuscript."
   ]
  }
 ],
 "metadata": {
  "kernelspec": {
   "display_name": "Python 3 (ipykernel)",
   "language": "python",
   "name": "python3"
  },
  "language_info": {
   "codemirror_mode": {
    "name": "ipython",
    "version": 3
   },
   "file_extension": ".py",
   "mimetype": "text/x-python",
   "name": "python",
   "nbconvert_exporter": "python",
   "pygments_lexer": "ipython3",
   "version": "3.7.10"
  }
 },
 "nbformat": 4,
 "nbformat_minor": 5
}
