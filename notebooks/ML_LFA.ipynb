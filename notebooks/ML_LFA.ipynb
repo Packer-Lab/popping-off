{
 "cells": [
  {
   "cell_type": "code",
   "execution_count": 1,
   "id": "fourth-anger",
   "metadata": {},
   "outputs": [],
   "source": [
    "%load_ext autoreload\n",
    "%autoreload 2"
   ]
  },
  {
   "cell_type": "code",
   "execution_count": 2,
   "id": "whole-hostel",
   "metadata": {},
   "outputs": [
    {
     "name": "stdout",
     "output_type": "stream",
     "text": [
      "/home/loidolt/RowlandEtAl/popping-off/popoff/popoff/loadpaths.py\n",
      "/home/loidolt/RowlandEtAl/Vape\n"
     ]
    }
   ],
   "source": [
    "import os\n",
    "import sys\n",
    "import numpy as np\n",
    "from scipy import stats\n",
    "import matplotlib.pyplot as plt\n",
    "from cycler import cycler\n",
    "import popoff\n",
    "import pop_off_functions as pof\n",
    "import pop_off_plotting as pop\n",
    "from Session import SessionLite\n",
    "from linear_model import PoolAcrossSessions, LinearModel, MultiSessionModel\n",
    "from utils.utils_funcs import d_prime\n",
    "from tqdm import tqdm\n",
    "import svgutils.compose as sc\n",
    "import IPython.display as ip"
   ]
  },
  {
   "cell_type": "code",
   "execution_count": 13,
   "id": "prospective-egyptian",
   "metadata": {},
   "outputs": [
    {
     "ename": "TypeError",
     "evalue": "__init__() got an unexpected keyword argument 'pre_start'",
     "output_type": "error",
     "traceback": [
      "\u001b[0;31m---------------------------------------------------------------------------\u001b[0m",
      "\u001b[0;31mTypeError\u001b[0m                                 Traceback (most recent call last)",
      "\u001b[0;32m<ipython-input-13-db0ec5e9ce9e>\u001b[0m in \u001b[0;36m<module>\u001b[0;34m\u001b[0m\n\u001b[1;32m      1\u001b[0m pas = PoolAcrossSessions(remove_targets=False, subsample_sessions=False,\n\u001b[0;32m----> 2\u001b[0;31m                          remove_toosoon=True, pre_start=-0.51)\n\u001b[0m\u001b[1;32m      3\u001b[0m \u001b[0;34m\u001b[0m\u001b[0m\n",
      "\u001b[0;31mTypeError\u001b[0m: __init__() got an unexpected keyword argument 'pre_start'"
     ]
    }
   ],
   "source": [
    "pas = PoolAcrossSessions(remove_targets=False, subsample_sessions=False,\n",
    "                         remove_toosoon=True, pre_start=-0.51)\n",
    "    "
   ]
  },
  {
   "cell_type": "code",
   "execution_count": 10,
   "id": "listed-aspect",
   "metadata": {},
   "outputs": [
    {
     "data": {
      "text/plain": [
       "477"
      ]
     },
     "execution_count": 10,
     "metadata": {},
     "output_type": "execute_result"
    }
   ],
   "source": [
    "pas.linear_models[0].session.n_neurons"
   ]
  },
  {
   "cell_type": "code",
   "execution_count": 11,
   "id": "military-passage",
   "metadata": {},
   "outputs": [
    {
     "data": {
      "text/plain": [
       "(471, 162, 420)"
      ]
     },
     "execution_count": 11,
     "metadata": {},
     "output_type": "execute_result"
    }
   ],
   "source": [
    "pas.linear_models[0].flu.shape"
   ]
  },
  {
   "cell_type": "code",
   "execution_count": null,
   "id": "everyday-acquisition",
   "metadata": {},
   "outputs": [],
   "source": []
  }
 ],
 "metadata": {
  "kernelspec": {
   "display_name": "Python 3",
   "language": "python",
   "name": "python3"
  },
  "language_info": {
   "codemirror_mode": {
    "name": "ipython",
    "version": 3
   },
   "file_extension": ".py",
   "mimetype": "text/x-python",
   "name": "python",
   "nbconvert_exporter": "python",
   "pygments_lexer": "ipython3",
   "version": "3.7.10"
  }
 },
 "nbformat": 4,
 "nbformat_minor": 5
}
