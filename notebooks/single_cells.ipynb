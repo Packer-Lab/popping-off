{
 "cells": [
  {
   "cell_type": "code",
   "execution_count": 1,
   "metadata": {},
   "outputs": [
    {
     "name": "stdout",
     "output_type": "stream",
     "text": [
      "/home/loidolt/RowlandEtAl/popping-off/popoff/popoff/loadpaths.py\n",
      "/home/loidolt/RowlandEtAl/Vape\n"
     ]
    }
   ],
   "source": [
    "import popoff\n",
    "import numpy as np \n",
    "import matplotlib.pyplot as plt\n",
    "import matplotlib\n",
    "from average_traces import SingleCells\n",
    "from scipy import stats\n",
    "import os\n",
    "import pickle\n",
    "import math\n",
    "from statsmodels.stats import multitest\n",
    "import copy\n",
    "import sys\n",
    "from Session import Session, SessionLite\n",
    "import seaborn as sns"
   ]
  },
  {
   "cell_type": "code",
   "execution_count": 3,
   "metadata": {},
   "outputs": [],
   "source": [
    "sys.path.append(os.path.expanduser('~/Documents/code'))\n",
    "plt.rcParams['pdf.fonttype'] = 42\n",
    "\n",
    "# global plotting params\n",
    "plt.style.use('ggplot')\n",
    "# gg plot colors are nice but want seaborn style\n",
    "colors = plt.rcParams[\"axes.prop_cycle\"].by_key()[\"color\"]\n",
    "\n",
    "figure_path = '../figures/mloidolt/'"
   ]
  },
  {
   "cell_type": "code",
   "execution_count": 4,
   "metadata": {},
   "outputs": [],
   "source": [
    "# global plotting params\n",
    "sns.set()\n",
    "sns.set_style('white')\n",
    "params = {'legend.fontsize': 'xx-large',\n",
    "          'text.usetex':False,\n",
    "         'axes.labelsize': 'xx-large',\n",
    "         'axes.titlesize':'xx-large',\n",
    "         'xtick.labelsize':'xx-large',\n",
    "         'ytick.labelsize':'xx-large'}\n",
    "\n",
    "plt.rc(\"axes.spines\", top=False, right=False) # despine\n",
    "\n",
    "plt.rcParams.update(params)"
   ]
  },
  {
   "cell_type": "code",
   "execution_count": 5,
   "metadata": {},
   "outputs": [],
   "source": [
    "def load_run(session):\n",
    "    run_path = os.path.join(session.pkl_path, session.mouse,\n",
    "                            f'run{session.run_number}.pkl')\n",
    "    \n",
    "    with open(run_path, 'rb') as f:\n",
    "        r = pickle.load(f)\n",
    "        session.run = r\n",
    "    return session"
   ]
  },
  {
   "cell_type": "code",
   "execution_count": 6,
   "metadata": {},
   "outputs": [],
   "source": [
    "single = SingleCells()\n",
    "# Refactor code here out into this class when need to reuse\n",
    "sessions = single.sessions\n",
    "session = sessions[1]"
   ]
  },
  {
   "cell_type": "code",
   "execution_count": 7,
   "metadata": {},
   "outputs": [],
   "source": [
    "def get_range(session, plot=False):\n",
    "\n",
    "    if session.mouse == 'RL048' or session.mouse == 'J048':\n",
    "        # Need to be same length to do wilcoxon\n",
    "        # Rob does 500ms  so 3 ish frames\n",
    "        n_frames = 3\n",
    "        pre_end = 16\n",
    "        post_start = 30\n",
    "        \n",
    "    else:\n",
    "        # 3 frames above so 15 frames here\n",
    "        n_frames = 15\n",
    "        pre_end = 100\n",
    "        post_start = 160\n",
    "\n",
    "    pre_range = [pre_end-n_frames, pre_end]\n",
    "    post_range = [post_start, post_start+n_frames]\n",
    "\n",
    "    if plot:\n",
    "        plt.plot(np.mean(session.behaviour_trials, (0,1)))\n",
    "\n",
    "        for pre, post in zip(post_range, pre_range):\n",
    "            plt.axvline(pre, color='blue')\n",
    "            plt.axvline(post, color='red')\n",
    "    \n",
    "    return pre_range, post_range"
   ]
  },
  {
   "cell_type": "code",
   "execution_count": 8,
   "metadata": {},
   "outputs": [
    {
     "data": {
      "text/plain": [
       "([85, 100], [160, 175])"
      ]
     },
     "execution_count": 8,
     "metadata": {},
     "output_type": "execute_result"
    },
    {
     "data": {
      "image/png": "[encoded data removed]",
      "text/plain": [
       "<Figure size 720x360 with 2 Axes>"
      ]
     },
     "metadata": {},
     "output_type": "display_data"
    }
   ],
   "source": [
    "plt.figure(figsize=(10,5))\n",
    "\n",
    "plt.subplot(2,2,1)\n",
    "get_range(sessions[2], plot=True)\n",
    "\n",
    "plt.subplot(2,2,2)\n",
    "\n",
    "get_range(sessions[0], plot=True)"
   ]
  },
  {
   "cell_type": "code",
   "execution_count": 9,
   "metadata": {},
   "outputs": [],
   "source": [
    "def prepare_population(arr, frames, mean=True):\n",
    "    \n",
    "    arr_frames = arr[:, :, range(*frames)] \n",
    "    if mean:\n",
    "        return np.mean(arr_frames, 2)\n",
    "    else:\n",
    "        return np.reshape(arr_frames, (arr_frames.shape[0], arr_frames.shape[1] * arr_frames.shape[2]))"
   ]
  },
  {
   "cell_type": "code",
   "execution_count": 10,
   "metadata": {},
   "outputs": [],
   "source": [
    "def get_sig_pass(session, fdr_rate=0.1, ps_type=1, subset=[150], outcome='all',\n",
    "                 cells='all', mask_targets=False, direction='both'):\n",
    "    \n",
    "    #arr = session.behaviour_trials[:, session.photostim==ps_type, :]\n",
    "    \n",
    "    if mask_targets:\n",
    "        behaviour_trials = np.ma.array(session.behaviour_trials, mask=session.is_target, copy=True)\n",
    "    else:\n",
    "        behaviour_trials = session.behaviour_trials\n",
    "    \n",
    "    if len(subset) == 1:\n",
    "        trials_use = session.trial_subsets == subset[0]\n",
    "    else:\n",
    "        trial_bools = [session.trial_subsets==sub for sub in subset]\n",
    "        trials_use = np.logical_or.reduce(trial_bools)\n",
    "        \n",
    "    if outcome != 'all':\n",
    "        trials_use = np.logical_and(trials_use, session.outcome==outcome)\n",
    "        \n",
    "    if outcome =='spont_rew':\n",
    "        arr = session.pre_rew_trials\n",
    "    else:\n",
    "        arr = behaviour_trials[:, trials_use, :]\n",
    "    \n",
    "    if cells == 's1':\n",
    "        arr = arr[session.s1_bool, :, :]\n",
    "    elif cells == 's2':\n",
    "        arr = arr[session.s2_bool, :, :]\n",
    "        \n",
    "    pre_frames, post_frames = get_range(session, plot=False)\n",
    "\n",
    "    pre_array = prepare_population(copy.deepcopy(arr), pre_frames)\n",
    "    post_array = prepare_population(copy.deepcopy(arr), post_frames)\n",
    "    \n",
    "    \n",
    "    if outcome != 'spont_rew' and mask_targets==True:  # This can be made less shit\n",
    "        p_vals = [stats.wilcoxon(pre, post)[1] for pre, post in zip(pre_array, post_array)\n",
    "                 if not pre.mask.all()]\n",
    "    else:\n",
    "        p_vals = [stats.wilcoxon(pre, post)[1] for pre, post in zip(pre_array, post_array)]\n",
    "        \n",
    "    p_vals = np.array(p_vals)\n",
    "\n",
    "    sig_cells, correct_pval, _, _ = multitest.multipletests(p_vals, alpha=fdr_rate, method='fdr_bh',\n",
    "                                                            is_sorted=False, returnsorted=False)\n",
    "    \n",
    "    positive = np.mean(post_array, 1) - np.mean(pre_array, 1) > 0\n",
    "    \n",
    "    if direction == 'positive':\n",
    "        sig_cells = np.logical_and(sig_cells, positive)\n",
    "    elif direction == 'negative': \n",
    "        print('why howdy ya;;')\n",
    "        sig_cells = np.logical_and(sig_cells, ~positive)\n",
    "    \n",
    "    return sig_cells"
   ]
  },
  {
   "cell_type": "code",
   "execution_count": 11,
   "metadata": {},
   "outputs": [
    {
     "ename": "AttributeError",
     "evalue": "'SessionLite' object has no attribute 'is_target'",
     "output_type": "error",
     "traceback": [
      "\u001b[0;31m---------------------------------------------------------------------------\u001b[0m",
      "\u001b[0;31mAttributeError\u001b[0m                            Traceback (most recent call last)",
      "\u001b[0;32m<ipython-input-11-e739788f50b9>\u001b[0m in \u001b[0;36m<module>\u001b[0;34m\u001b[0m\n\u001b[1;32m     21\u001b[0m \u001b[0;34m\u001b[0m\u001b[0m\n\u001b[1;32m     22\u001b[0m             sig_pass = get_sig_pass(session, subset=subset, outcome=outcome, cells=region, \n\u001b[0;32m---> 23\u001b[0;31m                                     mask_targets=True, direction=direction)\n\u001b[0m\u001b[1;32m     24\u001b[0m \u001b[0;34m\u001b[0m\u001b[0m\n\u001b[1;32m     25\u001b[0m             \u001b[0;32mif\u001b[0m \u001b[0moutcome\u001b[0m\u001b[0;34m==\u001b[0m\u001b[0;34m'miss'\u001b[0m\u001b[0;34m:\u001b[0m\u001b[0;34m\u001b[0m\u001b[0;34m\u001b[0m\u001b[0m\n",
      "\u001b[0;32m<ipython-input-10-c4dd519cdc35>\u001b[0m in \u001b[0;36mget_sig_pass\u001b[0;34m(session, fdr_rate, ps_type, subset, outcome, cells, mask_targets, direction)\u001b[0m\n\u001b[1;32m      5\u001b[0m \u001b[0;34m\u001b[0m\u001b[0m\n\u001b[1;32m      6\u001b[0m     \u001b[0;32mif\u001b[0m \u001b[0mmask_targets\u001b[0m\u001b[0;34m:\u001b[0m\u001b[0;34m\u001b[0m\u001b[0;34m\u001b[0m\u001b[0m\n\u001b[0;32m----> 7\u001b[0;31m         \u001b[0mbehaviour_trials\u001b[0m \u001b[0;34m=\u001b[0m \u001b[0mnp\u001b[0m\u001b[0;34m.\u001b[0m\u001b[0mma\u001b[0m\u001b[0;34m.\u001b[0m\u001b[0marray\u001b[0m\u001b[0;34m(\u001b[0m\u001b[0msession\u001b[0m\u001b[0;34m.\u001b[0m\u001b[0mbehaviour_trials\u001b[0m\u001b[0;34m,\u001b[0m \u001b[0mmask\u001b[0m\u001b[0;34m=\u001b[0m\u001b[0msession\u001b[0m\u001b[0;34m.\u001b[0m\u001b[0mis_target\u001b[0m\u001b[0;34m,\u001b[0m \u001b[0mcopy\u001b[0m\u001b[0;34m=\u001b[0m\u001b[0;32mTrue\u001b[0m\u001b[0;34m)\u001b[0m\u001b[0;34m\u001b[0m\u001b[0;34m\u001b[0m\u001b[0m\n\u001b[0m\u001b[1;32m      8\u001b[0m     \u001b[0;32melse\u001b[0m\u001b[0;34m:\u001b[0m\u001b[0;34m\u001b[0m\u001b[0;34m\u001b[0m\u001b[0m\n\u001b[1;32m      9\u001b[0m         \u001b[0mbehaviour_trials\u001b[0m \u001b[0;34m=\u001b[0m \u001b[0msession\u001b[0m\u001b[0;34m.\u001b[0m\u001b[0mbehaviour_trials\u001b[0m\u001b[0;34m\u001b[0m\u001b[0;34m\u001b[0m\u001b[0m\n",
      "\u001b[0;31mAttributeError\u001b[0m: 'SessionLite' object has no attribute 'is_target'"
     ]
    }
   ],
   "source": [
    "outcomes = ['hit', 'miss', 'fp', 'cr', 'spont_rew']\n",
    "direction = 'both'\n",
    "\n",
    "d = {}\n",
    "\n",
    "    \n",
    "for region in ['s1', 's2']:\n",
    "    \n",
    "    d[region] = {}\n",
    "    \n",
    "    for outcome in outcomes:\n",
    "\n",
    "        outcome_passes = []\n",
    "\n",
    "        for session in sessions.values():\n",
    "\n",
    "            if outcome in ['hit', 'miss']:\n",
    "                subset = [20,30,40,50]\n",
    "            else:\n",
    "                subset = [0]\n",
    "\n",
    "            sig_pass = get_sig_pass(session, subset=subset, outcome=outcome, cells=region, \n",
    "                                    mask_targets=True, direction=direction)\n",
    "\n",
    "            if outcome=='miss':\n",
    "                print(sum(sig_pass))\n",
    "            outcome_passes.append(sum(sig_pass) / len(sig_pass) * 100)\n",
    "\n",
    "        d[region][outcome] = outcome_passes"
   ]
  },
  {
   "cell_type": "code",
   "execution_count": 12,
   "metadata": {},
   "outputs": [
    {
     "ename": "ValueError",
     "evalue": "Dimensions of labels and X must be compatible",
     "output_type": "error",
     "traceback": [
      "\u001b[0;31m---------------------------------------------------------------------------\u001b[0m",
      "\u001b[0;31mValueError\u001b[0m                                Traceback (most recent call last)",
      "\u001b[0;32m<ipython-input-12-ea2926a150b6>\u001b[0m in \u001b[0;36m<module>\u001b[0;34m\u001b[0m\n\u001b[1;32m     15\u001b[0m                        \u001b[0mpositions\u001b[0m\u001b[0;34m=\u001b[0m\u001b[0mtick_positions\u001b[0m\u001b[0;34m,\u001b[0m\u001b[0;34m\u001b[0m\u001b[0;34m\u001b[0m\u001b[0m\n\u001b[1;32m     16\u001b[0m                        \u001b[0mwidths\u001b[0m\u001b[0;34m=\u001b[0m\u001b[0;36m0.2\u001b[0m\u001b[0;34m,\u001b[0m\u001b[0;34m\u001b[0m\u001b[0;34m\u001b[0m\u001b[0m\n\u001b[0;32m---> 17\u001b[0;31m                        \u001b[0mpatch_artist\u001b[0m\u001b[0;34m=\u001b[0m\u001b[0;32mTrue\u001b[0m\u001b[0;34m\u001b[0m\u001b[0;34m\u001b[0m\u001b[0m\n\u001b[0m\u001b[1;32m     18\u001b[0m                        )\n\u001b[1;32m     19\u001b[0m \u001b[0;34m\u001b[0m\u001b[0m\n",
      "\u001b[0;32m~/miniconda3/envs/pope/lib/python3.7/site-packages/matplotlib/pyplot.py\u001b[0m in \u001b[0;36mboxplot\u001b[0;34m(x, notch, sym, vert, whis, positions, widths, patch_artist, bootstrap, usermedians, conf_intervals, meanline, showmeans, showcaps, showbox, showfliers, boxprops, labels, flierprops, medianprops, meanprops, capprops, whiskerprops, manage_ticks, autorange, zorder, data)\u001b[0m\n\u001b[1;32m   2526\u001b[0m         \u001b[0mwhiskerprops\u001b[0m\u001b[0;34m=\u001b[0m\u001b[0mwhiskerprops\u001b[0m\u001b[0;34m,\u001b[0m \u001b[0mmanage_ticks\u001b[0m\u001b[0;34m=\u001b[0m\u001b[0mmanage_ticks\u001b[0m\u001b[0;34m,\u001b[0m\u001b[0;34m\u001b[0m\u001b[0;34m\u001b[0m\u001b[0m\n\u001b[1;32m   2527\u001b[0m         \u001b[0mautorange\u001b[0m\u001b[0;34m=\u001b[0m\u001b[0mautorange\u001b[0m\u001b[0;34m,\u001b[0m \u001b[0mzorder\u001b[0m\u001b[0;34m=\u001b[0m\u001b[0mzorder\u001b[0m\u001b[0;34m,\u001b[0m\u001b[0;34m\u001b[0m\u001b[0;34m\u001b[0m\u001b[0m\n\u001b[0;32m-> 2528\u001b[0;31m         **({\"data\": data} if data is not None else {}))\n\u001b[0m\u001b[1;32m   2529\u001b[0m \u001b[0;34m\u001b[0m\u001b[0m\n\u001b[1;32m   2530\u001b[0m \u001b[0;34m\u001b[0m\u001b[0m\n",
      "\u001b[0;32m~/miniconda3/envs/pope/lib/python3.7/site-packages/matplotlib/__init__.py\u001b[0m in \u001b[0;36minner\u001b[0;34m(ax, data, *args, **kwargs)\u001b[0m\n\u001b[1;32m   1445\u001b[0m     \u001b[0;32mdef\u001b[0m \u001b[0minner\u001b[0m\u001b[0;34m(\u001b[0m\u001b[0max\u001b[0m\u001b[0;34m,\u001b[0m \u001b[0;34m*\u001b[0m\u001b[0margs\u001b[0m\u001b[0;34m,\u001b[0m \u001b[0mdata\u001b[0m\u001b[0;34m=\u001b[0m\u001b[0;32mNone\u001b[0m\u001b[0;34m,\u001b[0m \u001b[0;34m**\u001b[0m\u001b[0mkwargs\u001b[0m\u001b[0;34m)\u001b[0m\u001b[0;34m:\u001b[0m\u001b[0;34m\u001b[0m\u001b[0;34m\u001b[0m\u001b[0m\n\u001b[1;32m   1446\u001b[0m         \u001b[0;32mif\u001b[0m \u001b[0mdata\u001b[0m \u001b[0;32mis\u001b[0m \u001b[0;32mNone\u001b[0m\u001b[0;34m:\u001b[0m\u001b[0;34m\u001b[0m\u001b[0;34m\u001b[0m\u001b[0m\n\u001b[0;32m-> 1447\u001b[0;31m             \u001b[0;32mreturn\u001b[0m \u001b[0mfunc\u001b[0m\u001b[0;34m(\u001b[0m\u001b[0max\u001b[0m\u001b[0;34m,\u001b[0m \u001b[0;34m*\u001b[0m\u001b[0mmap\u001b[0m\u001b[0;34m(\u001b[0m\u001b[0msanitize_sequence\u001b[0m\u001b[0;34m,\u001b[0m \u001b[0margs\u001b[0m\u001b[0;34m)\u001b[0m\u001b[0;34m,\u001b[0m \u001b[0;34m**\u001b[0m\u001b[0mkwargs\u001b[0m\u001b[0;34m)\u001b[0m\u001b[0;34m\u001b[0m\u001b[0;34m\u001b[0m\u001b[0m\n\u001b[0m\u001b[1;32m   1448\u001b[0m \u001b[0;34m\u001b[0m\u001b[0m\n\u001b[1;32m   1449\u001b[0m         \u001b[0mbound\u001b[0m \u001b[0;34m=\u001b[0m \u001b[0mnew_sig\u001b[0m\u001b[0;34m.\u001b[0m\u001b[0mbind\u001b[0m\u001b[0;34m(\u001b[0m\u001b[0max\u001b[0m\u001b[0;34m,\u001b[0m \u001b[0;34m*\u001b[0m\u001b[0margs\u001b[0m\u001b[0;34m,\u001b[0m \u001b[0;34m**\u001b[0m\u001b[0mkwargs\u001b[0m\u001b[0;34m)\u001b[0m\u001b[0;34m\u001b[0m\u001b[0;34m\u001b[0m\u001b[0m\n",
      "\u001b[0;32m~/miniconda3/envs/pope/lib/python3.7/site-packages/matplotlib/axes/_axes.py\u001b[0m in \u001b[0;36mboxplot\u001b[0;34m(self, x, notch, sym, vert, whis, positions, widths, patch_artist, bootstrap, usermedians, conf_intervals, meanline, showmeans, showcaps, showbox, showfliers, boxprops, labels, flierprops, medianprops, meanprops, capprops, whiskerprops, manage_ticks, autorange, zorder)\u001b[0m\n\u001b[1;32m   3682\u001b[0m \u001b[0;34m\u001b[0m\u001b[0m\n\u001b[1;32m   3683\u001b[0m         bxpstats = cbook.boxplot_stats(x, whis=whis, bootstrap=bootstrap,\n\u001b[0;32m-> 3684\u001b[0;31m                                        labels=labels, autorange=autorange)\n\u001b[0m\u001b[1;32m   3685\u001b[0m         \u001b[0;32mif\u001b[0m \u001b[0mnotch\u001b[0m \u001b[0;32mis\u001b[0m \u001b[0;32mNone\u001b[0m\u001b[0;34m:\u001b[0m\u001b[0;34m\u001b[0m\u001b[0;34m\u001b[0m\u001b[0m\n\u001b[1;32m   3686\u001b[0m             \u001b[0mnotch\u001b[0m \u001b[0;34m=\u001b[0m \u001b[0mrcParams\u001b[0m\u001b[0;34m[\u001b[0m\u001b[0;34m'boxplot.notch'\u001b[0m\u001b[0;34m]\u001b[0m\u001b[0;34m\u001b[0m\u001b[0;34m\u001b[0m\u001b[0m\n",
      "\u001b[0;32m~/miniconda3/envs/pope/lib/python3.7/site-packages/matplotlib/cbook/__init__.py\u001b[0m in \u001b[0;36mboxplot_stats\u001b[0;34m(X, whis, bootstrap, labels, autorange)\u001b[0m\n\u001b[1;32m   1141\u001b[0m         \u001b[0mlabels\u001b[0m \u001b[0;34m=\u001b[0m \u001b[0mitertools\u001b[0m\u001b[0;34m.\u001b[0m\u001b[0mrepeat\u001b[0m\u001b[0;34m(\u001b[0m\u001b[0;32mNone\u001b[0m\u001b[0;34m)\u001b[0m\u001b[0;34m\u001b[0m\u001b[0;34m\u001b[0m\u001b[0m\n\u001b[1;32m   1142\u001b[0m     \u001b[0;32melif\u001b[0m \u001b[0mlen\u001b[0m\u001b[0;34m(\u001b[0m\u001b[0mlabels\u001b[0m\u001b[0;34m)\u001b[0m \u001b[0;34m!=\u001b[0m \u001b[0mncols\u001b[0m\u001b[0;34m:\u001b[0m\u001b[0;34m\u001b[0m\u001b[0;34m\u001b[0m\u001b[0m\n\u001b[0;32m-> 1143\u001b[0;31m         \u001b[0;32mraise\u001b[0m \u001b[0mValueError\u001b[0m\u001b[0;34m(\u001b[0m\u001b[0;34m\"Dimensions of labels and X must be compatible\"\u001b[0m\u001b[0;34m)\u001b[0m\u001b[0;34m\u001b[0m\u001b[0;34m\u001b[0m\u001b[0m\n\u001b[0m\u001b[1;32m   1144\u001b[0m \u001b[0;34m\u001b[0m\u001b[0m\n\u001b[1;32m   1145\u001b[0m     \u001b[0minput_whis\u001b[0m \u001b[0;34m=\u001b[0m \u001b[0mwhis\u001b[0m\u001b[0;34m\u001b[0m\u001b[0;34m\u001b[0m\u001b[0m\n",
      "\u001b[0;31mValueError\u001b[0m: Dimensions of labels and X must be compatible"
     ]
    },
    {
     "data": {
      "image/png": "[encoded data removed]",
      "text/plain": [
       "<Figure size 720x360 with 1 Axes>"
      ]
     },
     "metadata": {},
     "output_type": "display_data"
    }
   ],
   "source": [
    "plt.figure(figsize=(10,5))\n",
    "\n",
    "for idx, region in enumerate(['s1', 's2']):\n",
    "\n",
    "    if idx == 0:\n",
    "        labels =  [k for k in d[region].keys()]\n",
    "    else:\n",
    "        labels = None\n",
    "    \n",
    "    s1s2_offset = 0.3\n",
    "    tick_positions = np.arange(len(outcomes))*0.8 + idx*s1s2_offset\n",
    "        \n",
    "    b_ax = plt.boxplot([v for v in d[region].values()],\n",
    "                       labels=labels,\n",
    "                       positions=tick_positions,\n",
    "                       widths=0.2,\n",
    "                       patch_artist=True\n",
    "                       )\n",
    "    \n",
    "    plt.xticks(tick_positions-s1s2_offset/2, labels)\n",
    "    plt.ylabel('Responsive cells (%)')\n",
    "    \n",
    "    for element in ['boxes']:\n",
    "        plt.setp(b_ax[element], color=colors[idx]) \n",
    "    \n",
    "    for element in ['whiskers', 'fliers', 'medians', 'caps']:\n",
    "        plt.setp(b_ax[element], color='black') \n",
    "        \n",
    "    for patch in b_ax['boxes']:\n",
    "        patch.set(facecolor=colors[idx])       \n",
    "\n",
    "    plt.suptitle(direction, fontsize='20')\n",
    "\n",
    "plt.savefig(os.path.join(figure_path, 'boxey.pdf'), bbox_inches=\"tight\")"
   ]
  },
  {
   "cell_type": "code",
   "execution_count": null,
   "metadata": {},
   "outputs": [],
   "source": [
    "60 * (2/3)"
   ]
  },
  {
   "cell_type": "code",
   "execution_count": null,
   "metadata": {},
   "outputs": [],
   "source": [
    "#### USE ME FOR SANITY CHECKS TO LOOK AT TRIAL AVERAGED CELL TRACES AND SUITE2p IDs\n",
    "# siggy = get_sig_pass(session, fdr_rate=0.1, ps_type=1, subset=[20,30,40,50], outcome='hit', cells='all')\n",
    "\n",
    "# s2_siggys = np.logical_and(session.s2_bool, siggy)\n",
    "\n",
    "# b = session.behaviour_trials\n",
    "\n",
    "# t_idx = np.logical_and(session.photostim==1, session.outcome=='hit')\n",
    "# b = b[:, t_idx, :]\n",
    "# b = b[s2_siggys, :, :]\n",
    "\n",
    "# # This analysis will only work if no cells have been filtered\n",
    "# assert len(s2_siggys) == session.behaviour_trials.shape[0] == session.unfiltered_n_cells\n",
    "# session.load_data()\n",
    "# assert session.behaviour_trials.shape[0] == session.run.flu.shape[0]\n",
    "\n",
    "# # The cells that are responsive\n",
    "# my_bois = np.where(s2_siggys)[0]\n",
    "\n",
    "# cell = 10\n",
    "# print(session.run.stat[my_bois[cell]]['original_index'])\n",
    "# pre_range, post_range = get_range(session)\n",
    "# plt.plot(np.mean(b[cell, :, :], 0), color='grey', alpha=0.6)\n",
    "\n",
    "# for pre, post in zip(post_range, pre_range):\n",
    "#     plt.axvline(pre, color='blue')\n",
    "#     plt.axvline(post, color='red')"
   ]
  },
  {
   "cell_type": "code",
   "execution_count": null,
   "metadata": {},
   "outputs": [],
   "source": [
    "# for session in sessions.values():\n",
    "#     if session.n_cells == len(s2_siggys):\n",
    "#         session.load_data()\n",
    "#         break\n",
    "        \n",
    "# s = session.run.stat[s2_siggys]\n",
    "\n",
    "# im = np.zeros((514,1024))\n",
    "\n",
    "# for d in s:\n",
    "#     im[d['ypix'], d['xpix']] = 1\n",
    "\n",
    "# plt.imshow(im)"
   ]
  },
  {
   "cell_type": "code",
   "execution_count": 71,
   "metadata": {},
   "outputs": [],
   "source": [
    "def test_fdr_alpha(session, x_range):\n",
    "    \n",
    "    #trial_subsets = [[0], [5,10,20], [30,40,50], [150]]\n",
    "#     trial_subsets = [[0], [10,20,30,40], [150]]\n",
    "    trial_subsets = [[0], [20,30,40,50], [150]]\n",
    "    results = []\n",
    "    for subset in trial_subsets:\n",
    "        \n",
    "        poo = [get_sig_pass(session, fdr_rate, subset=subset) for fdr_rate in x_range]\n",
    "        results.append(poo)\n",
    "            \n",
    "        \n",
    "    #return np.array(results)\n",
    "    return np.array(results).swapaxes(2,0).swapaxes(1,2)"
   ]
  },
  {
   "cell_type": "code",
   "execution_count": 72,
   "metadata": {},
   "outputs": [],
   "source": [
    "def results2percents(results):\n",
    "    \n",
    "    percents = np.empty((results.shape[1], results.shape[2]))\n",
    "    ## TODO vectorise this\n",
    "    for i in range(results.shape[1]):\n",
    "        for j in range(results.shape[2]):\n",
    "            percents[i,j] = sum(results[:,i,j]) / results.shape[0] * 100\n",
    "            \n",
    "    return percents"
   ]
  },
  {
   "cell_type": "code",
   "execution_count": 73,
   "metadata": {},
   "outputs": [],
   "source": [
    "def percent_responding(sessions, return_all=False):\n",
    "    \n",
    "    x_range = np.linspace(1e-5, 0.1,  6) \n",
    "    \n",
    "    if return_all:\n",
    "        raise NotYetImplementedError('Couldnt be bothered to code it if want all cells '\n",
    "                                     'rather than splitting s1/s2')\n",
    "    s1 = []\n",
    "    s2 = []\n",
    "    \n",
    "    for idx, session in sessions.items():\n",
    "        \n",
    "        results = test_fdr_alpha(session, x_range)\n",
    "        \n",
    "        s1_results = results[session.s1_bool, :, :]\n",
    "        s2_results = results[session.s2_bool, :, :]\n",
    "        \n",
    "        s1.append(results2percents(s1_results))\n",
    "        s2.append(results2percents(s2_results))\n",
    "    \n",
    "    # Convert percent lists to arrays and get the axes in the right order\n",
    "    array_from_list = lambda lst: np.rollaxis(np.array(lst), 0, 3)\n",
    "    \n",
    "    return array_from_list(s1), array_from_list(s2)"
   ]
  },
  {
   "cell_type": "code",
   "execution_count": 75,
   "metadata": {},
   "outputs": [],
   "source": [
    "def plot_percents(percents):\n",
    "    \n",
    "    x_range = np.linspace(1e-5, 0.1, 6)  # Make this a function argument / class var\n",
    "    #trial_subsets = [[0], [5,10,20], [30,40,50], [150]]  # As above\n",
    "    trial_subsets = [[0], [10,20,30,40], [150]]  # As above\n",
    "    \n",
    "    count = 0\n",
    "    for p, label in zip(percents, trial_subsets):\n",
    "        count += 1\n",
    "        mean = np.nanmean(p, 1)\n",
    "        std = np.nanstd(p, 1) \n",
    "        sem = std / len(percents)\n",
    "        plt.plot(x_range, mean, label=label, color=wes_cols[count])\n",
    "        plt.fill_between(x_range, mean-std, mean+std, alpha=0.2, color=wes_cols[count])\n",
    "    plt.xlabel('BH Alpha')\n",
    "    plt.ylabel('Percentage of cell passing')"
   ]
  },
  {
   "cell_type": "code",
   "execution_count": 76,
   "metadata": {
    "scrolled": true
   },
   "outputs": [
    {
     "ename": "NameError",
     "evalue": "name 's1_percents' is not defined",
     "output_type": "error",
     "traceback": [
      "\u001b[0;31m---------------------------------------------------------------------------\u001b[0m",
      "\u001b[0;31mNameError\u001b[0m                                 Traceback (most recent call last)",
      "\u001b[0;32m<ipython-input-76-6e0758a8850d>\u001b[0m in \u001b[0;36m<module>\u001b[0;34m\u001b[0m\n\u001b[1;32m      3\u001b[0m \u001b[0max1\u001b[0m \u001b[0;34m=\u001b[0m \u001b[0mplt\u001b[0m\u001b[0;34m.\u001b[0m\u001b[0msubplot\u001b[0m\u001b[0;34m(\u001b[0m\u001b[0;36m1\u001b[0m\u001b[0;34m,\u001b[0m\u001b[0;36m2\u001b[0m\u001b[0;34m,\u001b[0m\u001b[0;36m1\u001b[0m\u001b[0;34m)\u001b[0m\u001b[0;34m\u001b[0m\u001b[0;34m\u001b[0m\u001b[0m\n\u001b[1;32m      4\u001b[0m \u001b[0;31m#ax1.set_ylim(0,20)\u001b[0m\u001b[0;34m\u001b[0m\u001b[0;34m\u001b[0m\u001b[0;34m\u001b[0m\u001b[0m\n\u001b[0;32m----> 5\u001b[0;31m \u001b[0mplot_percents\u001b[0m\u001b[0;34m(\u001b[0m\u001b[0ms1_percents\u001b[0m\u001b[0;34m)\u001b[0m\u001b[0;34m\u001b[0m\u001b[0;34m\u001b[0m\u001b[0m\n\u001b[0m\u001b[1;32m      6\u001b[0m \u001b[0mplt\u001b[0m\u001b[0;34m.\u001b[0m\u001b[0mtitle\u001b[0m\u001b[0;34m(\u001b[0m\u001b[0;34m\"s1\"\u001b[0m\u001b[0;34m)\u001b[0m\u001b[0;34m\u001b[0m\u001b[0;34m\u001b[0m\u001b[0m\n\u001b[1;32m      7\u001b[0m \u001b[0;34m\u001b[0m\u001b[0m\n",
      "\u001b[0;31mNameError\u001b[0m: name 's1_percents' is not defined"
     ]
    },
    {
     "data": {
      "image/png": "[encoded data removed]",
      "text/plain": [
       "<Figure size 1080x432 with 1 Axes>"
      ]
     },
     "metadata": {},
     "output_type": "display_data"
    }
   ],
   "source": [
    "plt.figure(figsize=(15,6))\n",
    "\n",
    "ax1 = plt.subplot(1,2,1)\n",
    "#ax1.set_ylim(0,20)\n",
    "plot_percents(s1_percents)\n",
    "plt.title(\"s1\")\n",
    "\n",
    "plt.legend(loc='centre')\n",
    "\n",
    "ax2 = plt.subplot(1,2,2)\n",
    "plot_percents(s2_percents)\n",
    "plt.title(\"s2\")\n",
    "ax2.set_ylim(ax1.get_ylim())"
   ]
  },
  {
   "cell_type": "code",
   "execution_count": null,
   "metadata": {},
   "outputs": [],
   "source": [
    "x = s1_percents[2, 3, :]\n",
    "\n",
    "subset = [30,40,50]\n",
    "n_trials = []\n",
    "\n",
    "\n",
    "for _, session in sessions.items():\n",
    "    \n",
    "    trials_use = np.logical_or(\n",
    "        np.logical_or(session.trial_subsets==subset[0], session.trial_subsets==subset[1]),\n",
    "        session.trial_subsets == subset[2]\n",
    "    )\n",
    "\n",
    "    n_trials.append(sum(trials_use))\n",
    "    \n",
    "plt.plot(x, n_trials, '.')\n",
    "plt.xlabel('Percentage of cells passing')\n",
    "plt.ylabel('Number of trials')"
   ]
  },
  {
   "cell_type": "code",
   "execution_count": null,
   "metadata": {},
   "outputs": [],
   "source": [
    "trial_subsets = [[0], [5,10,20], [30,40,50], [150]]\n",
    "\n",
    "for idx, ts in enumerate(trial_subsets):\n",
    "    plt.plot(x_range, percent_responding(sessions[0])[idx, :], label=ts)\n",
    "    \n",
    "plt.legend()"
   ]
  },
  {
   "cell_type": "code",
   "execution_count": null,
   "metadata": {},
   "outputs": [],
   "source": [
    "x_range = np.linspace(1e-5, 0.1,  6) \n",
    "\n",
    "plt.figure(figsize=(25,10))\n",
    "\n",
    "ax = plt.subplot(1,2,1)\n",
    "\n",
    "\n",
    "trial_subsets = [[0], [5,10,20], [30,40,50], [150]]\n",
    "for idx, session in sessions.items():\n",
    "    \n",
    "    if len(set(session.trial_subsets)) != 8:\n",
    "        continue\n",
    "    if idx == 0:\n",
    "        results = test_fdr_alpha(session, x_range, 's1')\n",
    "    else:\n",
    "        results = np.dstack((results, test_fdr_alpha(session, x_range, 's1')))\n",
    "        \n",
    "#for idx, ps_type in enumerate(['nogo', 'test', 'easy']):\n",
    "for idx, ps_type in enumerate(trial_subsets):\n",
    "    \n",
    "    result = results[idx, :, :]\n",
    "    \n",
    "    mean = np.mean(result, 1)\n",
    "    std = np.std(result, 1)\n",
    "    \n",
    "    ax.plot(x_range, mean, label=ps_type)\n",
    "    ax.fill_between(x_range, mean-std, mean+std, alpha=0.2)\n",
    "    \n",
    "plt.legend()\n",
    "    \n",
    "plt.title('S1')\n",
    "ax1 = plt.subplot(1,2,2)\n",
    "\n",
    "for idx, session in sessions.items():\n",
    "    if len(set(session.trial_subsets)) != 8:\n",
    "        continue\n",
    "        \n",
    "    if idx == 0:\n",
    "        results = test_fdr_alpha(session, x_range, 's2')\n",
    "    else:\n",
    "        results = np.dstack((results, test_fdr_alpha(session, x_range, 's2')))\n",
    "        \n",
    "#for idx, ps_type in enumerate(['nogo', 'test', 'easy']):\n",
    "for idx, ps_type in enumerate(trial_subsets):\n",
    "        \n",
    "    result = results[idx, :, :]\n",
    "    \n",
    "    mean = np.mean(result, 1)\n",
    "    std = np.std(result, 1)\n",
    "    \n",
    "    ax1.plot(x_range, mean, label=ps_type)\n",
    "    ax1.fill_between(x_range, mean-std, mean+std, alpha=0.2)\n",
    "    \n",
    "ax1.set_ylim(ax.get_ylim())\n",
    "plt.title('S2')\n",
    "plt.legend()\n",
    "\n",
    "ax.set_ylabel('% of cells passing')\n",
    "for a in [ax, ax1]:\n",
    "    a.set_xlabel('Benjamini Hochberg Alpha')"
   ]
  },
  {
   "cell_type": "code",
   "execution_count": null,
   "metadata": {},
   "outputs": [],
   "source": [
    "def average_cell_plotter(arr, cell_idx, trials_use, color, label):\n",
    "    cell  = arr[cell_idx, trials_use, :]\n",
    "    \n",
    "    mean = np.mean(cell, 0)\n",
    "    plt.plot(x_axis, mean, color=color, label=label)\n",
    "    \n",
    "    sem = np.std(cell, 0) / math.sqrt(cell.shape[0])\n",
    "    plt.fill_between(x_axis, mean-sem, mean+sem, color=color)\n",
    "\n",
    "    plt.legend()"
   ]
  },
  {
   "cell_type": "code",
   "execution_count": null,
   "metadata": {},
   "outputs": [],
   "source": [
    "def compare_prepost(arr, trials_use, cells_use, pre_range, post_range):\n",
    "    \n",
    "    if cells_use != 'all':\n",
    "        arr  = arr[cells_use, :, :]\n",
    "    if trials_use != 'all':\n",
    "        arr  = arr[:, trials_use, :]\n",
    "    pre  = arr[:, :, pre_range[0]:pre_range[1]]\n",
    "    post = arr[:, :, post_range[0]:post_range[1]]\n",
    "    \n",
    "    # Prepost diff for each cell for each trial\n",
    "    diff = np.mean(post, 2) - np.mean(pre, 2)\n",
    "    \n",
    "    # Return prepost differnece for each cell\n",
    "    return np.mean(diff, 1)"
   ]
  },
  {
   "cell_type": "code",
   "execution_count": null,
   "metadata": {},
   "outputs": [],
   "source": [
    "def hit_tuned(arr, pre_range, post_range):\n",
    "    \n",
    "    tuning = (\n",
    "               compare_prepost(arr, trials_use=session.outcome=='hit', cells_use='all', \n",
    "                               pre_range=pre_range, post_range=post_range)\n",
    "             - compare_prepost(arr, trials_use=session.outcome=='miss', cells_use='all',\n",
    "                               pre_range=pre_range, post_range=post_range)\n",
    "             )\n",
    "    \n",
    "    return np.flip(np.argsort(tuning))"
   ]
  },
  {
   "cell_type": "code",
   "execution_count": null,
   "metadata": {},
   "outputs": [],
   "source": [
    "for idx, area in enumerate(['s1', 's2']):\n",
    "    \n",
    "    hit = []\n",
    "    miss = []\n",
    "    pre_rew = []\n",
    "    \n",
    "    for _, session in sessions.items():\n",
    "\n",
    "        arr = session.behaviour_trials\n",
    "        \n",
    "        if area == 's1':\n",
    "            cells_use = session.s1_bool\n",
    "        elif area == 's2':\n",
    "            cells_use = session.s2_bool\n",
    "            \n",
    "        pre_range, post_range = get_range(session, plot=False)\n",
    "        \n",
    "        hit.append(\n",
    "            compare_prepost(arr, trials_use=session.outcome=='hit', cells_use=cells_use,\n",
    "                            pre_range=pre_range, post_range=post_range)\n",
    "        )\n",
    "        miss.append(\n",
    "            compare_prepost(arr, trials_use=session.outcome=='miss', cells_use=cells_use,\n",
    "                            pre_range=pre_range, post_range=post_range)\n",
    "        )\n",
    "\n",
    "        ## TODO remove nan trials\n",
    "        arr = session.pre_rew_trials\n",
    "        \n",
    "        pre_rew.append(\n",
    "            compare_prepost(arr, trials_use=np.repeat(True, arr.shape[1]),\n",
    "                            cells_use=cells_use, pre_range=pre_range, post_range=post_range)\n",
    "        )\n",
    "        \n",
    "        \n",
    "    hit = np.concatenate(hit)\n",
    "    miss = np.concatenate(miss)\n",
    "    pre_rew = np.concatenate(pre_rew)\n",
    "    pre_rew = pre_rew[~np.isnan(pre_rew)]\n",
    "    \n",
    "\n",
    "    fig = plt.figure(figsize=(16,5))\n",
    "    fig.subplots_adjust(top=0.75) \n",
    "    plt.suptitle(area, fontsize=25)\n",
    "\n",
    "    n_bins = 30\n",
    "    xlim = (-0.5, 0.5)\n",
    "    bins = np.linspace(xlim[0], xlim[1], n_bins)\n",
    "\n",
    "    ax1 = plt.subplot(1,3,1)\n",
    "    ax1.set_title(f'Hit skewness = {round(stats.skew(hit), 2)}\\nP = {round(stats.skewtest(hit)[1], 2)}')\n",
    "    h = ax1.hist(hit, bins)\n",
    "\n",
    "    ax2 = plt.subplot(1,3,2)\n",
    "    ax2.set_title(f'Miss skewness = {round(stats.skew(miss), 2)}\\nP = {round(stats.skewtest(miss)[1], 2)}')\n",
    "    h = ax2.hist(miss, bins)\n",
    "\n",
    "    ax3 = plt.subplot(1,3,3)\n",
    "    ax3.set_title(f'Spont Rew skewness = {round(stats.skew(pre_rew), 2)}\\nP = {round(stats.skewtest(pre_rew)[1], 2)}')\n",
    "    h = ax3.hist(pre_rew, bins)\n",
    "\n",
    "    for ax in [ax1, ax2, ax3]:\n",
    "        ax.set_xlabel('dff')\n",
    "        ax.set_yscale('log')\n",
    "        ax.set_xlim(xlim)\n",
    "\n"
   ]
  },
  {
   "cell_type": "code",
   "execution_count": null,
   "metadata": {},
   "outputs": [],
   "source": [
    "def compare_prepost_tbt(arr, pre_range, post_range, cells_use='all', trials_use='all'):\n",
    "    \n",
    "    if cells_use != 'all':\n",
    "        arr  = arr[cells_use, :, :]\n",
    "    if trials_use != 'all':\n",
    "        arr  = arr[:, trials_use, :]\n",
    "    pre  = arr[:, :, pre_range[0]:pre_range[1]]\n",
    "    post = arr[:, :, post_range[0]:post_range[1]]\n",
    "    \n",
    "    mean_pre = np.mean(pre, axis=2)\n",
    "    std_pre = np.std(pre, axis=2)\n",
    "    \n",
    "    mean_post = np.mean(post, axis=2)\n",
    "    \n",
    "    \n",
    "    # commented out if look at excited and inhibited\n",
    "    #bool_mat = np.logical_or(mean_post > (mean_pre + 2*std_pre), (mean_post < mean_pre - 2*std_pre))\n",
    "    bool_mat = mean_post > (mean_pre + 2*std_pre)\n",
    "    p_activated = np.sum(bool_mat, axis=1) / bool_mat.shape[1]\n",
    "    \n",
    "    sort_idx = np.flip(np.argsort(np.sum(bool_mat, axis=1)))\n",
    "    bool_mat = bool_mat[sort_idx, :]\n",
    "    \n",
    "    \n",
    "    return bool_mat, p_activated"
   ]
  },
  {
   "cell_type": "code",
   "execution_count": null,
   "metadata": {},
   "outputs": [],
   "source": [
    "hits = []\n",
    "misses = []\n",
    "for _, session in sessions.items():\n",
    "    #arr = session.behaviour_trials\n",
    "    arr = np.random.randn(*session.behaviour_trials.shape)\n",
    "    pre_range, post_range = get_range(session, plot=False)\n",
    "    \n",
    "    _, hit = compare_prepost_tbt(arr, pre_range, post_range, \n",
    "                                 trials_use=session.outcome=='hit', cells_use=session.s2_bool)\n",
    "    _, miss = compare_prepost_tbt(arr, pre_range, post_range, \n",
    "                                  trials_use=session.outcome=='miss', cells_use=session.s2_bool)\n",
    "    \n",
    "    hits.append(hit)\n",
    "    misses.append(miss)\n",
    "\n",
    "hits = np.concatenate(hits)\n",
    "misses = np.concatenate(misses)"
   ]
  },
  {
   "cell_type": "code",
   "execution_count": null,
   "metadata": {},
   "outputs": [],
   "source": [
    "rho, p = stats.spearmanr(hits, misses)\n",
    "rho"
   ]
  },
  {
   "cell_type": "code",
   "execution_count": null,
   "metadata": {},
   "outputs": [],
   "source": [
    "plt.plot(hits, misses, '.')"
   ]
  },
  {
   "cell_type": "code",
   "execution_count": null,
   "metadata": {},
   "outputs": [],
   "source": [
    "h = plt.hist(hits)\n",
    "plt.xlabel('P(response)')\n",
    "plt.yscale('linear')\n",
    "plt.title('Hit Trials (s2 only)')\n",
    "plt.xlim(0,0.1)\n",
    "#plt.ylim(0,100)"
   ]
  },
  {
   "cell_type": "code",
   "execution_count": null,
   "metadata": {},
   "outputs": [],
   "source": [
    "session = sessions[2]\n",
    "arr = session.behaviour_trials\n",
    "pre_range, post_range = get_range(session, plot=False)\n",
    "\n",
    "_, hit = compare_prepost_tbt(arr, pre_range, post_range, trials_use=session.outcome=='hit')\n",
    "_, miss = compare_prepost_tbt(arr, pre_range, post_range, trials_use=session.outcome=='miss')\n",
    "\n",
    "plt.figure(figsize=(10,20))\n",
    "for h, m in zip(hit, miss):\n",
    "    plt.plot([0,1], [h,m], color='black', marker='o')\n",
    "\n",
    "plt.xlim(-0.5, 1.5)\n",
    "plt.ylabel('P(response)')\n",
    "plt.xticks([0,1], ('Hit', 'Miss'))"
   ]
  },
  {
   "cell_type": "code",
   "execution_count": null,
   "metadata": {},
   "outputs": [],
   "source": [
    "s1, _ = compare_prepost_tbt(arr, trials_use=session.outcome=='hit', cells_use = session.s1_bool, pre_range=pre_range, post_range=post_range)\n",
    "s2, _ = compare_prepost_tbt(arr, trials_use=session.outcome=='hit', cells_use = session.s2_bool,\n",
    "                        pre_range=pre_range, post_range=post_range)"
   ]
  },
  {
   "cell_type": "code",
   "execution_count": null,
   "metadata": {},
   "outputs": [],
   "source": [
    "plt.figure(figsize=(8,30))\n",
    "\n",
    "for idx, area in enumerate([s1, s2]):\n",
    "    plt.subplot(1,2,idx+1)\n",
    "    \n",
    "    plt.title(f's{idx+1}')\n",
    "    plt.imshow(area)\n",
    "    plt.ylabel('Cell idx')\n",
    "    plt.xlabel('Trial Number')"
   ]
  },
  {
   "cell_type": "code",
   "execution_count": null,
   "metadata": {},
   "outputs": [],
   "source": [
    "color_tt = {'hit': 'green', 'miss': 'grey', 'fp': 'magenta', \n",
    "            'cr': 'brown', 'ur_hit': '#7b85d4', 'ar_miss': '#e9d043',\n",
    "            'spont_rew': 'darkorange'}\n"
   ]
  },
  {
   "cell_type": "code",
   "execution_count": null,
   "metadata": {},
   "outputs": [],
   "source": [
    "session = sessions[2]\n",
    "session = load_run(session)\n",
    "    \n",
    "flu = session.run.flu\n",
    "\n",
    "arr = session.behaviour_trials\n",
    "assert flu.shape[0] == arr.shape[0]\n",
    "x_axis = session.filter_ps_time\n",
    "\n",
    "if session.mouse == 'RL048' or session.mouse=='J048':\n",
    "    fs = 5\n",
    "else:\n",
    "    fs = 30"
   ]
  },
  {
   "cell_type": "code",
   "execution_count": null,
   "metadata": {},
   "outputs": [],
   "source": [
    "for i in range(3):\n",
    "\n",
    "    plt.figure()\n",
    "    \n",
    "    pre_range, post_range = get_range(session, plot=False)\n",
    "    \n",
    "    hit_tuned_idxs = hit_tuned(copy.deepcopy(arr), pre_range, post_range)\n",
    "    cell_plot = hit_tuned_idxs[i]\n",
    "\n",
    "    fig = plt.figure(figsize=(16, 6))\n",
    "\n",
    "    ax1 = fig.add_subplot(2,1,1)\n",
    "    range_plot = np.arange(0, 15000)\n",
    "    ax1.plot(range_plot/fs,  flu[cell_plot, range_plot])\n",
    "\n",
    "\n",
    "    ax2 = fig.add_subplot(2,3,4)\n",
    "\n",
    "    trial_type = 'hit'\n",
    "    average_cell_plotter(copy.deepcopy(arr), cell_plot, session.outcome==trial_type, color_tt[trial_type], label=trial_type)\n",
    "    ax3 = fig.add_subplot(2,3,5)\n",
    "\n",
    "    trial_type = 'miss'\n",
    "    average_cell_plotter(copy.deepcopy(arr), cell_plot, session.outcome==trial_type, color_tt[trial_type], label=trial_type)\n",
    "    ax3.set_ylim(ax2.get_ylim())\n",
    "\n",
    "    ax4 = fig.add_subplot(2,3,6, frameon=False)\n",
    "    ax4.text(0.1,0.1, f'{session.mouse}\\nrun {session.run_number}\\ncell {cell_plot}', fontsize=30)\n",
    "    ax4.axes.get_yaxis().set_visible(False)\n",
    "    ax4.axes.get_xaxis().set_visible(False)"
   ]
  }
 ],
 "metadata": {
  "kernelspec": {
   "display_name": "Python 3",
   "language": "python",
   "name": "python3"
  },
  "language_info": {
   "codemirror_mode": {
    "name": "ipython",
    "version": 3
   },
   "file_extension": ".py",
   "mimetype": "text/x-python",
   "name": "python",
   "nbconvert_exporter": "python",
   "pygments_lexer": "ipython3",
   "version": "3.7.10"
  }
 },
 "nbformat": 4,
 "nbformat_minor": 4
}
