{
 "cells": [
  {
   "cell_type": "code",
   "execution_count": 1,
   "metadata": {},
   "outputs": [],
   "source": [
    "## Notebook for extracting pupil data etc"
   ]
  },
  {
   "cell_type": "code",
   "execution_count": 1,
   "metadata": {},
   "outputs": [],
   "source": [
    "%load_ext autoreload\n",
    "%autoreload 2"
   ]
  },
  {
   "cell_type": "code",
   "execution_count": 19,
   "metadata": {},
   "outputs": [],
   "source": [
    "# general imports\n",
    "import sys\n",
    "import pickle\n",
    "import os\n",
    "import json\n",
    "import numpy as np\n",
    "import matplotlib.pyplot as plt\n",
    "import pandas as pd\n",
    "# import seaborn as sns\n",
    "import copy\n",
    "\n",
    "# from scipy import stats\n",
    "# from scipy.optimize import curve_fit\n",
    "# from statsmodels.stats import multitest\n",
    "# from matplotlib.ticker import (MultipleLocator, AutoMinorLocator)\n",
    "\n",
    "import popoff\n",
    "import pop_off_functions as pof\n",
    "import pop_off_plotting as pop\n",
    "\n",
    "from Session import Session, SessionLite, build_flu_array_single\n"
   ]
  },
  {
   "cell_type": "code",
   "execution_count": 4,
   "metadata": {},
   "outputs": [],
   "source": [
    "# ## put your path to your vape repo here \n",
    "# path_to_vape = os.path.expanduser('~/Documents/code/Vape/')\n",
    "# popoff_path = '/home/jrowland/Documents/code/pop-off/scripts/'\n",
    "\n",
    "# # Bit hacky but oh well\n",
    "# sys.path.append(path_to_vape)\n",
    "# sys.path.append(os.path.join(path_to_vape, 'utils'))\n",
    "# sys.path.append(popoff_path)\n",
    "\n",
    "# from utils.utils_funcs import d_prime"
   ]
  },
  {
   "cell_type": "code",
   "execution_count": 10,
   "metadata": {},
   "outputs": [
    {
     "data": {
      "text/html": [
       "<div>\n",
       "<style scoped>\n",
       "    .dataframe tbody tr th:only-of-type {\n",
       "        vertical-align: middle;\n",
       "    }\n",
       "\n",
       "    .dataframe tbody tr th {\n",
       "        vertical-align: top;\n",
       "    }\n",
       "\n",
       "    .dataframe thead th {\n",
       "        text-align: right;\n",
       "    }\n",
       "</style>\n",
       "<table border=\"1\" class=\"dataframe\">\n",
       "  <thead>\n",
       "    <tr style=\"text-align: right;\">\n",
       "      <th></th>\n",
       "      <th>mouse</th>\n",
       "      <th>run_number</th>\n",
       "      <th>filename_prefix</th>\n",
       "      <th>signature</th>\n",
       "    </tr>\n",
       "  </thead>\n",
       "  <tbody>\n",
       "    <tr>\n",
       "      <th>0</th>\n",
       "      <td>RL117</td>\n",
       "      <td>29</td>\n",
       "      <td>2021-03-09_RL117</td>\n",
       "      <td>RL117_29</td>\n",
       "    </tr>\n",
       "    <tr>\n",
       "      <th>1</th>\n",
       "      <td>RL117</td>\n",
       "      <td>30</td>\n",
       "      <td>2021-03-10_RL117</td>\n",
       "      <td>RL117_30</td>\n",
       "    </tr>\n",
       "  </tbody>\n",
       "</table>\n",
       "</div>"
      ],
      "text/plain": [
       "   mouse  run_number   filename_prefix signature\n",
       "0  RL117          29  2021-03-09_RL117  RL117_29\n",
       "1  RL117          30  2021-03-10_RL117  RL117_30"
      ]
     },
     "execution_count": 10,
     "metadata": {},
     "output_type": "execute_result"
    }
   ],
   "source": [
    "df_pupil_mice = pd.DataFrame({'mouse': ['RL117', 'RL117'], 'run_number': [29, 30],\n",
    "                              'filename_prefix': ['2021-03-09_RL117', '2021-03-10_RL117']})\n",
    "df_pupil_mice['signature'] = df_pupil_mice['mouse'] + '_' + df_pupil_mice['run_number'].astype(str)\n",
    "df_pupil_mice"
   ]
  },
  {
   "cell_type": "code",
   "execution_count": 34,
   "metadata": {},
   "outputs": [
    {
     "name": "stdout",
     "output_type": "stream",
     "text": [
      "WARNING: outliers not yet processed\n"
     ]
    }
   ],
   "source": [
    "def load_pupil_data(df_pupil_mice, dir='/home/tplas/data/mice'):\n",
    "    dict_pupil_data = {signature: {} for signature in df_pupil_mice['signature']}\n",
    "\n",
    "    for i_sess, signature in enumerate(dict_pupil_data.keys()):\n",
    "        basic_filename = os.path.join(dir, df_pupil_mice[df_pupil_mice['signature'] == signature]['filename_prefix'].iloc[0])\n",
    "        dict_pupil_data[signature]['area_array'] = np.load(basic_filename + '_AreaArray.npy')\n",
    "        dict_pupil_data[signature]['binary_score'] = np.load(basic_filename + '_BinaryScore.npy')\n",
    "        dict_pupil_data[signature]['r2_distance'] = np.load(basic_filename + '_r2Distance.npy')\n",
    "\n",
    "    handle_outliers()\n",
    "\n",
    "    return dict_pupil_data\n",
    "\n",
    "def handle_outliers():\n",
    "    print('WARNING: outliers not yet processed')\n",
    "    pass\n",
    "    \n",
    "\n",
    "dict_pupil_data = load_pupil_data(df_pupil_mice=df_pupil_mice)"
   ]
  },
  {
   "cell_type": "code",
   "execution_count": 35,
   "metadata": {},
   "outputs": [
    {
     "data": {
      "text/plain": [
       "[<matplotlib.lines.Line2D at 0x7f82e065c910>]"
      ]
     },
     "execution_count": 35,
     "metadata": {},
     "output_type": "execute_result"
    },
    {
     "data": {
      "image/png": "[encoded data removed]",
      "text/plain": [
       "<Figure size 432x288 with 1 Axes>"
      ]
     },
     "metadata": {},
     "output_type": "display_data"
    }
   ],
   "source": [
    "plt.plot(dict_pupil_data['RL117_29']['area_array'], dict_pupil_data['RL117_29']['r2_distance'], '.')"
   ]
  },
  {
   "cell_type": "code",
   "execution_count": 36,
   "metadata": {},
   "outputs": [
    {
     "name": "stdout",
     "output_type": "stream",
     "text": [
      "RL117_29\n",
      "/home/tplas/data/mice/runs/RL117/run29.pkl\n",
      "RL117_30\n",
      "/home/tplas/data/mice/runs/RL117/run30.pkl\n"
     ]
    }
   ],
   "source": [
    "## Load run \n",
    "def load_run(mouse, run_number, base_path):\n",
    "    pkl_path = os.path.join(base_path, mouse, f'run{run_number}.pkl')\n",
    "    print(pkl_path)\n",
    "    with open(pkl_path, 'rb') as f:\n",
    "        run = pickle.load(f)\n",
    "    \n",
    "    return run\n",
    "\n",
    "def get_dict_runs(df_pupil_mice):\n",
    "\n",
    "    dict_runs = {} \n",
    "    for i_sess in range(len(df_pupil_mice)):\n",
    "        print(df_pupil_mice['signature'].iloc[i_sess])\n",
    "        dict_runs[df_pupil_mice['signature'].iloc[i_sess]] = load_run(mouse=df_pupil_mice['mouse'].iloc[i_sess],\n",
    "                                                                      run_number=df_pupil_mice['run_number'].iloc[i_sess],\n",
    "                                                                      base_path='/home/tplas/data/mice/runs/')\n",
    "    return dict_runs\n",
    "\n",
    "dict_runs = get_dict_runs(df_pupil_mice=df_pupil_mice)"
   ]
  },
  {
   "cell_type": "code",
   "execution_count": 37,
   "metadata": {},
   "outputs": [
    {
     "data": {
      "text/plain": [
       "(507, 130411)"
      ]
     },
     "execution_count": 37,
     "metadata": {},
     "output_type": "execute_result"
    }
   ],
   "source": [
    "dict_runs['RL117_29'].flu.shape"
   ]
  },
  {
   "cell_type": "code",
   "execution_count": 38,
   "metadata": {},
   "outputs": [
    {
     "data": {
      "text/plain": [
       "(144512,)"
      ]
     },
     "execution_count": 38,
     "metadata": {},
     "output_type": "execute_result"
    }
   ],
   "source": [
    "dict_pupil_data['RL117_29']['area_array'].shape"
   ]
  },
  {
   "cell_type": "code",
   "execution_count": 39,
   "metadata": {},
   "outputs": [],
   "source": [
    "def filter_frames_first_pass(run, pupil):\n",
    "    idx_imaged = np.isin(run.frame_clock, run.paqio_frames)\n",
    "    assert sum(idx_imaged) == run.flu.shape[1]\n",
    "    assert len(idx_imaged) == len(pupil)\n",
    "    pupil = pupil[idx_imaged]\n",
    "    return pupil\n",
    "\n",
    "for signature in dict_pupil_data.keys():\n",
    "    for name_p in ['area_array', 'r2_distance']:\n",
    "        dict_pupil_data[signature][name_p] = filter_frames_first_pass(run=dict_runs[signature], \n",
    "                                                                      pupil=dict_pupil_data[signature][name_p])"
   ]
  },
  {
   "cell_type": "code",
   "execution_count": 57,
   "metadata": {},
   "outputs": [],
   "source": [
    "## I am James Rowland and this is my invention:\n",
    "\n",
    "for signature in df_pupil_mice['signature']:\n",
    "    \n",
    "    dict_runs[signature].pupil = np.expand_dims(dict_pupil_data[signature]['area_array'], 0)  # add to run so we can use build_flu_array_single \n",
    "    dict_pupil_data[signature]['pupil_size'] = np.squeeze(build_flu_array_single(run=dict_runs[signature], use_pupil=True, \n",
    "                                                                      pre_frames=120, post_frames=180))  # use session pre_frames & post_frames here\n",
    "\n",
    "    ## filter non nan trails\n",
    "    "
   ]
  },
  {
   "cell_type": "code",
   "execution_count": 58,
   "metadata": {},
   "outputs": [
    {
     "data": {
      "text/plain": [
       "<matplotlib.legend.Legend at 0x7f82b4b0add0>"
      ]
     },
     "execution_count": 58,
     "metadata": {},
     "output_type": "execute_result"
    },
    {
     "data": {
      "image/png": "[encoded data removed]",
      "text/plain": [
       "<Figure size 432x288 with 1 Axes>"
      ]
     },
     "metadata": {},
     "output_type": "display_data"
    }
   ],
   "source": [
    "for signature in ['RL117_29', 'RL117_30']:\n",
    "    # print(dict_pupil_data[signature]['pupil_size'].shape)\n",
    "\n",
    "    plt.plot(np.nanmean(dict_pupil_data[signature]['pupil_size'], 0), label=signature )\n",
    "\n",
    "plt.legend()"
   ]
  },
  {
   "cell_type": "code",
   "execution_count": null,
   "metadata": {},
   "outputs": [],
   "source": []
  },
  {
   "cell_type": "markdown",
   "metadata": {},
   "source": [
    "## Analysis to do:\n",
    "- Show dynamics of pupil size on hit vs miss trials (validation that it worked)\n",
    "- Show histogram of pre-stim pupil size hit vs miss\n",
    "- Scatter plot pupil size vs pop var (both just pre-stim & full dynamics)\n",
    "- Optionally, as control, compare pupil size pre-stim vs n_stim "
   ]
  },
  {
   "cell_type": "markdown",
   "metadata": {},
   "source": []
  }
 ],
 "metadata": {
  "kernelspec": {
   "display_name": "Python 3.7.10 ('pope')",
   "language": "python",
   "name": "python3"
  },
  "language_info": {
   "codemirror_mode": {
    "name": "ipython",
    "version": 3
   },
   "file_extension": ".py",
   "mimetype": "text/x-python",
   "name": "python",
   "nbconvert_exporter": "python",
   "pygments_lexer": "ipython3",
   "version": "3.7.10"
  },
  "orig_nbformat": 4,
  "vscode": {
   "interpreter": {
    "hash": "9be863cc0890c641158b9994edf9b86f44546b9a093d80972b36ff16939ddef2"
   }
  }
 },
 "nbformat": 4,
 "nbformat_minor": 2
}
