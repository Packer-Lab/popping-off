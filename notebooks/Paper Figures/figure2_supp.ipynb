{
 "cells": [
  {
   "cell_type": "code",
   "execution_count": 1,
   "id": "unlike-variable",
   "metadata": {},
   "outputs": [],
   "source": [
    "%load_ext autoreload\n",
    "%autoreload 2"
   ]
  },
  {
   "cell_type": "code",
   "execution_count": 2,
   "id": "occupational-notice",
   "metadata": {},
   "outputs": [],
   "source": [
    "import matplotlib.pyplot as plt\n",
    "import numpy as np\n",
    "import os\n",
    "import sys\n",
    "import pandas as pd\n",
    "import seaborn as sns\n",
    "from scipy import stats\n",
    "\n",
    "from statsmodels.stats import multitest\n",
    "import ptitprince as pt\n",
    "import copy"
   ]
  },
  {
   "cell_type": "code",
   "execution_count": 3,
   "id": "mature-compromise",
   "metadata": {},
   "outputs": [
    {
     "name": "stdout",
     "output_type": "stream",
     "text": [
      "/home/tplas/repos/popping-off/popoff/popoff/loadpaths.py\n",
      "/home/tplas/repos/Vape\n"
     ]
    }
   ],
   "source": [
    "import popoff\n",
    "import pop_off_plotting as pop\n",
    "from pop_off_plotting import color_tt\n",
    "from Session import SessionLite\n",
    "from linear_model import PoolAcrossSessions, LinearModel, MultiSessionModel"
   ]
  },
  {
   "cell_type": "code",
   "execution_count": 4,
   "id": "divine-soundtrack",
   "metadata": {},
   "outputs": [
    {
     "name": "stdout",
     "output_type": "stream",
     "text": [
      "long post time\n",
      "long post time\n",
      "long post time\n",
      "long post time\n",
      "long post time\n",
      "Mouse RL070, run 29  registered no-lick hit. changed to too soon\n",
      "long post time\n",
      "long post time\n",
      "Mouse RL117, run 29  registered no-lick hit. changed to too soon\n",
      "Mouse RL117, run 29  registered no-lick hit. changed to too soon\n",
      "long post time\n",
      "long post time\n",
      "long post time\n",
      "Mouse RL116, run 32  registered no-lick hit. changed to too soon\n",
      "Mouse RL116, run 32  registered no-lick hit. changed to too soon\n",
      "Mouse RL116, run 32  registered no-lick hit. changed to too soon\n",
      "long post time\n",
      "ALERT SESSIONS NOT SUBSAMPLED\n",
      "long post time\n",
      "long post time\n",
      "long post time\n",
      "long post time\n",
      "long post time\n",
      "long post time\n",
      "long post time\n",
      "long post time\n",
      "long post time\n",
      "long post time\n",
      "long post time\n"
     ]
    }
   ],
   "source": [
    "msm = MultiSessionModel(remove_targets=False, subsample_sessions=False,\n",
    "                         remove_toosoon=True)"
   ]
  },
  {
   "cell_type": "code",
   "execution_count": null,
   "id": "jewish-channels",
   "metadata": {},
   "outputs": [
    {
     "name": "stdout",
     "output_type": "stream",
     "text": [
      "\n",
      "\n",
      "s1\n",
      "Hit vs Miss, p = 0.0009765625, significant = True\n",
      "Hit vs CR, p = 0.0009765625, significant = True\n",
      "Hit vs FP, p = 0.0009765625, significant = True\n",
      "Hit vs Reward\n",
      "only, p = 0.0009765625, significant = True\n"
     ]
    }
   ],
   "source": [
    "fig = plt.figure(constrained_layout=False, figsize=(8, 8))\n",
    "save_fig = True\n",
    "\n",
    "tts = ['hit', 'miss', 'fp', 'cr', 'pre_reward']\n",
    "\n",
    "rains = fig.add_gridspec(ncols=2, nrows=1, bottom=0.8, top=1, right=1, left=0,\n",
    "                            wspace=0.4, hspace=0.85)\n",
    "without_150 = fig.add_gridspec(ncols=2, nrows=1, bottom=0.45, top=0.65, right=1, left=0,\n",
    "                               wspace=0.4, hspace=0.85)\n",
    "only_150 = fig.add_gridspec(ncols=2, nrows=1, bottom=0.1, top=0.3, right=1, left=0,\n",
    "                            wspace=0.4, hspace=0.85)\n",
    "\n",
    "fig.text(0.5, 0.7, '5-50 cells targeted', ha=\"center\")\n",
    "fig.text(0.5, 0.35, '150 cells targeted', ha=\"center\")\n",
    "\n",
    "ax_pop_activity_wo = {xx: fig.add_subplot(without_150[xx]) for xx in range(2)}\n",
    "\n",
    "for n_cells in [[5, 10, 20, 30, 40, 50]]:\n",
    "    tmp = pop.plot_average_tt_s1_s2(msm, n_cells, tts_plot=tts,\n",
    "                                   ax_s1=ax_pop_activity_wo[0], ax_s2=ax_pop_activity_wo[1],\n",
    "                                   plot_legend=(n_cells == 50))\n",
    "    \n",
    "ax_pop_activity_wo[0].set_title('Grand average S1', y=1.15)\n",
    "ax_pop_activity_wo[1].set_title('Grand average S2', y=1.15)\n",
    "    \n",
    "ax_pop_activity_150 = {xx: fig.add_subplot(only_150[xx]) for xx in range(2)}\n",
    "\n",
    "for n_cells in [[150]]:\n",
    "    tmp = pop.plot_average_tt_s1_s2(msm, n_cells, tts_plot=tts,\n",
    "                                   ax_s1=ax_pop_activity_150[0], ax_s2=ax_pop_activity_150[1],\n",
    "                                   plot_legend=False, zoom_ylims=(-0.05, 0.1))\n",
    "    \n",
    "ax_pop_activity_150[0].set_title('Grand average S1', y=1.15)\n",
    "ax_pop_activity_150[1].set_title('Grand average S2', y=1.15)\n",
    "\n",
    "ax_rains = [fig.add_subplot(rains[xx]) for xx in range(2)]\n",
    "pop.despine(ax_rains[0])\n",
    "pop.despine(ax_rains[1])\n",
    "\n",
    "pop.percent_responding_tts(lm_list=msm.linear_models, axes=ax_rains)\n",
    "\n",
    "ax_rains[0].set_title('Responding cells in S1', y=1.15)\n",
    "ax_rains[1].set_title('Responding cells in S2', y=1.15)\n",
    "\n",
    "fig.text(s='a', x=-0.1, y=1.02, fontdict={'weight': 'bold', 'size': 18})\n",
    "fig.text(s='b', x=-0.1, y=0.69, fontdict={'weight': 'bold', 'size': 18})\n",
    "fig.text(s='c', x=-0.1, y=0.33, fontdict={'weight': 'bold', 'size': 18})\n",
    "\n",
    "if save_fig:\n",
    "    plt.savefig('/home/tplas/repos/popping-off/figures/full_figs_manuscript/Supplementary_Figure1.pdf',\n",
    "                bbox_inches='tight')"
   ]
  },
  {
   "cell_type": "code",
   "execution_count": null,
   "id": "endangered-italic",
   "metadata": {},
   "outputs": [],
   "source": []
  }
 ],
 "metadata": {
  "kernelspec": {
   "display_name": "Python 3",
   "language": "python",
   "name": "python3"
  },
  "language_info": {
   "codemirror_mode": {
    "name": "ipython",
    "version": 3
   },
   "file_extension": ".py",
   "mimetype": "text/x-python",
   "name": "python",
   "nbconvert_exporter": "python",
   "pygments_lexer": "ipython3",
   "version": "3.7.10"
  }
 },
 "nbformat": 4,
 "nbformat_minor": 5
}
