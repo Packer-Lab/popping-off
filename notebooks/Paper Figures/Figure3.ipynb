{
 "cells": [
  {
   "cell_type": "code",
   "execution_count": 1,
   "id": "perfect-fifth",
   "metadata": {},
   "outputs": [],
   "source": [
    "%load_ext autoreload\n",
    "%autoreload 2"
   ]
  },
  {
   "cell_type": "code",
   "execution_count": 3,
   "id": "arranged-sacrifice",
   "metadata": {},
   "outputs": [
    {
     "name": "stdout",
     "output_type": "stream",
     "text": [
      "long post time\n",
      "long post time\n",
      "long post time\n",
      "long post time\n",
      "long post time\n",
      "long post time\n",
      "long post time\n",
      "long post time\n",
      "long post time\n",
      "long post time\n",
      "ALERT SESSIONS NOT SUBSAMPLED\n",
      "long post time\n",
      "long post time\n",
      "long post time\n",
      "long post time\n",
      "long post time\n",
      "long post time\n",
      "long post time\n",
      "long post time\n",
      "long post time\n",
      "long post time\n",
      "{0: instance Mouse J064, run 10 of Session class, 1: instance Mouse J064, run 11 of Session class, 2: instance Mouse J064, run 14 of Session class, 3: instance Mouse RL070, run 28 of Session class, 4: instance Mouse RL070, run 29 of Session class, 5: instance Mouse RL117, run 29 of Session class, 6: instance Mouse RL117, run 30 of Session class, 7: instance Mouse RL123, run 22 of Session class, 8: instance Mouse RL116, run 32 of Session class, 9: instance Mouse RL116, run 33 of Session class}\n"
     ]
    }
   ],
   "source": [
    "import popoff\n",
    "from Session import SessionLite, build_flu_array_single\n",
    "from mpl_toolkits.mplot3d import Axes3D\n",
    "from linear_model import PoolAcrossSessions, LinearModel, pca_session, LabelEncoder, largest_PC_trace, largest_PC_loading, do_pca\n",
    "import loadpaths\n",
    "import matplotlib.pyplot as plt\n",
    "import numpy as np\n",
    "import seaborn as sns\n",
    "import sys, os, pickle, copy\n",
    "from sklearn.decomposition import PCA\n",
    "import warnings\n",
    "import pandas as pd\n",
    "import math, cmath\n",
    "from tqdm import tqdm\n",
    "import pop_off_functions as pof\n",
    "import pop_off_plotting as pop\n",
    "from IPython.core.debugger import Pdb\n",
    "ipdb = Pdb()\n",
    "import ptitprince as pt\n",
    "\n",
    "\n",
    "## Load data in form of Jimmy's PAS object\n",
    "warnings.warn('Targets in data, fix self.ever_targetted')\n",
    "remove_targets = False\n",
    "pas = PoolAcrossSessions(save_PCA=False, subsample_sessions=False,\n",
    "                         remove_targets=remove_targets, remove_toosoon = True)\n",
    "lm = pas.linear_models[0]\n",
    "print(pas.sessions)"
   ]
  },
  {
   "cell_type": "code",
   "execution_count": 4,
   "id": "hourly-europe",
   "metadata": {},
   "outputs": [
    {
     "name": "stdout",
     "output_type": "stream",
     "text": [
      "dict_keys([0, 1, 2, 3, 4, 5, 6, 7, 8, 9])\n",
      "{0: instance Mouse J064, run 10 of Session class, 1: instance Mouse J064, run 11 of Session class, 2: instance Mouse J064, run 14 of Session class, 3: instance Mouse RL070, run 28 of Session class, 4: instance Mouse RL070, run 29 of Session class, 5: instance Mouse RL117, run 29 of Session class, 6: instance Mouse RL117, run 30 of Session class, 7: instance Mouse RL123, run 22 of Session class, 8: instance Mouse RL116, run 32 of Session class, 9: instance Mouse RL116, run 33 of Session class}\n",
      "URH and ARM trials have been labelled\n",
      "------------------------------------\n",
      "10 sessions are loaded\n"
     ]
    }
   ],
   "source": [
    "## Create sessions object from PAS:\n",
    "\n",
    "try:  # ensure sessions doesn't exist yet \n",
    "    sessions\n",
    "    assert type(sessions) is dict\n",
    "except NameError:\n",
    "    pass\n",
    "\n",
    "sessions = {}\n",
    "int_keys_pas_sessions = pas.sessions.keys()\n",
    "print(int_keys_pas_sessions)\n",
    "i_s = 0\n",
    "for ses in pas.sessions.values():  # load into sessions dict (in case pas skips an int as key)\n",
    "    ses.signature = f'{ses.mouse}_R{ses.run_number}'\n",
    "    sessions[i_s] = ses\n",
    "    i_s += 1\n",
    "#     if ses.signature != 'RL117_R29':  # one that used not to have spont data\n",
    "#         sessions[i_s] = ses\n",
    "#         i_s += 1\n",
    "#     else:\n",
    "#         f'{ses.signature} has been excluded !!! (because no spont data available)'\n",
    "print(sessions)\n",
    "assert len(sessions) == 10\n",
    "pof.label_urh_arm(sessions=sessions)  # label arm and urh\n",
    "\n",
    "# for kk, ss in sessions.items():\n",
    "    \n",
    "    \n",
    "print('------------------------------------')\n",
    "print(f'{len(sessions)} sessions are loaded')\n",
    "tp_dict = pof.create_tp_dict(sessions=sessions)\n"
   ]
  },
  {
   "cell_type": "code",
   "execution_count": 212,
   "id": "contrary-trouble",
   "metadata": {},
   "outputs": [],
   "source": [
    "tp_dict['decoders'] = tp_dict['mutual']\n",
    "tp_dict['decoders'] = tp_dict['decoders'][np.logical_and(tp_dict['decoders'] >- 2, \n",
    "                                                         tp_dict['decoders'] <= 4)]\n",
    "tp_dict['decoders'] = tp_dict['decoders']#[::20]\n",
    "\n",
    "dict_tt_train = {'hit/cr': ['hit', 'cr'], \n",
    "                 'miss/cr': ['miss', 'cr'],\n",
    "                 'spont/cr': ['spont', 'cr'],\n",
    "                 'hit/cr 10 trials': ['hit', 'cr']}\n",
    "\n",
    "# lick_acc, lick_acc_split, lick_pred_split, ps_acc, ps_acc_split = {}, {}, {}, {}, {}\n",
    "# ps_pred_split, lick_half, angle_dec, decoder_weights = {}, {}, {}, {}"
   ]
  },
  {
   "cell_type": "markdown",
   "id": "latest-restoration",
   "metadata": {},
   "source": [
    "## Train decoders (takes 20 mins per decoder type)"
   ]
  },
  {
   "cell_type": "code",
   "execution_count": 213,
   "id": "secondary-sweden",
   "metadata": {},
   "outputs": [
    {
     "name": "stderr",
     "output_type": "stream",
     "text": [
      "\r",
      "0it [00:00, ?it/s]"
     ]
    },
    {
     "name": "stdout",
     "output_type": "stream",
     "text": [
      "Now training hit/cr 10 trials decoder\n",
      "only using 10 trials per trial type!!\n",
      "only using 10 trials per trial type!!\n",
      "only using 10 trials per trial type!!\n",
      "only using 10 trials per trial type!!\n",
      "only using 10 trials per trial type!!\n",
      "only using 10 trials per trial type!!\n",
      "only using 10 trials per trial type!!\n",
      "only using 10 trials per trial type!!\n",
      "only using 10 trials per trial type!!\n",
      "only using 10 trials per trial type!!\n",
      "only using 10 trials per trial type!!\n",
      "only using 10 trials per trial type!!\n",
      "only using 10 trials per trial type!!\n",
      "only using 10 trials per trial type!!\n",
      "only using 10 trials per trial type!!\n",
      "only using 10 trials per trial type!!\n",
      "only using 10 trials per trial type!!\n",
      "only using 10 trials per trial type!!\n",
      "only using 10 trials per trial type!!\n",
      "only using 10 trials per trial type!!\n"
     ]
    },
    {
     "name": "stderr",
     "output_type": "stream",
     "text": [
      "\r",
      "1it [00:05,  5.27s/it]"
     ]
    },
    {
     "name": "stdout",
     "output_type": "stream",
     "text": [
      "only using 10 trials per trial type!!\n",
      "only using 10 trials per trial type!!\n",
      "only using 10 trials per trial type!!\n",
      "only using 10 trials per trial type!!\n",
      "only using 10 trials per trial type!!\n",
      "only using 10 trials per trial type!!\n",
      "only using 10 trials per trial type!!\n",
      "only using 10 trials per trial type!!\n",
      "only using 10 trials per trial type!!\n",
      "only using 10 trials per trial type!!\n",
      "only using 10 trials per trial type!!\n",
      "only using 10 trials per trial type!!\n",
      "only using 10 trials per trial type!!\n",
      "only using 10 trials per trial type!!\n",
      "only using 10 trials per trial type!!\n",
      "only using 10 trials per trial type!!\n",
      "only using 10 trials per trial type!!\n",
      "only using 10 trials per trial type!!\n",
      "only using 10 trials per trial type!!\n",
      "only using 10 trials per trial type!!\n"
     ]
    },
    {
     "name": "stderr",
     "output_type": "stream",
     "text": [
      "\r",
      "2it [00:10,  5.23s/it]"
     ]
    },
    {
     "name": "stdout",
     "output_type": "stream",
     "text": [
      "only using 10 trials per trial type!!\n",
      "only using 10 trials per trial type!!\n",
      "only using 10 trials per trial type!!\n",
      "only using 10 trials per trial type!!\n",
      "only using 10 trials per trial type!!\n",
      "only using 10 trials per trial type!!\n",
      "only using 10 trials per trial type!!\n",
      "only using 10 trials per trial type!!\n",
      "only using 10 trials per trial type!!\n",
      "only using 10 trials per trial type!!\n",
      "only using 10 trials per trial type!!\n",
      "only using 10 trials per trial type!!\n",
      "only using 10 trials per trial type!!\n",
      "only using 10 trials per trial type!!\n",
      "only using 10 trials per trial type!!\n",
      "only using 10 trials per trial type!!\n",
      "only using 10 trials per trial type!!\n",
      "only using 10 trials per trial type!!\n",
      "only using 10 trials per trial type!!\n",
      "only using 10 trials per trial type!!\n"
     ]
    },
    {
     "name": "stderr",
     "output_type": "stream",
     "text": [
      "\r",
      "3it [00:15,  5.22s/it]"
     ]
    },
    {
     "name": "stdout",
     "output_type": "stream",
     "text": [
      "only using 10 trials per trial type!!\n",
      "only using 10 trials per trial type!!\n",
      "only using 10 trials per trial type!!\n",
      "only using 10 trials per trial type!!\n",
      "only using 10 trials per trial type!!\n",
      "only using 10 trials per trial type!!\n",
      "only using 10 trials per trial type!!\n",
      "only using 10 trials per trial type!!\n",
      "only using 10 trials per trial type!!\n",
      "only using 10 trials per trial type!!\n",
      "only using 10 trials per trial type!!\n",
      "only using 10 trials per trial type!!\n",
      "only using 10 trials per trial type!!\n",
      "only using 10 trials per trial type!!\n",
      "only using 10 trials per trial type!!\n",
      "only using 10 trials per trial type!!\n",
      "only using 10 trials per trial type!!\n",
      "only using 10 trials per trial type!!\n",
      "only using 10 trials per trial type!!\n",
      "only using 10 trials per trial type!!\n"
     ]
    },
    {
     "name": "stderr",
     "output_type": "stream",
     "text": [
      "\r",
      "4it [00:20,  5.21s/it]"
     ]
    },
    {
     "name": "stdout",
     "output_type": "stream",
     "text": [
      "only using 10 trials per trial type!!\n",
      "only using 10 trials per trial type!!\n",
      "only using 10 trials per trial type!!\n",
      "only using 10 trials per trial type!!\n",
      "only using 10 trials per trial type!!\n",
      "only using 10 trials per trial type!!\n",
      "only using 10 trials per trial type!!\n",
      "only using 10 trials per trial type!!\n",
      "only using 10 trials per trial type!!\n",
      "only using 10 trials per trial type!!\n",
      "only using 10 trials per trial type!!\n",
      "only using 10 trials per trial type!!\n",
      "only using 10 trials per trial type!!\n",
      "only using 10 trials per trial type!!\n",
      "only using 10 trials per trial type!!\n",
      "only using 10 trials per trial type!!\n",
      "only using 10 trials per trial type!!\n",
      "only using 10 trials per trial type!!\n",
      "only using 10 trials per trial type!!\n",
      "only using 10 trials per trial type!!\n"
     ]
    },
    {
     "name": "stderr",
     "output_type": "stream",
     "text": [
      "\r",
      "5it [00:26,  5.20s/it]"
     ]
    },
    {
     "name": "stdout",
     "output_type": "stream",
     "text": [
      "only using 10 trials per trial type!!\n",
      "only using 10 trials per trial type!!\n",
      "only using 10 trials per trial type!!\n",
      "only using 10 trials per trial type!!\n",
      "only using 10 trials per trial type!!\n",
      "only using 10 trials per trial type!!\n",
      "only using 10 trials per trial type!!\n",
      "only using 10 trials per trial type!!\n",
      "only using 10 trials per trial type!!\n",
      "only using 10 trials per trial type!!\n",
      "only using 10 trials per trial type!!\n",
      "only using 10 trials per trial type!!\n",
      "only using 10 trials per trial type!!\n",
      "only using 10 trials per trial type!!\n",
      "only using 10 trials per trial type!!\n",
      "only using 10 trials per trial type!!\n",
      "only using 10 trials per trial type!!\n",
      "only using 10 trials per trial type!!\n",
      "only using 10 trials per trial type!!\n",
      "only using 10 trials per trial type!!\n"
     ]
    },
    {
     "name": "stderr",
     "output_type": "stream",
     "text": [
      "\r",
      "6it [00:31,  5.19s/it]"
     ]
    },
    {
     "name": "stdout",
     "output_type": "stream",
     "text": [
      "only using 10 trials per trial type!!\n",
      "only using 10 trials per trial type!!\n",
      "only using 10 trials per trial type!!\n",
      "only using 10 trials per trial type!!\n",
      "only using 10 trials per trial type!!\n",
      "only using 10 trials per trial type!!\n",
      "only using 10 trials per trial type!!\n",
      "only using 10 trials per trial type!!\n",
      "only using 10 trials per trial type!!\n",
      "only using 10 trials per trial type!!\n",
      "only using 10 trials per trial type!!\n",
      "only using 10 trials per trial type!!\n",
      "only using 10 trials per trial type!!\n",
      "only using 10 trials per trial type!!\n",
      "only using 10 trials per trial type!!\n",
      "only using 10 trials per trial type!!\n",
      "only using 10 trials per trial type!!\n",
      "only using 10 trials per trial type!!\n",
      "only using 10 trials per trial type!!\n",
      "only using 10 trials per trial type!!\n"
     ]
    },
    {
     "name": "stderr",
     "output_type": "stream",
     "text": [
      "\r",
      "7it [00:36,  5.19s/it]"
     ]
    },
    {
     "name": "stdout",
     "output_type": "stream",
     "text": [
      "only using 10 trials per trial type!!\n",
      "only using 10 trials per trial type!!\n",
      "only using 10 trials per trial type!!\n",
      "only using 10 trials per trial type!!\n",
      "only using 10 trials per trial type!!\n",
      "only using 10 trials per trial type!!\n",
      "only using 10 trials per trial type!!\n",
      "only using 10 trials per trial type!!\n",
      "only using 10 trials per trial type!!\n",
      "only using 10 trials per trial type!!\n",
      "only using 10 trials per trial type!!\n",
      "only using 10 trials per trial type!!\n",
      "only using 10 trials per trial type!!\n",
      "only using 10 trials per trial type!!\n",
      "only using 10 trials per trial type!!\n",
      "only using 10 trials per trial type!!\n",
      "only using 10 trials per trial type!!\n",
      "only using 10 trials per trial type!!\n",
      "only using 10 trials per trial type!!\n",
      "only using 10 trials per trial type!!\n"
     ]
    },
    {
     "name": "stderr",
     "output_type": "stream",
     "text": [
      "\r",
      "8it [00:41,  5.20s/it]"
     ]
    },
    {
     "name": "stdout",
     "output_type": "stream",
     "text": [
      "only using 10 trials per trial type!!\n",
      "only using 10 trials per trial type!!\n",
      "only using 10 trials per trial type!!\n",
      "only using 10 trials per trial type!!\n",
      "only using 10 trials per trial type!!\n",
      "only using 10 trials per trial type!!\n",
      "only using 10 trials per trial type!!\n",
      "only using 10 trials per trial type!!\n",
      "only using 10 trials per trial type!!\n",
      "only using 10 trials per trial type!!\n",
      "only using 10 trials per trial type!!\n",
      "only using 10 trials per trial type!!\n",
      "only using 10 trials per trial type!!\n",
      "only using 10 trials per trial type!!\n",
      "only using 10 trials per trial type!!\n",
      "only using 10 trials per trial type!!\n",
      "only using 10 trials per trial type!!\n",
      "only using 10 trials per trial type!!\n",
      "only using 10 trials per trial type!!\n",
      "only using 10 trials per trial type!!\n"
     ]
    },
    {
     "name": "stderr",
     "output_type": "stream",
     "text": [
      "\r",
      "9it [00:46,  5.20s/it]"
     ]
    },
    {
     "name": "stdout",
     "output_type": "stream",
     "text": [
      "only using 10 trials per trial type!!\n",
      "only using 10 trials per trial type!!\n",
      "only using 10 trials per trial type!!\n",
      "only using 10 trials per trial type!!\n",
      "only using 10 trials per trial type!!\n",
      "only using 10 trials per trial type!!\n",
      "only using 10 trials per trial type!!\n",
      "only using 10 trials per trial type!!\n",
      "only using 10 trials per trial type!!\n",
      "only using 10 trials per trial type!!\n",
      "only using 10 trials per trial type!!\n",
      "only using 10 trials per trial type!!\n",
      "only using 10 trials per trial type!!\n",
      "only using 10 trials per trial type!!\n",
      "only using 10 trials per trial type!!\n",
      "only using 10 trials per trial type!!\n",
      "only using 10 trials per trial type!!\n",
      "only using 10 trials per trial type!!\n",
      "only using 10 trials per trial type!!\n",
      "only using 10 trials per trial type!!\n"
     ]
    },
    {
     "name": "stderr",
     "output_type": "stream",
     "text": [
      "\r",
      "10it [00:52,  5.21s/it]"
     ]
    },
    {
     "name": "stdout",
     "output_type": "stream",
     "text": [
      "only using 10 trials per trial type!!\n",
      "only using 10 trials per trial type!!\n",
      "only using 10 trials per trial type!!\n",
      "only using 10 trials per trial type!!\n",
      "only using 10 trials per trial type!!\n",
      "only using 10 trials per trial type!!\n",
      "only using 10 trials per trial type!!\n",
      "only using 10 trials per trial type!!\n",
      "only using 10 trials per trial type!!\n",
      "only using 10 trials per trial type!!\n",
      "only using 10 trials per trial type!!\n",
      "only using 10 trials per trial type!!\n",
      "only using 10 trials per trial type!!\n",
      "only using 10 trials per trial type!!\n",
      "only using 10 trials per trial type!!\n",
      "only using 10 trials per trial type!!\n",
      "only using 10 trials per trial type!!\n",
      "only using 10 trials per trial type!!\n",
      "only using 10 trials per trial type!!\n",
      "only using 10 trials per trial type!!\n"
     ]
    },
    {
     "name": "stderr",
     "output_type": "stream",
     "text": [
      "\r",
      "11it [00:57,  5.21s/it]"
     ]
    },
    {
     "name": "stdout",
     "output_type": "stream",
     "text": [
      "only using 10 trials per trial type!!\n",
      "only using 10 trials per trial type!!\n",
      "only using 10 trials per trial type!!\n",
      "only using 10 trials per trial type!!\n",
      "only using 10 trials per trial type!!\n",
      "only using 10 trials per trial type!!\n",
      "only using 10 trials per trial type!!\n",
      "only using 10 trials per trial type!!\n",
      "only using 10 trials per trial type!!\n",
      "only using 10 trials per trial type!!\n",
      "only using 10 trials per trial type!!\n",
      "only using 10 trials per trial type!!\n",
      "only using 10 trials per trial type!!\n",
      "only using 10 trials per trial type!!\n",
      "only using 10 trials per trial type!!\n",
      "only using 10 trials per trial type!!\n",
      "only using 10 trials per trial type!!\n",
      "only using 10 trials per trial type!!\n",
      "only using 10 trials per trial type!!\n",
      "only using 10 trials per trial type!!\n"
     ]
    },
    {
     "name": "stderr",
     "output_type": "stream",
     "text": [
      "\r",
      "12it [01:02,  5.22s/it]"
     ]
    },
    {
     "name": "stdout",
     "output_type": "stream",
     "text": [
      "only using 10 trials per trial type!!\n",
      "only using 10 trials per trial type!!\n",
      "only using 10 trials per trial type!!\n",
      "only using 10 trials per trial type!!\n",
      "only using 10 trials per trial type!!\n",
      "only using 10 trials per trial type!!\n",
      "only using 10 trials per trial type!!\n",
      "only using 10 trials per trial type!!\n",
      "only using 10 trials per trial type!!\n",
      "only using 10 trials per trial type!!\n",
      "only using 10 trials per trial type!!\n",
      "only using 10 trials per trial type!!\n",
      "only using 10 trials per trial type!!\n",
      "only using 10 trials per trial type!!\n",
      "only using 10 trials per trial type!!\n",
      "only using 10 trials per trial type!!\n",
      "only using 10 trials per trial type!!\n",
      "only using 10 trials per trial type!!\n",
      "only using 10 trials per trial type!!\n",
      "only using 10 trials per trial type!!\n"
     ]
    },
    {
     "name": "stderr",
     "output_type": "stream",
     "text": [
      "\r",
      "13it [01:07,  5.22s/it]"
     ]
    },
    {
     "name": "stdout",
     "output_type": "stream",
     "text": [
      "only using 10 trials per trial type!!\n",
      "only using 10 trials per trial type!!\n",
      "only using 10 trials per trial type!!\n",
      "only using 10 trials per trial type!!\n",
      "only using 10 trials per trial type!!\n",
      "only using 10 trials per trial type!!\n",
      "only using 10 trials per trial type!!\n",
      "only using 10 trials per trial type!!\n",
      "only using 10 trials per trial type!!\n",
      "only using 10 trials per trial type!!\n",
      "only using 10 trials per trial type!!\n",
      "only using 10 trials per trial type!!\n",
      "only using 10 trials per trial type!!\n",
      "only using 10 trials per trial type!!\n",
      "only using 10 trials per trial type!!\n",
      "only using 10 trials per trial type!!\n",
      "only using 10 trials per trial type!!\n",
      "only using 10 trials per trial type!!\n",
      "only using 10 trials per trial type!!\n",
      "only using 10 trials per trial type!!\n"
     ]
    },
    {
     "name": "stderr",
     "output_type": "stream",
     "text": [
      "\r",
      "14it [01:12,  5.21s/it]"
     ]
    },
    {
     "name": "stdout",
     "output_type": "stream",
     "text": [
      "only using 10 trials per trial type!!\n",
      "only using 10 trials per trial type!!\n",
      "only using 10 trials per trial type!!\n",
      "only using 10 trials per trial type!!\n",
      "only using 10 trials per trial type!!\n",
      "only using 10 trials per trial type!!\n",
      "only using 10 trials per trial type!!\n",
      "only using 10 trials per trial type!!\n",
      "only using 10 trials per trial type!!\n",
      "only using 10 trials per trial type!!\n",
      "only using 10 trials per trial type!!\n",
      "only using 10 trials per trial type!!\n",
      "only using 10 trials per trial type!!\n",
      "only using 10 trials per trial type!!\n",
      "only using 10 trials per trial type!!\n",
      "only using 10 trials per trial type!!\n",
      "only using 10 trials per trial type!!\n",
      "only using 10 trials per trial type!!\n",
      "only using 10 trials per trial type!!\n",
      "only using 10 trials per trial type!!\n"
     ]
    },
    {
     "name": "stderr",
     "output_type": "stream",
     "text": [
      "\r",
      "15it [01:18,  5.21s/it]"
     ]
    },
    {
     "name": "stdout",
     "output_type": "stream",
     "text": [
      "only using 10 trials per trial type!!\n",
      "only using 10 trials per trial type!!\n",
      "only using 10 trials per trial type!!\n",
      "only using 10 trials per trial type!!\n",
      "only using 10 trials per trial type!!\n",
      "only using 10 trials per trial type!!\n",
      "only using 10 trials per trial type!!\n",
      "only using 10 trials per trial type!!\n",
      "only using 10 trials per trial type!!\n",
      "only using 10 trials per trial type!!\n",
      "only using 10 trials per trial type!!\n",
      "only using 10 trials per trial type!!\n",
      "only using 10 trials per trial type!!\n",
      "only using 10 trials per trial type!!\n",
      "only using 10 trials per trial type!!\n",
      "only using 10 trials per trial type!!\n",
      "only using 10 trials per trial type!!\n",
      "only using 10 trials per trial type!!\n",
      "only using 10 trials per trial type!!\n",
      "only using 10 trials per trial type!!\n"
     ]
    },
    {
     "name": "stderr",
     "output_type": "stream",
     "text": [
      "\r",
      "16it [01:23,  5.27s/it]"
     ]
    },
    {
     "name": "stdout",
     "output_type": "stream",
     "text": [
      "only using 10 trials per trial type!!\n",
      "only using 10 trials per trial type!!\n",
      "only using 10 trials per trial type!!\n",
      "only using 10 trials per trial type!!\n",
      "only using 10 trials per trial type!!\n",
      "only using 10 trials per trial type!!\n",
      "only using 10 trials per trial type!!\n",
      "only using 10 trials per trial type!!\n",
      "only using 10 trials per trial type!!\n",
      "only using 10 trials per trial type!!\n",
      "only using 10 trials per trial type!!\n",
      "only using 10 trials per trial type!!\n",
      "only using 10 trials per trial type!!\n",
      "only using 10 trials per trial type!!\n",
      "only using 10 trials per trial type!!\n",
      "only using 10 trials per trial type!!\n",
      "only using 10 trials per trial type!!\n",
      "only using 10 trials per trial type!!\n",
      "only using 10 trials per trial type!!\n",
      "only using 10 trials per trial type!!\n"
     ]
    },
    {
     "name": "stderr",
     "output_type": "stream",
     "text": [
      "\r",
      "17it [01:28,  5.30s/it]"
     ]
    },
    {
     "name": "stdout",
     "output_type": "stream",
     "text": [
      "only using 10 trials per trial type!!\n",
      "only using 10 trials per trial type!!\n",
      "only using 10 trials per trial type!!\n",
      "only using 10 trials per trial type!!\n",
      "only using 10 trials per trial type!!\n",
      "only using 10 trials per trial type!!\n",
      "only using 10 trials per trial type!!\n",
      "only using 10 trials per trial type!!\n",
      "only using 10 trials per trial type!!\n",
      "only using 10 trials per trial type!!\n",
      "only using 10 trials per trial type!!\n",
      "only using 10 trials per trial type!!\n",
      "only using 10 trials per trial type!!\n",
      "only using 10 trials per trial type!!\n",
      "only using 10 trials per trial type!!\n",
      "only using 10 trials per trial type!!\n",
      "only using 10 trials per trial type!!\n",
      "only using 10 trials per trial type!!\n",
      "only using 10 trials per trial type!!\n",
      "only using 10 trials per trial type!!\n"
     ]
    },
    {
     "name": "stderr",
     "output_type": "stream",
     "text": [
      "\r",
      "18it [01:34,  5.32s/it]"
     ]
    },
    {
     "name": "stdout",
     "output_type": "stream",
     "text": [
      "only using 10 trials per trial type!!\n",
      "only using 10 trials per trial type!!\n",
      "only using 10 trials per trial type!!\n",
      "only using 10 trials per trial type!!\n",
      "only using 10 trials per trial type!!\n",
      "only using 10 trials per trial type!!\n",
      "only using 10 trials per trial type!!\n",
      "only using 10 trials per trial type!!\n",
      "only using 10 trials per trial type!!\n",
      "only using 10 trials per trial type!!\n",
      "only using 10 trials per trial type!!\n",
      "only using 10 trials per trial type!!\n",
      "only using 10 trials per trial type!!\n",
      "only using 10 trials per trial type!!\n",
      "only using 10 trials per trial type!!\n",
      "only using 10 trials per trial type!!\n",
      "only using 10 trials per trial type!!\n",
      "only using 10 trials per trial type!!\n",
      "only using 10 trials per trial type!!\n",
      "only using 10 trials per trial type!!\n"
     ]
    },
    {
     "name": "stderr",
     "output_type": "stream",
     "text": [
      "\r",
      "19it [01:39,  5.34s/it]"
     ]
    },
    {
     "name": "stdout",
     "output_type": "stream",
     "text": [
      "only using 10 trials per trial type!!\n",
      "only using 10 trials per trial type!!\n",
      "only using 10 trials per trial type!!\n",
      "only using 10 trials per trial type!!\n",
      "only using 10 trials per trial type!!\n",
      "only using 10 trials per trial type!!\n",
      "only using 10 trials per trial type!!\n",
      "only using 10 trials per trial type!!\n",
      "only using 10 trials per trial type!!\n",
      "only using 10 trials per trial type!!\n",
      "only using 10 trials per trial type!!\n",
      "only using 10 trials per trial type!!\n",
      "only using 10 trials per trial type!!\n",
      "only using 10 trials per trial type!!\n",
      "only using 10 trials per trial type!!\n",
      "only using 10 trials per trial type!!\n",
      "only using 10 trials per trial type!!\n",
      "only using 10 trials per trial type!!\n",
      "only using 10 trials per trial type!!\n",
      "only using 10 trials per trial type!!\n"
     ]
    },
    {
     "name": "stderr",
     "output_type": "stream",
     "text": [
      "\r",
      "20it [01:44,  5.30s/it]"
     ]
    },
    {
     "name": "stdout",
     "output_type": "stream",
     "text": [
      "only using 10 trials per trial type!!\n",
      "only using 10 trials per trial type!!\n",
      "only using 10 trials per trial type!!\n",
      "only using 10 trials per trial type!!\n",
      "only using 10 trials per trial type!!\n",
      "only using 10 trials per trial type!!\n",
      "only using 10 trials per trial type!!\n",
      "only using 10 trials per trial type!!\n",
      "only using 10 trials per trial type!!\n",
      "only using 10 trials per trial type!!\n",
      "only using 10 trials per trial type!!\n",
      "only using 10 trials per trial type!!\n",
      "only using 10 trials per trial type!!\n",
      "only using 10 trials per trial type!!\n",
      "only using 10 trials per trial type!!\n",
      "only using 10 trials per trial type!!\n",
      "only using 10 trials per trial type!!\n",
      "only using 10 trials per trial type!!\n",
      "only using 10 trials per trial type!!\n",
      "only using 10 trials per trial type!!\n"
     ]
    },
    {
     "name": "stderr",
     "output_type": "stream",
     "text": [
      "\r",
      "21it [01:50,  5.26s/it]"
     ]
    },
    {
     "name": "stdout",
     "output_type": "stream",
     "text": [
      "only using 10 trials per trial type!!\n",
      "only using 10 trials per trial type!!\n",
      "only using 10 trials per trial type!!\n",
      "only using 10 trials per trial type!!\n",
      "only using 10 trials per trial type!!\n",
      "only using 10 trials per trial type!!\n",
      "only using 10 trials per trial type!!\n",
      "only using 10 trials per trial type!!\n",
      "only using 10 trials per trial type!!\n",
      "only using 10 trials per trial type!!\n",
      "only using 10 trials per trial type!!\n",
      "only using 10 trials per trial type!!\n",
      "only using 10 trials per trial type!!\n",
      "only using 10 trials per trial type!!\n",
      "only using 10 trials per trial type!!\n",
      "only using 10 trials per trial type!!\n",
      "only using 10 trials per trial type!!\n",
      "only using 10 trials per trial type!!\n",
      "only using 10 trials per trial type!!\n",
      "only using 10 trials per trial type!!\n"
     ]
    },
    {
     "name": "stderr",
     "output_type": "stream",
     "text": [
      "\r",
      "22it [01:55,  5.25s/it]"
     ]
    },
    {
     "name": "stdout",
     "output_type": "stream",
     "text": [
      "only using 10 trials per trial type!!\n",
      "only using 10 trials per trial type!!\n",
      "only using 10 trials per trial type!!\n",
      "only using 10 trials per trial type!!\n",
      "only using 10 trials per trial type!!\n",
      "only using 10 trials per trial type!!\n",
      "only using 10 trials per trial type!!\n",
      "only using 10 trials per trial type!!\n",
      "only using 10 trials per trial type!!\n",
      "only using 10 trials per trial type!!\n",
      "only using 10 trials per trial type!!\n",
      "only using 10 trials per trial type!!\n",
      "only using 10 trials per trial type!!\n",
      "only using 10 trials per trial type!!\n",
      "only using 10 trials per trial type!!\n",
      "only using 10 trials per trial type!!\n",
      "only using 10 trials per trial type!!\n",
      "only using 10 trials per trial type!!\n",
      "only using 10 trials per trial type!!\n",
      "only using 10 trials per trial type!!\n"
     ]
    },
    {
     "name": "stderr",
     "output_type": "stream",
     "text": [
      "\r",
      "23it [02:00,  5.23s/it]"
     ]
    },
    {
     "name": "stdout",
     "output_type": "stream",
     "text": [
      "only using 10 trials per trial type!!\n",
      "only using 10 trials per trial type!!\n",
      "only using 10 trials per trial type!!\n",
      "only using 10 trials per trial type!!\n",
      "only using 10 trials per trial type!!\n",
      "only using 10 trials per trial type!!\n",
      "only using 10 trials per trial type!!\n",
      "only using 10 trials per trial type!!\n",
      "only using 10 trials per trial type!!\n",
      "only using 10 trials per trial type!!\n",
      "only using 10 trials per trial type!!\n",
      "only using 10 trials per trial type!!\n",
      "only using 10 trials per trial type!!\n",
      "only using 10 trials per trial type!!\n",
      "only using 10 trials per trial type!!\n",
      "only using 10 trials per trial type!!\n",
      "only using 10 trials per trial type!!\n",
      "only using 10 trials per trial type!!\n",
      "only using 10 trials per trial type!!\n",
      "only using 10 trials per trial type!!\n"
     ]
    },
    {
     "name": "stderr",
     "output_type": "stream",
     "text": [
      "\r",
      "24it [02:05,  5.25s/it]"
     ]
    },
    {
     "name": "stdout",
     "output_type": "stream",
     "text": [
      "only using 10 trials per trial type!!\n",
      "only using 10 trials per trial type!!\n",
      "only using 10 trials per trial type!!\n",
      "only using 10 trials per trial type!!\n",
      "only using 10 trials per trial type!!\n",
      "only using 10 trials per trial type!!\n",
      "only using 10 trials per trial type!!\n",
      "only using 10 trials per trial type!!\n",
      "only using 10 trials per trial type!!\n",
      "only using 10 trials per trial type!!\n",
      "only using 10 trials per trial type!!\n",
      "only using 10 trials per trial type!!\n",
      "only using 10 trials per trial type!!\n",
      "only using 10 trials per trial type!!\n",
      "only using 10 trials per trial type!!\n",
      "only using 10 trials per trial type!!\n",
      "only using 10 trials per trial type!!\n",
      "only using 10 trials per trial type!!\n",
      "only using 10 trials per trial type!!\n",
      "only using 10 trials per trial type!!\n"
     ]
    },
    {
     "name": "stderr",
     "output_type": "stream",
     "text": [
      "\r",
      "25it [02:11,  5.27s/it]"
     ]
    },
    {
     "name": "stdout",
     "output_type": "stream",
     "text": [
      "only using 10 trials per trial type!!\n",
      "only using 10 trials per trial type!!\n",
      "only using 10 trials per trial type!!\n",
      "only using 10 trials per trial type!!\n",
      "only using 10 trials per trial type!!\n",
      "only using 10 trials per trial type!!\n",
      "only using 10 trials per trial type!!\n",
      "only using 10 trials per trial type!!\n",
      "only using 10 trials per trial type!!\n",
      "only using 10 trials per trial type!!\n",
      "only using 10 trials per trial type!!\n",
      "only using 10 trials per trial type!!\n",
      "only using 10 trials per trial type!!\n",
      "only using 10 trials per trial type!!\n",
      "only using 10 trials per trial type!!\n",
      "only using 10 trials per trial type!!\n",
      "only using 10 trials per trial type!!\n",
      "only using 10 trials per trial type!!\n",
      "only using 10 trials per trial type!!\n",
      "only using 10 trials per trial type!!\n"
     ]
    },
    {
     "name": "stderr",
     "output_type": "stream",
     "text": [
      "\r",
      "26it [02:16,  5.25s/it]"
     ]
    },
    {
     "name": "stdout",
     "output_type": "stream",
     "text": [
      "only using 10 trials per trial type!!\n",
      "only using 10 trials per trial type!!\n",
      "only using 10 trials per trial type!!\n",
      "only using 10 trials per trial type!!\n",
      "only using 10 trials per trial type!!\n",
      "only using 10 trials per trial type!!\n",
      "only using 10 trials per trial type!!\n",
      "only using 10 trials per trial type!!\n",
      "only using 10 trials per trial type!!\n",
      "only using 10 trials per trial type!!\n",
      "only using 10 trials per trial type!!\n",
      "only using 10 trials per trial type!!\n",
      "only using 10 trials per trial type!!\n",
      "only using 10 trials per trial type!!\n",
      "only using 10 trials per trial type!!\n",
      "only using 10 trials per trial type!!\n",
      "only using 10 trials per trial type!!\n",
      "only using 10 trials per trial type!!\n",
      "only using 10 trials per trial type!!\n",
      "only using 10 trials per trial type!!\n"
     ]
    },
    {
     "name": "stderr",
     "output_type": "stream",
     "text": [
      "\r",
      "27it [02:21,  5.26s/it]"
     ]
    },
    {
     "name": "stdout",
     "output_type": "stream",
     "text": [
      "only using 10 trials per trial type!!\n",
      "only using 10 trials per trial type!!\n",
      "only using 10 trials per trial type!!\n",
      "only using 10 trials per trial type!!\n",
      "only using 10 trials per trial type!!\n",
      "only using 10 trials per trial type!!\n",
      "only using 10 trials per trial type!!\n",
      "only using 10 trials per trial type!!\n",
      "only using 10 trials per trial type!!\n",
      "only using 10 trials per trial type!!\n",
      "only using 10 trials per trial type!!\n",
      "only using 10 trials per trial type!!\n",
      "only using 10 trials per trial type!!\n",
      "only using 10 trials per trial type!!\n",
      "only using 10 trials per trial type!!\n",
      "only using 10 trials per trial type!!\n",
      "only using 10 trials per trial type!!\n",
      "only using 10 trials per trial type!!\n",
      "only using 10 trials per trial type!!\n",
      "only using 10 trials per trial type!!\n"
     ]
    },
    {
     "name": "stderr",
     "output_type": "stream",
     "text": [
      "\r",
      "28it [02:26,  5.29s/it]"
     ]
    },
    {
     "name": "stdout",
     "output_type": "stream",
     "text": [
      "only using 10 trials per trial type!!\n",
      "only using 10 trials per trial type!!\n",
      "only using 10 trials per trial type!!\n",
      "only using 10 trials per trial type!!\n",
      "only using 10 trials per trial type!!\n",
      "only using 10 trials per trial type!!\n",
      "only using 10 trials per trial type!!\n",
      "only using 10 trials per trial type!!\n",
      "only using 10 trials per trial type!!\n",
      "only using 10 trials per trial type!!\n",
      "only using 10 trials per trial type!!\n",
      "only using 10 trials per trial type!!\n",
      "only using 10 trials per trial type!!\n",
      "only using 10 trials per trial type!!\n",
      "only using 10 trials per trial type!!\n",
      "only using 10 trials per trial type!!\n",
      "only using 10 trials per trial type!!\n",
      "only using 10 trials per trial type!!\n",
      "only using 10 trials per trial type!!\n",
      "only using 10 trials per trial type!!\n"
     ]
    },
    {
     "name": "stderr",
     "output_type": "stream",
     "text": [
      "\r",
      "29it [02:32,  5.31s/it]"
     ]
    },
    {
     "name": "stdout",
     "output_type": "stream",
     "text": [
      "only using 10 trials per trial type!!\n",
      "only using 10 trials per trial type!!\n",
      "only using 10 trials per trial type!!\n",
      "only using 10 trials per trial type!!\n",
      "only using 10 trials per trial type!!\n",
      "only using 10 trials per trial type!!\n",
      "only using 10 trials per trial type!!\n",
      "only using 10 trials per trial type!!\n",
      "only using 10 trials per trial type!!\n",
      "only using 10 trials per trial type!!\n",
      "only using 10 trials per trial type!!\n",
      "only using 10 trials per trial type!!\n",
      "only using 10 trials per trial type!!\n",
      "only using 10 trials per trial type!!\n",
      "only using 10 trials per trial type!!\n",
      "only using 10 trials per trial type!!\n",
      "only using 10 trials per trial type!!\n",
      "only using 10 trials per trial type!!\n",
      "only using 10 trials per trial type!!\n",
      "only using 10 trials per trial type!!\n"
     ]
    },
    {
     "name": "stderr",
     "output_type": "stream",
     "text": [
      "\r",
      "30it [02:37,  5.29s/it]"
     ]
    },
    {
     "name": "stdout",
     "output_type": "stream",
     "text": [
      "only using 10 trials per trial type!!\n",
      "only using 10 trials per trial type!!\n",
      "only using 10 trials per trial type!!\n",
      "only using 10 trials per trial type!!\n",
      "only using 10 trials per trial type!!\n",
      "only using 10 trials per trial type!!\n",
      "only using 10 trials per trial type!!\n",
      "only using 10 trials per trial type!!\n",
      "only using 10 trials per trial type!!\n",
      "only using 10 trials per trial type!!\n",
      "only using 10 trials per trial type!!\n",
      "only using 10 trials per trial type!!\n",
      "only using 10 trials per trial type!!\n",
      "only using 10 trials per trial type!!\n",
      "only using 10 trials per trial type!!\n",
      "only using 10 trials per trial type!!\n",
      "only using 10 trials per trial type!!\n",
      "only using 10 trials per trial type!!\n",
      "only using 10 trials per trial type!!\n",
      "only using 10 trials per trial type!!\n"
     ]
    },
    {
     "name": "stderr",
     "output_type": "stream",
     "text": [
      "\r",
      "31it [02:42,  5.27s/it]"
     ]
    },
    {
     "name": "stdout",
     "output_type": "stream",
     "text": [
      "only using 10 trials per trial type!!\n",
      "only using 10 trials per trial type!!\n",
      "only using 10 trials per trial type!!\n",
      "only using 10 trials per trial type!!\n",
      "only using 10 trials per trial type!!\n",
      "only using 10 trials per trial type!!\n",
      "only using 10 trials per trial type!!\n",
      "only using 10 trials per trial type!!\n",
      "only using 10 trials per trial type!!\n",
      "only using 10 trials per trial type!!\n",
      "only using 10 trials per trial type!!\n",
      "only using 10 trials per trial type!!\n",
      "only using 10 trials per trial type!!\n",
      "only using 10 trials per trial type!!\n",
      "only using 10 trials per trial type!!\n",
      "only using 10 trials per trial type!!\n",
      "only using 10 trials per trial type!!\n",
      "only using 10 trials per trial type!!\n",
      "only using 10 trials per trial type!!\n",
      "only using 10 trials per trial type!!\n"
     ]
    },
    {
     "name": "stderr",
     "output_type": "stream",
     "text": [
      "\r",
      "32it [02:48,  5.30s/it]"
     ]
    },
    {
     "name": "stdout",
     "output_type": "stream",
     "text": [
      "only using 10 trials per trial type!!\n",
      "only using 10 trials per trial type!!\n",
      "only using 10 trials per trial type!!\n",
      "only using 10 trials per trial type!!\n",
      "only using 10 trials per trial type!!\n",
      "only using 10 trials per trial type!!\n",
      "only using 10 trials per trial type!!\n",
      "only using 10 trials per trial type!!\n",
      "only using 10 trials per trial type!!\n",
      "only using 10 trials per trial type!!\n",
      "only using 10 trials per trial type!!\n",
      "only using 10 trials per trial type!!\n",
      "only using 10 trials per trial type!!\n",
      "only using 10 trials per trial type!!\n",
      "only using 10 trials per trial type!!\n",
      "only using 10 trials per trial type!!\n",
      "only using 10 trials per trial type!!\n",
      "only using 10 trials per trial type!!\n",
      "only using 10 trials per trial type!!\n",
      "only using 10 trials per trial type!!\n"
     ]
    },
    {
     "name": "stderr",
     "output_type": "stream",
     "text": [
      "\r",
      "33it [02:53,  5.32s/it]"
     ]
    },
    {
     "name": "stdout",
     "output_type": "stream",
     "text": [
      "only using 10 trials per trial type!!\n",
      "only using 10 trials per trial type!!\n",
      "only using 10 trials per trial type!!\n",
      "only using 10 trials per trial type!!\n",
      "only using 10 trials per trial type!!\n",
      "only using 10 trials per trial type!!\n",
      "only using 10 trials per trial type!!\n",
      "only using 10 trials per trial type!!\n",
      "only using 10 trials per trial type!!\n",
      "only using 10 trials per trial type!!\n",
      "only using 10 trials per trial type!!\n",
      "only using 10 trials per trial type!!\n",
      "only using 10 trials per trial type!!\n",
      "only using 10 trials per trial type!!\n",
      "only using 10 trials per trial type!!\n",
      "only using 10 trials per trial type!!\n",
      "only using 10 trials per trial type!!\n",
      "only using 10 trials per trial type!!\n",
      "only using 10 trials per trial type!!\n",
      "only using 10 trials per trial type!!\n"
     ]
    },
    {
     "name": "stderr",
     "output_type": "stream",
     "text": [
      "\r",
      "34it [02:58,  5.34s/it]"
     ]
    },
    {
     "name": "stdout",
     "output_type": "stream",
     "text": [
      "only using 10 trials per trial type!!\n",
      "only using 10 trials per trial type!!\n",
      "only using 10 trials per trial type!!\n",
      "only using 10 trials per trial type!!\n",
      "only using 10 trials per trial type!!\n",
      "only using 10 trials per trial type!!\n",
      "only using 10 trials per trial type!!\n",
      "only using 10 trials per trial type!!\n",
      "only using 10 trials per trial type!!\n",
      "only using 10 trials per trial type!!\n",
      "only using 10 trials per trial type!!\n",
      "only using 10 trials per trial type!!\n",
      "only using 10 trials per trial type!!\n",
      "only using 10 trials per trial type!!\n",
      "only using 10 trials per trial type!!\n",
      "only using 10 trials per trial type!!\n",
      "only using 10 trials per trial type!!\n",
      "only using 10 trials per trial type!!\n",
      "only using 10 trials per trial type!!\n",
      "only using 10 trials per trial type!!\n"
     ]
    },
    {
     "name": "stderr",
     "output_type": "stream",
     "text": [
      "\r",
      "35it [03:04,  5.42s/it]"
     ]
    },
    {
     "name": "stdout",
     "output_type": "stream",
     "text": [
      "only using 10 trials per trial type!!\n",
      "only using 10 trials per trial type!!\n",
      "only using 10 trials per trial type!!\n",
      "only using 10 trials per trial type!!\n",
      "only using 10 trials per trial type!!\n",
      "only using 10 trials per trial type!!\n",
      "only using 10 trials per trial type!!\n",
      "only using 10 trials per trial type!!\n",
      "only using 10 trials per trial type!!\n",
      "only using 10 trials per trial type!!\n",
      "only using 10 trials per trial type!!\n",
      "only using 10 trials per trial type!!\n",
      "only using 10 trials per trial type!!\n",
      "only using 10 trials per trial type!!\n",
      "only using 10 trials per trial type!!\n",
      "only using 10 trials per trial type!!\n",
      "only using 10 trials per trial type!!\n",
      "only using 10 trials per trial type!!\n",
      "only using 10 trials per trial type!!\n",
      "only using 10 trials per trial type!!\n"
     ]
    },
    {
     "name": "stderr",
     "output_type": "stream",
     "text": [
      "\r",
      "36it [03:09,  5.41s/it]"
     ]
    },
    {
     "name": "stdout",
     "output_type": "stream",
     "text": [
      "only using 10 trials per trial type!!\n",
      "only using 10 trials per trial type!!\n",
      "only using 10 trials per trial type!!\n",
      "only using 10 trials per trial type!!\n",
      "only using 10 trials per trial type!!\n",
      "only using 10 trials per trial type!!\n",
      "only using 10 trials per trial type!!\n",
      "only using 10 trials per trial type!!\n",
      "only using 10 trials per trial type!!\n",
      "only using 10 trials per trial type!!\n",
      "only using 10 trials per trial type!!\n",
      "only using 10 trials per trial type!!\n",
      "only using 10 trials per trial type!!\n",
      "only using 10 trials per trial type!!\n",
      "only using 10 trials per trial type!!\n",
      "only using 10 trials per trial type!!\n",
      "only using 10 trials per trial type!!\n",
      "only using 10 trials per trial type!!\n",
      "only using 10 trials per trial type!!\n",
      "only using 10 trials per trial type!!\n"
     ]
    },
    {
     "name": "stderr",
     "output_type": "stream",
     "text": [
      "\r",
      "37it [03:15,  5.41s/it]"
     ]
    },
    {
     "name": "stdout",
     "output_type": "stream",
     "text": [
      "only using 10 trials per trial type!!\n",
      "only using 10 trials per trial type!!\n",
      "only using 10 trials per trial type!!\n",
      "only using 10 trials per trial type!!\n",
      "only using 10 trials per trial type!!\n",
      "only using 10 trials per trial type!!\n",
      "only using 10 trials per trial type!!\n",
      "only using 10 trials per trial type!!\n",
      "only using 10 trials per trial type!!\n",
      "only using 10 trials per trial type!!\n",
      "only using 10 trials per trial type!!\n",
      "only using 10 trials per trial type!!\n",
      "only using 10 trials per trial type!!\n",
      "only using 10 trials per trial type!!\n",
      "only using 10 trials per trial type!!\n",
      "only using 10 trials per trial type!!\n",
      "only using 10 trials per trial type!!\n",
      "only using 10 trials per trial type!!\n",
      "only using 10 trials per trial type!!\n",
      "only using 10 trials per trial type!!\n"
     ]
    },
    {
     "name": "stderr",
     "output_type": "stream",
     "text": [
      "\r",
      "38it [03:20,  5.39s/it]"
     ]
    },
    {
     "name": "stdout",
     "output_type": "stream",
     "text": [
      "only using 10 trials per trial type!!\n",
      "only using 10 trials per trial type!!\n",
      "only using 10 trials per trial type!!\n",
      "only using 10 trials per trial type!!\n",
      "only using 10 trials per trial type!!\n",
      "only using 10 trials per trial type!!\n",
      "only using 10 trials per trial type!!\n",
      "only using 10 trials per trial type!!\n",
      "only using 10 trials per trial type!!\n",
      "only using 10 trials per trial type!!\n",
      "only using 10 trials per trial type!!\n",
      "only using 10 trials per trial type!!\n",
      "only using 10 trials per trial type!!\n",
      "only using 10 trials per trial type!!\n",
      "only using 10 trials per trial type!!\n",
      "only using 10 trials per trial type!!\n",
      "only using 10 trials per trial type!!\n",
      "only using 10 trials per trial type!!\n",
      "only using 10 trials per trial type!!\n",
      "only using 10 trials per trial type!!\n"
     ]
    },
    {
     "name": "stderr",
     "output_type": "stream",
     "text": [
      "\r",
      "39it [03:25,  5.39s/it]"
     ]
    },
    {
     "name": "stdout",
     "output_type": "stream",
     "text": [
      "only using 10 trials per trial type!!\n",
      "only using 10 trials per trial type!!\n",
      "only using 10 trials per trial type!!\n",
      "only using 10 trials per trial type!!\n",
      "only using 10 trials per trial type!!\n",
      "only using 10 trials per trial type!!\n",
      "only using 10 trials per trial type!!\n",
      "only using 10 trials per trial type!!\n",
      "only using 10 trials per trial type!!\n",
      "only using 10 trials per trial type!!\n",
      "only using 10 trials per trial type!!\n",
      "only using 10 trials per trial type!!\n",
      "only using 10 trials per trial type!!\n",
      "only using 10 trials per trial type!!\n",
      "only using 10 trials per trial type!!\n",
      "only using 10 trials per trial type!!\n",
      "only using 10 trials per trial type!!\n",
      "only using 10 trials per trial type!!\n",
      "only using 10 trials per trial type!!\n",
      "only using 10 trials per trial type!!\n"
     ]
    },
    {
     "name": "stderr",
     "output_type": "stream",
     "text": [
      "\r",
      "40it [03:31,  5.38s/it]"
     ]
    },
    {
     "name": "stdout",
     "output_type": "stream",
     "text": [
      "only using 10 trials per trial type!!\n",
      "only using 10 trials per trial type!!\n",
      "only using 10 trials per trial type!!\n",
      "only using 10 trials per trial type!!\n",
      "only using 10 trials per trial type!!\n",
      "only using 10 trials per trial type!!\n",
      "only using 10 trials per trial type!!\n",
      "only using 10 trials per trial type!!\n",
      "only using 10 trials per trial type!!\n",
      "only using 10 trials per trial type!!\n",
      "only using 10 trials per trial type!!\n",
      "only using 10 trials per trial type!!\n",
      "only using 10 trials per trial type!!\n",
      "only using 10 trials per trial type!!\n",
      "only using 10 trials per trial type!!\n",
      "only using 10 trials per trial type!!\n",
      "only using 10 trials per trial type!!\n",
      "only using 10 trials per trial type!!\n",
      "only using 10 trials per trial type!!\n",
      "only using 10 trials per trial type!!\n"
     ]
    },
    {
     "name": "stderr",
     "output_type": "stream",
     "text": [
      "\r",
      "41it [03:36,  5.36s/it]"
     ]
    },
    {
     "name": "stdout",
     "output_type": "stream",
     "text": [
      "only using 10 trials per trial type!!\n",
      "only using 10 trials per trial type!!\n",
      "only using 10 trials per trial type!!\n",
      "only using 10 trials per trial type!!\n",
      "only using 10 trials per trial type!!\n",
      "only using 10 trials per trial type!!\n",
      "only using 10 trials per trial type!!\n",
      "only using 10 trials per trial type!!\n",
      "only using 10 trials per trial type!!\n",
      "only using 10 trials per trial type!!\n",
      "only using 10 trials per trial type!!\n",
      "only using 10 trials per trial type!!\n",
      "only using 10 trials per trial type!!\n",
      "only using 10 trials per trial type!!\n",
      "only using 10 trials per trial type!!\n",
      "only using 10 trials per trial type!!\n",
      "only using 10 trials per trial type!!\n",
      "only using 10 trials per trial type!!\n",
      "only using 10 trials per trial type!!\n",
      "only using 10 trials per trial type!!\n"
     ]
    },
    {
     "name": "stderr",
     "output_type": "stream",
     "text": [
      "\r",
      "42it [03:42,  5.37s/it]"
     ]
    },
    {
     "name": "stdout",
     "output_type": "stream",
     "text": [
      "only using 10 trials per trial type!!\n",
      "only using 10 trials per trial type!!\n",
      "only using 10 trials per trial type!!\n",
      "only using 10 trials per trial type!!\n",
      "only using 10 trials per trial type!!\n",
      "only using 10 trials per trial type!!\n",
      "only using 10 trials per trial type!!\n",
      "only using 10 trials per trial type!!\n",
      "only using 10 trials per trial type!!\n",
      "only using 10 trials per trial type!!\n",
      "only using 10 trials per trial type!!\n",
      "only using 10 trials per trial type!!\n",
      "only using 10 trials per trial type!!\n",
      "only using 10 trials per trial type!!\n",
      "only using 10 trials per trial type!!\n",
      "only using 10 trials per trial type!!\n",
      "only using 10 trials per trial type!!\n",
      "only using 10 trials per trial type!!\n",
      "only using 10 trials per trial type!!\n",
      "only using 10 trials per trial type!!\n"
     ]
    },
    {
     "name": "stderr",
     "output_type": "stream",
     "text": [
      "\r",
      "43it [03:47,  5.37s/it]"
     ]
    },
    {
     "name": "stdout",
     "output_type": "stream",
     "text": [
      "only using 10 trials per trial type!!\n",
      "only using 10 trials per trial type!!\n",
      "only using 10 trials per trial type!!\n",
      "only using 10 trials per trial type!!\n",
      "only using 10 trials per trial type!!\n",
      "only using 10 trials per trial type!!\n",
      "only using 10 trials per trial type!!\n",
      "only using 10 trials per trial type!!\n",
      "only using 10 trials per trial type!!\n",
      "only using 10 trials per trial type!!\n",
      "only using 10 trials per trial type!!\n",
      "only using 10 trials per trial type!!\n",
      "only using 10 trials per trial type!!\n",
      "only using 10 trials per trial type!!\n",
      "only using 10 trials per trial type!!\n",
      "only using 10 trials per trial type!!\n",
      "only using 10 trials per trial type!!\n",
      "only using 10 trials per trial type!!\n",
      "only using 10 trials per trial type!!\n",
      "only using 10 trials per trial type!!\n"
     ]
    },
    {
     "name": "stderr",
     "output_type": "stream",
     "text": [
      "\r",
      "44it [03:52,  5.37s/it]"
     ]
    },
    {
     "name": "stdout",
     "output_type": "stream",
     "text": [
      "only using 10 trials per trial type!!\n",
      "only using 10 trials per trial type!!\n",
      "only using 10 trials per trial type!!\n",
      "only using 10 trials per trial type!!\n",
      "only using 10 trials per trial type!!\n",
      "only using 10 trials per trial type!!\n",
      "only using 10 trials per trial type!!\n",
      "only using 10 trials per trial type!!\n",
      "only using 10 trials per trial type!!\n",
      "only using 10 trials per trial type!!\n",
      "only using 10 trials per trial type!!\n",
      "only using 10 trials per trial type!!\n",
      "only using 10 trials per trial type!!\n",
      "only using 10 trials per trial type!!\n",
      "only using 10 trials per trial type!!\n",
      "only using 10 trials per trial type!!\n",
      "only using 10 trials per trial type!!\n",
      "only using 10 trials per trial type!!\n",
      "only using 10 trials per trial type!!\n",
      "only using 10 trials per trial type!!\n"
     ]
    },
    {
     "name": "stderr",
     "output_type": "stream",
     "text": [
      "\r",
      "45it [03:58,  5.37s/it]"
     ]
    },
    {
     "name": "stdout",
     "output_type": "stream",
     "text": [
      "only using 10 trials per trial type!!\n",
      "only using 10 trials per trial type!!\n",
      "only using 10 trials per trial type!!\n",
      "only using 10 trials per trial type!!\n",
      "only using 10 trials per trial type!!\n",
      "only using 10 trials per trial type!!\n",
      "only using 10 trials per trial type!!\n",
      "only using 10 trials per trial type!!\n",
      "only using 10 trials per trial type!!\n",
      "only using 10 trials per trial type!!\n",
      "only using 10 trials per trial type!!\n",
      "only using 10 trials per trial type!!\n",
      "only using 10 trials per trial type!!\n",
      "only using 10 trials per trial type!!\n",
      "only using 10 trials per trial type!!\n",
      "only using 10 trials per trial type!!\n",
      "only using 10 trials per trial type!!\n",
      "only using 10 trials per trial type!!\n",
      "only using 10 trials per trial type!!\n",
      "only using 10 trials per trial type!!\n"
     ]
    },
    {
     "name": "stderr",
     "output_type": "stream",
     "text": [
      "\r",
      "46it [04:03,  5.37s/it]"
     ]
    },
    {
     "name": "stdout",
     "output_type": "stream",
     "text": [
      "only using 10 trials per trial type!!\n",
      "only using 10 trials per trial type!!\n",
      "only using 10 trials per trial type!!\n",
      "only using 10 trials per trial type!!\n",
      "only using 10 trials per trial type!!\n",
      "only using 10 trials per trial type!!\n",
      "only using 10 trials per trial type!!\n",
      "only using 10 trials per trial type!!\n",
      "only using 10 trials per trial type!!\n",
      "only using 10 trials per trial type!!\n",
      "only using 10 trials per trial type!!\n",
      "only using 10 trials per trial type!!\n",
      "only using 10 trials per trial type!!\n",
      "only using 10 trials per trial type!!\n",
      "only using 10 trials per trial type!!\n",
      "only using 10 trials per trial type!!\n",
      "only using 10 trials per trial type!!\n",
      "only using 10 trials per trial type!!\n",
      "only using 10 trials per trial type!!\n",
      "only using 10 trials per trial type!!\n"
     ]
    },
    {
     "name": "stderr",
     "output_type": "stream",
     "text": [
      "\r",
      "47it [04:08,  5.36s/it]"
     ]
    },
    {
     "name": "stdout",
     "output_type": "stream",
     "text": [
      "only using 10 trials per trial type!!\n",
      "only using 10 trials per trial type!!\n",
      "only using 10 trials per trial type!!\n",
      "only using 10 trials per trial type!!\n",
      "only using 10 trials per trial type!!\n",
      "only using 10 trials per trial type!!\n",
      "only using 10 trials per trial type!!\n",
      "only using 10 trials per trial type!!\n",
      "only using 10 trials per trial type!!\n",
      "only using 10 trials per trial type!!\n",
      "only using 10 trials per trial type!!\n",
      "only using 10 trials per trial type!!\n",
      "only using 10 trials per trial type!!\n",
      "only using 10 trials per trial type!!\n",
      "only using 10 trials per trial type!!\n",
      "only using 10 trials per trial type!!\n",
      "only using 10 trials per trial type!!\n",
      "only using 10 trials per trial type!!\n",
      "only using 10 trials per trial type!!\n",
      "only using 10 trials per trial type!!\n"
     ]
    },
    {
     "name": "stderr",
     "output_type": "stream",
     "text": [
      "\r",
      "48it [04:14,  5.36s/it]"
     ]
    },
    {
     "name": "stdout",
     "output_type": "stream",
     "text": [
      "only using 10 trials per trial type!!\n",
      "only using 10 trials per trial type!!\n",
      "only using 10 trials per trial type!!\n",
      "only using 10 trials per trial type!!\n",
      "only using 10 trials per trial type!!\n",
      "only using 10 trials per trial type!!\n",
      "only using 10 trials per trial type!!\n",
      "only using 10 trials per trial type!!\n",
      "only using 10 trials per trial type!!\n",
      "only using 10 trials per trial type!!\n",
      "only using 10 trials per trial type!!\n",
      "only using 10 trials per trial type!!\n",
      "only using 10 trials per trial type!!\n",
      "only using 10 trials per trial type!!\n",
      "only using 10 trials per trial type!!\n",
      "only using 10 trials per trial type!!\n",
      "only using 10 trials per trial type!!\n",
      "only using 10 trials per trial type!!\n",
      "only using 10 trials per trial type!!\n",
      "only using 10 trials per trial type!!\n"
     ]
    },
    {
     "name": "stderr",
     "output_type": "stream",
     "text": [
      "\r",
      "49it [04:19,  5.36s/it]"
     ]
    },
    {
     "name": "stdout",
     "output_type": "stream",
     "text": [
      "only using 10 trials per trial type!!\n",
      "only using 10 trials per trial type!!\n",
      "only using 10 trials per trial type!!\n",
      "only using 10 trials per trial type!!\n",
      "only using 10 trials per trial type!!\n",
      "only using 10 trials per trial type!!\n",
      "only using 10 trials per trial type!!\n",
      "only using 10 trials per trial type!!\n",
      "only using 10 trials per trial type!!\n",
      "only using 10 trials per trial type!!\n",
      "only using 10 trials per trial type!!\n",
      "only using 10 trials per trial type!!\n",
      "only using 10 trials per trial type!!\n",
      "only using 10 trials per trial type!!\n",
      "only using 10 trials per trial type!!\n",
      "only using 10 trials per trial type!!\n",
      "only using 10 trials per trial type!!\n",
      "only using 10 trials per trial type!!\n",
      "only using 10 trials per trial type!!\n",
      "only using 10 trials per trial type!!\n"
     ]
    },
    {
     "name": "stderr",
     "output_type": "stream",
     "text": [
      "\r",
      "50it [04:24,  5.36s/it]"
     ]
    },
    {
     "name": "stdout",
     "output_type": "stream",
     "text": [
      "only using 10 trials per trial type!!\n",
      "only using 10 trials per trial type!!\n",
      "only using 10 trials per trial type!!\n",
      "only using 10 trials per trial type!!\n",
      "only using 10 trials per trial type!!\n",
      "only using 10 trials per trial type!!\n",
      "only using 10 trials per trial type!!\n",
      "only using 10 trials per trial type!!\n",
      "only using 10 trials per trial type!!\n",
      "only using 10 trials per trial type!!\n",
      "only using 10 trials per trial type!!\n",
      "only using 10 trials per trial type!!\n",
      "only using 10 trials per trial type!!\n",
      "only using 10 trials per trial type!!\n",
      "only using 10 trials per trial type!!\n",
      "only using 10 trials per trial type!!\n",
      "only using 10 trials per trial type!!\n",
      "only using 10 trials per trial type!!\n",
      "only using 10 trials per trial type!!\n",
      "only using 10 trials per trial type!!\n"
     ]
    },
    {
     "name": "stderr",
     "output_type": "stream",
     "text": [
      "\r",
      "51it [04:30,  5.37s/it]"
     ]
    },
    {
     "name": "stdout",
     "output_type": "stream",
     "text": [
      "only using 10 trials per trial type!!\n",
      "only using 10 trials per trial type!!\n",
      "only using 10 trials per trial type!!\n",
      "only using 10 trials per trial type!!\n",
      "only using 10 trials per trial type!!\n",
      "only using 10 trials per trial type!!\n",
      "only using 10 trials per trial type!!\n",
      "only using 10 trials per trial type!!\n",
      "only using 10 trials per trial type!!\n",
      "only using 10 trials per trial type!!\n",
      "only using 10 trials per trial type!!\n",
      "only using 10 trials per trial type!!\n",
      "only using 10 trials per trial type!!\n",
      "only using 10 trials per trial type!!\n",
      "only using 10 trials per trial type!!\n",
      "only using 10 trials per trial type!!\n",
      "only using 10 trials per trial type!!\n",
      "only using 10 trials per trial type!!\n",
      "only using 10 trials per trial type!!\n",
      "only using 10 trials per trial type!!\n"
     ]
    },
    {
     "name": "stderr",
     "output_type": "stream",
     "text": [
      "\r",
      "52it [04:35,  5.38s/it]"
     ]
    },
    {
     "name": "stdout",
     "output_type": "stream",
     "text": [
      "only using 10 trials per trial type!!\n",
      "only using 10 trials per trial type!!\n",
      "only using 10 trials per trial type!!\n",
      "only using 10 trials per trial type!!\n",
      "only using 10 trials per trial type!!\n",
      "only using 10 trials per trial type!!\n",
      "only using 10 trials per trial type!!\n",
      "only using 10 trials per trial type!!\n",
      "only using 10 trials per trial type!!\n",
      "only using 10 trials per trial type!!\n",
      "only using 10 trials per trial type!!\n",
      "only using 10 trials per trial type!!\n",
      "only using 10 trials per trial type!!\n",
      "only using 10 trials per trial type!!\n",
      "only using 10 trials per trial type!!\n",
      "only using 10 trials per trial type!!\n",
      "only using 10 trials per trial type!!\n",
      "only using 10 trials per trial type!!\n",
      "only using 10 trials per trial type!!\n",
      "only using 10 trials per trial type!!\n"
     ]
    },
    {
     "name": "stderr",
     "output_type": "stream",
     "text": [
      "\r",
      "53it [04:41,  5.38s/it]"
     ]
    },
    {
     "name": "stdout",
     "output_type": "stream",
     "text": [
      "only using 10 trials per trial type!!\n",
      "only using 10 trials per trial type!!\n",
      "only using 10 trials per trial type!!\n",
      "only using 10 trials per trial type!!\n",
      "only using 10 trials per trial type!!\n",
      "only using 10 trials per trial type!!\n",
      "only using 10 trials per trial type!!\n",
      "only using 10 trials per trial type!!\n",
      "only using 10 trials per trial type!!\n",
      "only using 10 trials per trial type!!\n",
      "only using 10 trials per trial type!!\n",
      "only using 10 trials per trial type!!\n",
      "only using 10 trials per trial type!!\n",
      "only using 10 trials per trial type!!\n",
      "only using 10 trials per trial type!!\n",
      "only using 10 trials per trial type!!\n",
      "only using 10 trials per trial type!!\n",
      "only using 10 trials per trial type!!\n",
      "only using 10 trials per trial type!!\n",
      "only using 10 trials per trial type!!\n"
     ]
    },
    {
     "name": "stderr",
     "output_type": "stream",
     "text": [
      "\r",
      "54it [04:46,  5.37s/it]"
     ]
    },
    {
     "name": "stdout",
     "output_type": "stream",
     "text": [
      "only using 10 trials per trial type!!\n",
      "only using 10 trials per trial type!!\n",
      "only using 10 trials per trial type!!\n",
      "only using 10 trials per trial type!!\n",
      "only using 10 trials per trial type!!\n",
      "only using 10 trials per trial type!!\n",
      "only using 10 trials per trial type!!\n",
      "only using 10 trials per trial type!!\n",
      "only using 10 trials per trial type!!\n",
      "only using 10 trials per trial type!!\n",
      "only using 10 trials per trial type!!\n",
      "only using 10 trials per trial type!!\n",
      "only using 10 trials per trial type!!\n",
      "only using 10 trials per trial type!!\n",
      "only using 10 trials per trial type!!\n",
      "only using 10 trials per trial type!!\n",
      "only using 10 trials per trial type!!\n",
      "only using 10 trials per trial type!!\n",
      "only using 10 trials per trial type!!\n",
      "only using 10 trials per trial type!!\n"
     ]
    },
    {
     "name": "stderr",
     "output_type": "stream",
     "text": [
      "\r",
      "55it [04:51,  5.37s/it]"
     ]
    },
    {
     "name": "stdout",
     "output_type": "stream",
     "text": [
      "only using 10 trials per trial type!!\n",
      "only using 10 trials per trial type!!\n",
      "only using 10 trials per trial type!!\n",
      "only using 10 trials per trial type!!\n",
      "only using 10 trials per trial type!!\n",
      "only using 10 trials per trial type!!\n",
      "only using 10 trials per trial type!!\n",
      "only using 10 trials per trial type!!\n",
      "only using 10 trials per trial type!!\n",
      "only using 10 trials per trial type!!\n",
      "only using 10 trials per trial type!!\n",
      "only using 10 trials per trial type!!\n",
      "only using 10 trials per trial type!!\n",
      "only using 10 trials per trial type!!\n",
      "only using 10 trials per trial type!!\n",
      "only using 10 trials per trial type!!\n",
      "only using 10 trials per trial type!!\n",
      "only using 10 trials per trial type!!\n",
      "only using 10 trials per trial type!!\n",
      "only using 10 trials per trial type!!\n"
     ]
    },
    {
     "name": "stderr",
     "output_type": "stream",
     "text": [
      "\r",
      "56it [04:57,  5.34s/it]"
     ]
    },
    {
     "name": "stdout",
     "output_type": "stream",
     "text": [
      "only using 10 trials per trial type!!\n",
      "only using 10 trials per trial type!!\n",
      "only using 10 trials per trial type!!\n",
      "only using 10 trials per trial type!!\n",
      "only using 10 trials per trial type!!\n",
      "only using 10 trials per trial type!!\n",
      "only using 10 trials per trial type!!\n",
      "only using 10 trials per trial type!!\n",
      "only using 10 trials per trial type!!\n",
      "only using 10 trials per trial type!!\n",
      "only using 10 trials per trial type!!\n",
      "only using 10 trials per trial type!!\n",
      "only using 10 trials per trial type!!\n",
      "only using 10 trials per trial type!!\n",
      "only using 10 trials per trial type!!\n",
      "only using 10 trials per trial type!!\n",
      "only using 10 trials per trial type!!\n",
      "only using 10 trials per trial type!!\n",
      "only using 10 trials per trial type!!\n",
      "only using 10 trials per trial type!!\n"
     ]
    },
    {
     "name": "stderr",
     "output_type": "stream",
     "text": [
      "\r",
      "57it [05:02,  5.30s/it]"
     ]
    },
    {
     "name": "stdout",
     "output_type": "stream",
     "text": [
      "only using 10 trials per trial type!!\n",
      "only using 10 trials per trial type!!\n",
      "only using 10 trials per trial type!!\n",
      "only using 10 trials per trial type!!\n",
      "only using 10 trials per trial type!!\n",
      "only using 10 trials per trial type!!\n",
      "only using 10 trials per trial type!!\n",
      "only using 10 trials per trial type!!\n",
      "only using 10 trials per trial type!!\n",
      "only using 10 trials per trial type!!\n",
      "only using 10 trials per trial type!!\n",
      "only using 10 trials per trial type!!\n",
      "only using 10 trials per trial type!!\n",
      "only using 10 trials per trial type!!\n",
      "only using 10 trials per trial type!!\n",
      "only using 10 trials per trial type!!\n",
      "only using 10 trials per trial type!!\n",
      "only using 10 trials per trial type!!\n",
      "only using 10 trials per trial type!!\n",
      "only using 10 trials per trial type!!\n"
     ]
    },
    {
     "name": "stderr",
     "output_type": "stream",
     "text": [
      "\r",
      "58it [05:07,  5.28s/it]"
     ]
    },
    {
     "name": "stdout",
     "output_type": "stream",
     "text": [
      "only using 10 trials per trial type!!\n",
      "only using 10 trials per trial type!!\n",
      "only using 10 trials per trial type!!\n",
      "only using 10 trials per trial type!!\n",
      "only using 10 trials per trial type!!\n",
      "only using 10 trials per trial type!!\n",
      "only using 10 trials per trial type!!\n",
      "only using 10 trials per trial type!!\n",
      "only using 10 trials per trial type!!\n",
      "only using 10 trials per trial type!!\n",
      "only using 10 trials per trial type!!\n",
      "only using 10 trials per trial type!!\n",
      "only using 10 trials per trial type!!\n",
      "only using 10 trials per trial type!!\n",
      "only using 10 trials per trial type!!\n",
      "only using 10 trials per trial type!!\n",
      "only using 10 trials per trial type!!\n",
      "only using 10 trials per trial type!!\n",
      "only using 10 trials per trial type!!\n",
      "only using 10 trials per trial type!!\n"
     ]
    },
    {
     "name": "stderr",
     "output_type": "stream",
     "text": [
      "\r",
      "59it [05:12,  5.26s/it]"
     ]
    },
    {
     "name": "stdout",
     "output_type": "stream",
     "text": [
      "only using 10 trials per trial type!!\n",
      "only using 10 trials per trial type!!\n",
      "only using 10 trials per trial type!!\n",
      "only using 10 trials per trial type!!\n",
      "only using 10 trials per trial type!!\n",
      "only using 10 trials per trial type!!\n",
      "only using 10 trials per trial type!!\n",
      "only using 10 trials per trial type!!\n",
      "only using 10 trials per trial type!!\n",
      "only using 10 trials per trial type!!\n",
      "only using 10 trials per trial type!!\n",
      "only using 10 trials per trial type!!\n",
      "only using 10 trials per trial type!!\n",
      "only using 10 trials per trial type!!\n",
      "only using 10 trials per trial type!!\n",
      "only using 10 trials per trial type!!\n",
      "only using 10 trials per trial type!!\n",
      "only using 10 trials per trial type!!\n",
      "only using 10 trials per trial type!!\n",
      "only using 10 trials per trial type!!\n"
     ]
    },
    {
     "name": "stderr",
     "output_type": "stream",
     "text": [
      "\r",
      "60it [05:18,  5.29s/it]"
     ]
    },
    {
     "name": "stdout",
     "output_type": "stream",
     "text": [
      "only using 10 trials per trial type!!\n",
      "only using 10 trials per trial type!!\n",
      "only using 10 trials per trial type!!\n",
      "only using 10 trials per trial type!!\n",
      "only using 10 trials per trial type!!\n",
      "only using 10 trials per trial type!!\n",
      "only using 10 trials per trial type!!\n",
      "only using 10 trials per trial type!!\n",
      "only using 10 trials per trial type!!\n",
      "only using 10 trials per trial type!!\n",
      "only using 10 trials per trial type!!\n",
      "only using 10 trials per trial type!!\n",
      "only using 10 trials per trial type!!\n",
      "only using 10 trials per trial type!!\n",
      "only using 10 trials per trial type!!\n",
      "only using 10 trials per trial type!!\n",
      "only using 10 trials per trial type!!\n",
      "only using 10 trials per trial type!!\n",
      "only using 10 trials per trial type!!\n",
      "only using 10 trials per trial type!!\n"
     ]
    },
    {
     "name": "stderr",
     "output_type": "stream",
     "text": [
      "\r",
      "61it [05:23,  5.29s/it]"
     ]
    },
    {
     "name": "stdout",
     "output_type": "stream",
     "text": [
      "only using 10 trials per trial type!!\n",
      "only using 10 trials per trial type!!\n",
      "only using 10 trials per trial type!!\n",
      "only using 10 trials per trial type!!\n",
      "only using 10 trials per trial type!!\n",
      "only using 10 trials per trial type!!\n",
      "only using 10 trials per trial type!!\n",
      "only using 10 trials per trial type!!\n",
      "only using 10 trials per trial type!!\n",
      "only using 10 trials per trial type!!\n",
      "only using 10 trials per trial type!!\n",
      "only using 10 trials per trial type!!\n",
      "only using 10 trials per trial type!!\n",
      "only using 10 trials per trial type!!\n",
      "only using 10 trials per trial type!!\n",
      "only using 10 trials per trial type!!\n",
      "only using 10 trials per trial type!!\n",
      "only using 10 trials per trial type!!\n",
      "only using 10 trials per trial type!!\n",
      "only using 10 trials per trial type!!\n"
     ]
    },
    {
     "name": "stderr",
     "output_type": "stream",
     "text": [
      "\r",
      "62it [05:28,  5.34s/it]"
     ]
    },
    {
     "name": "stdout",
     "output_type": "stream",
     "text": [
      "only using 10 trials per trial type!!\n",
      "only using 10 trials per trial type!!\n",
      "only using 10 trials per trial type!!\n",
      "only using 10 trials per trial type!!\n",
      "only using 10 trials per trial type!!\n",
      "only using 10 trials per trial type!!\n",
      "only using 10 trials per trial type!!\n",
      "only using 10 trials per trial type!!\n",
      "only using 10 trials per trial type!!\n",
      "only using 10 trials per trial type!!\n",
      "only using 10 trials per trial type!!\n",
      "only using 10 trials per trial type!!\n",
      "only using 10 trials per trial type!!\n",
      "only using 10 trials per trial type!!\n",
      "only using 10 trials per trial type!!\n",
      "only using 10 trials per trial type!!\n",
      "only using 10 trials per trial type!!\n",
      "only using 10 trials per trial type!!\n",
      "only using 10 trials per trial type!!\n",
      "only using 10 trials per trial type!!\n"
     ]
    },
    {
     "name": "stderr",
     "output_type": "stream",
     "text": [
      "\r",
      "63it [05:34,  5.37s/it]"
     ]
    },
    {
     "name": "stdout",
     "output_type": "stream",
     "text": [
      "only using 10 trials per trial type!!\n",
      "only using 10 trials per trial type!!\n",
      "only using 10 trials per trial type!!\n",
      "only using 10 trials per trial type!!\n",
      "only using 10 trials per trial type!!\n",
      "only using 10 trials per trial type!!\n",
      "only using 10 trials per trial type!!\n",
      "only using 10 trials per trial type!!\n",
      "only using 10 trials per trial type!!\n",
      "only using 10 trials per trial type!!\n",
      "only using 10 trials per trial type!!\n",
      "only using 10 trials per trial type!!\n",
      "only using 10 trials per trial type!!\n",
      "only using 10 trials per trial type!!\n",
      "only using 10 trials per trial type!!\n",
      "only using 10 trials per trial type!!\n",
      "only using 10 trials per trial type!!\n",
      "only using 10 trials per trial type!!\n",
      "only using 10 trials per trial type!!\n",
      "only using 10 trials per trial type!!\n"
     ]
    },
    {
     "name": "stderr",
     "output_type": "stream",
     "text": [
      "\r",
      "64it [05:39,  5.36s/it]"
     ]
    },
    {
     "name": "stdout",
     "output_type": "stream",
     "text": [
      "only using 10 trials per trial type!!\n",
      "only using 10 trials per trial type!!\n",
      "only using 10 trials per trial type!!\n",
      "only using 10 trials per trial type!!\n",
      "only using 10 trials per trial type!!\n",
      "only using 10 trials per trial type!!\n",
      "only using 10 trials per trial type!!\n",
      "only using 10 trials per trial type!!\n",
      "only using 10 trials per trial type!!\n",
      "only using 10 trials per trial type!!\n",
      "only using 10 trials per trial type!!\n",
      "only using 10 trials per trial type!!\n",
      "only using 10 trials per trial type!!\n",
      "only using 10 trials per trial type!!\n",
      "only using 10 trials per trial type!!\n",
      "only using 10 trials per trial type!!\n",
      "only using 10 trials per trial type!!\n",
      "only using 10 trials per trial type!!\n",
      "only using 10 trials per trial type!!\n",
      "only using 10 trials per trial type!!\n"
     ]
    },
    {
     "name": "stderr",
     "output_type": "stream",
     "text": [
      "\r",
      "65it [05:44,  5.33s/it]"
     ]
    },
    {
     "name": "stdout",
     "output_type": "stream",
     "text": [
      "only using 10 trials per trial type!!\n",
      "only using 10 trials per trial type!!\n",
      "only using 10 trials per trial type!!\n",
      "only using 10 trials per trial type!!\n",
      "only using 10 trials per trial type!!\n",
      "only using 10 trials per trial type!!\n",
      "only using 10 trials per trial type!!\n",
      "only using 10 trials per trial type!!\n",
      "only using 10 trials per trial type!!\n",
      "only using 10 trials per trial type!!\n",
      "only using 10 trials per trial type!!\n",
      "only using 10 trials per trial type!!\n",
      "only using 10 trials per trial type!!\n",
      "only using 10 trials per trial type!!\n",
      "only using 10 trials per trial type!!\n",
      "only using 10 trials per trial type!!\n",
      "only using 10 trials per trial type!!\n",
      "only using 10 trials per trial type!!\n",
      "only using 10 trials per trial type!!\n",
      "only using 10 trials per trial type!!\n"
     ]
    },
    {
     "name": "stderr",
     "output_type": "stream",
     "text": [
      "\r",
      "66it [05:50,  5.32s/it]"
     ]
    },
    {
     "name": "stdout",
     "output_type": "stream",
     "text": [
      "only using 10 trials per trial type!!\n",
      "only using 10 trials per trial type!!\n",
      "only using 10 trials per trial type!!\n",
      "only using 10 trials per trial type!!\n",
      "only using 10 trials per trial type!!\n",
      "only using 10 trials per trial type!!\n",
      "only using 10 trials per trial type!!\n",
      "only using 10 trials per trial type!!\n",
      "only using 10 trials per trial type!!\n",
      "only using 10 trials per trial type!!\n",
      "only using 10 trials per trial type!!\n",
      "only using 10 trials per trial type!!\n",
      "only using 10 trials per trial type!!\n",
      "only using 10 trials per trial type!!\n",
      "only using 10 trials per trial type!!\n",
      "only using 10 trials per trial type!!\n",
      "only using 10 trials per trial type!!\n",
      "only using 10 trials per trial type!!\n",
      "only using 10 trials per trial type!!\n",
      "only using 10 trials per trial type!!\n"
     ]
    },
    {
     "name": "stderr",
     "output_type": "stream",
     "text": [
      "\r",
      "67it [05:55,  5.30s/it]"
     ]
    },
    {
     "name": "stdout",
     "output_type": "stream",
     "text": [
      "only using 10 trials per trial type!!\n",
      "only using 10 trials per trial type!!\n",
      "only using 10 trials per trial type!!\n",
      "only using 10 trials per trial type!!\n",
      "only using 10 trials per trial type!!\n",
      "only using 10 trials per trial type!!\n",
      "only using 10 trials per trial type!!\n",
      "only using 10 trials per trial type!!\n",
      "only using 10 trials per trial type!!\n",
      "only using 10 trials per trial type!!\n",
      "only using 10 trials per trial type!!\n",
      "only using 10 trials per trial type!!\n",
      "only using 10 trials per trial type!!\n",
      "only using 10 trials per trial type!!\n",
      "only using 10 trials per trial type!!\n",
      "only using 10 trials per trial type!!\n",
      "only using 10 trials per trial type!!\n",
      "only using 10 trials per trial type!!\n",
      "only using 10 trials per trial type!!\n",
      "only using 10 trials per trial type!!\n"
     ]
    },
    {
     "name": "stderr",
     "output_type": "stream",
     "text": [
      "\r",
      "68it [06:00,  5.29s/it]"
     ]
    },
    {
     "name": "stdout",
     "output_type": "stream",
     "text": [
      "only using 10 trials per trial type!!\n",
      "only using 10 trials per trial type!!\n",
      "only using 10 trials per trial type!!\n",
      "only using 10 trials per trial type!!\n",
      "only using 10 trials per trial type!!\n",
      "only using 10 trials per trial type!!\n",
      "only using 10 trials per trial type!!\n",
      "only using 10 trials per trial type!!\n",
      "only using 10 trials per trial type!!\n",
      "only using 10 trials per trial type!!\n",
      "only using 10 trials per trial type!!\n",
      "only using 10 trials per trial type!!\n",
      "only using 10 trials per trial type!!\n",
      "only using 10 trials per trial type!!\n",
      "only using 10 trials per trial type!!\n",
      "only using 10 trials per trial type!!\n",
      "only using 10 trials per trial type!!\n",
      "only using 10 trials per trial type!!\n",
      "only using 10 trials per trial type!!\n",
      "only using 10 trials per trial type!!\n"
     ]
    },
    {
     "name": "stderr",
     "output_type": "stream",
     "text": [
      "\r",
      "69it [06:05,  5.28s/it]"
     ]
    },
    {
     "name": "stdout",
     "output_type": "stream",
     "text": [
      "only using 10 trials per trial type!!\n",
      "only using 10 trials per trial type!!\n",
      "only using 10 trials per trial type!!\n",
      "only using 10 trials per trial type!!\n",
      "only using 10 trials per trial type!!\n",
      "only using 10 trials per trial type!!\n",
      "only using 10 trials per trial type!!\n",
      "only using 10 trials per trial type!!\n",
      "only using 10 trials per trial type!!\n",
      "only using 10 trials per trial type!!\n",
      "only using 10 trials per trial type!!\n",
      "only using 10 trials per trial type!!\n",
      "only using 10 trials per trial type!!\n",
      "only using 10 trials per trial type!!\n",
      "only using 10 trials per trial type!!\n",
      "only using 10 trials per trial type!!\n",
      "only using 10 trials per trial type!!\n",
      "only using 10 trials per trial type!!\n",
      "only using 10 trials per trial type!!\n",
      "only using 10 trials per trial type!!\n"
     ]
    },
    {
     "name": "stderr",
     "output_type": "stream",
     "text": [
      "\r",
      "70it [06:11,  5.27s/it]"
     ]
    },
    {
     "name": "stdout",
     "output_type": "stream",
     "text": [
      "only using 10 trials per trial type!!\n",
      "only using 10 trials per trial type!!\n",
      "only using 10 trials per trial type!!\n",
      "only using 10 trials per trial type!!\n",
      "only using 10 trials per trial type!!\n",
      "only using 10 trials per trial type!!\n",
      "only using 10 trials per trial type!!\n",
      "only using 10 trials per trial type!!\n",
      "only using 10 trials per trial type!!\n",
      "only using 10 trials per trial type!!\n",
      "only using 10 trials per trial type!!\n",
      "only using 10 trials per trial type!!\n",
      "only using 10 trials per trial type!!\n",
      "only using 10 trials per trial type!!\n",
      "only using 10 trials per trial type!!\n",
      "only using 10 trials per trial type!!\n",
      "only using 10 trials per trial type!!\n",
      "only using 10 trials per trial type!!\n",
      "only using 10 trials per trial type!!\n",
      "only using 10 trials per trial type!!\n"
     ]
    },
    {
     "name": "stderr",
     "output_type": "stream",
     "text": [
      "\r",
      "71it [06:16,  5.26s/it]"
     ]
    },
    {
     "name": "stdout",
     "output_type": "stream",
     "text": [
      "only using 10 trials per trial type!!\n",
      "only using 10 trials per trial type!!\n",
      "only using 10 trials per trial type!!\n",
      "only using 10 trials per trial type!!\n",
      "only using 10 trials per trial type!!\n",
      "only using 10 trials per trial type!!\n",
      "only using 10 trials per trial type!!\n",
      "only using 10 trials per trial type!!\n",
      "only using 10 trials per trial type!!\n",
      "only using 10 trials per trial type!!\n",
      "only using 10 trials per trial type!!\n",
      "only using 10 trials per trial type!!\n",
      "only using 10 trials per trial type!!\n",
      "only using 10 trials per trial type!!\n",
      "only using 10 trials per trial type!!\n",
      "only using 10 trials per trial type!!\n",
      "only using 10 trials per trial type!!\n",
      "only using 10 trials per trial type!!\n",
      "only using 10 trials per trial type!!\n",
      "only using 10 trials per trial type!!\n"
     ]
    },
    {
     "name": "stderr",
     "output_type": "stream",
     "text": [
      "\r",
      "72it [06:21,  5.24s/it]"
     ]
    },
    {
     "name": "stdout",
     "output_type": "stream",
     "text": [
      "only using 10 trials per trial type!!\n",
      "only using 10 trials per trial type!!\n",
      "only using 10 trials per trial type!!\n",
      "only using 10 trials per trial type!!\n",
      "only using 10 trials per trial type!!\n",
      "only using 10 trials per trial type!!\n",
      "only using 10 trials per trial type!!\n",
      "only using 10 trials per trial type!!\n",
      "only using 10 trials per trial type!!\n",
      "only using 10 trials per trial type!!\n",
      "only using 10 trials per trial type!!\n",
      "only using 10 trials per trial type!!\n",
      "only using 10 trials per trial type!!\n",
      "only using 10 trials per trial type!!\n",
      "only using 10 trials per trial type!!\n",
      "only using 10 trials per trial type!!\n",
      "only using 10 trials per trial type!!\n",
      "only using 10 trials per trial type!!\n",
      "only using 10 trials per trial type!!\n",
      "only using 10 trials per trial type!!\n"
     ]
    },
    {
     "name": "stderr",
     "output_type": "stream",
     "text": [
      "\r",
      "73it [06:26,  5.24s/it]"
     ]
    },
    {
     "name": "stdout",
     "output_type": "stream",
     "text": [
      "only using 10 trials per trial type!!\n",
      "only using 10 trials per trial type!!\n",
      "only using 10 trials per trial type!!\n",
      "only using 10 trials per trial type!!\n",
      "only using 10 trials per trial type!!\n",
      "only using 10 trials per trial type!!\n",
      "only using 10 trials per trial type!!\n",
      "only using 10 trials per trial type!!\n",
      "only using 10 trials per trial type!!\n",
      "only using 10 trials per trial type!!\n",
      "only using 10 trials per trial type!!\n",
      "only using 10 trials per trial type!!\n",
      "only using 10 trials per trial type!!\n",
      "only using 10 trials per trial type!!\n",
      "only using 10 trials per trial type!!\n",
      "only using 10 trials per trial type!!\n",
      "only using 10 trials per trial type!!\n",
      "only using 10 trials per trial type!!\n",
      "only using 10 trials per trial type!!\n",
      "only using 10 trials per trial type!!\n"
     ]
    },
    {
     "name": "stderr",
     "output_type": "stream",
     "text": [
      "\r",
      "74it [06:32,  5.29s/it]"
     ]
    },
    {
     "name": "stdout",
     "output_type": "stream",
     "text": [
      "only using 10 trials per trial type!!\n",
      "only using 10 trials per trial type!!\n",
      "only using 10 trials per trial type!!\n",
      "only using 10 trials per trial type!!\n",
      "only using 10 trials per trial type!!\n",
      "only using 10 trials per trial type!!\n",
      "only using 10 trials per trial type!!\n",
      "only using 10 trials per trial type!!\n",
      "only using 10 trials per trial type!!\n",
      "only using 10 trials per trial type!!\n",
      "only using 10 trials per trial type!!\n",
      "only using 10 trials per trial type!!\n",
      "only using 10 trials per trial type!!\n",
      "only using 10 trials per trial type!!\n",
      "only using 10 trials per trial type!!\n",
      "only using 10 trials per trial type!!\n",
      "only using 10 trials per trial type!!\n",
      "only using 10 trials per trial type!!\n",
      "only using 10 trials per trial type!!\n",
      "only using 10 trials per trial type!!\n"
     ]
    },
    {
     "name": "stderr",
     "output_type": "stream",
     "text": [
      "\r",
      "75it [06:37,  5.32s/it]"
     ]
    },
    {
     "name": "stdout",
     "output_type": "stream",
     "text": [
      "only using 10 trials per trial type!!\n",
      "only using 10 trials per trial type!!\n",
      "only using 10 trials per trial type!!\n",
      "only using 10 trials per trial type!!\n",
      "only using 10 trials per trial type!!\n",
      "only using 10 trials per trial type!!\n",
      "only using 10 trials per trial type!!\n",
      "only using 10 trials per trial type!!\n",
      "only using 10 trials per trial type!!\n",
      "only using 10 trials per trial type!!\n",
      "only using 10 trials per trial type!!\n",
      "only using 10 trials per trial type!!\n",
      "only using 10 trials per trial type!!\n",
      "only using 10 trials per trial type!!\n",
      "only using 10 trials per trial type!!\n",
      "only using 10 trials per trial type!!\n",
      "only using 10 trials per trial type!!\n",
      "only using 10 trials per trial type!!\n",
      "only using 10 trials per trial type!!\n",
      "only using 10 trials per trial type!!\n"
     ]
    },
    {
     "name": "stderr",
     "output_type": "stream",
     "text": [
      "\r",
      "76it [06:43,  5.34s/it]"
     ]
    },
    {
     "name": "stdout",
     "output_type": "stream",
     "text": [
      "only using 10 trials per trial type!!\n",
      "only using 10 trials per trial type!!\n",
      "only using 10 trials per trial type!!\n",
      "only using 10 trials per trial type!!\n",
      "only using 10 trials per trial type!!\n",
      "only using 10 trials per trial type!!\n",
      "only using 10 trials per trial type!!\n",
      "only using 10 trials per trial type!!\n",
      "only using 10 trials per trial type!!\n",
      "only using 10 trials per trial type!!\n",
      "only using 10 trials per trial type!!\n",
      "only using 10 trials per trial type!!\n",
      "only using 10 trials per trial type!!\n",
      "only using 10 trials per trial type!!\n",
      "only using 10 trials per trial type!!\n",
      "only using 10 trials per trial type!!\n",
      "only using 10 trials per trial type!!\n",
      "only using 10 trials per trial type!!\n",
      "only using 10 trials per trial type!!\n",
      "only using 10 trials per trial type!!\n"
     ]
    },
    {
     "name": "stderr",
     "output_type": "stream",
     "text": [
      "\r",
      "77it [06:48,  5.35s/it]"
     ]
    },
    {
     "name": "stdout",
     "output_type": "stream",
     "text": [
      "only using 10 trials per trial type!!\n",
      "only using 10 trials per trial type!!\n",
      "only using 10 trials per trial type!!\n",
      "only using 10 trials per trial type!!\n",
      "only using 10 trials per trial type!!\n",
      "only using 10 trials per trial type!!\n",
      "only using 10 trials per trial type!!\n",
      "only using 10 trials per trial type!!\n",
      "only using 10 trials per trial type!!\n",
      "only using 10 trials per trial type!!\n",
      "only using 10 trials per trial type!!\n",
      "only using 10 trials per trial type!!\n",
      "only using 10 trials per trial type!!\n",
      "only using 10 trials per trial type!!\n",
      "only using 10 trials per trial type!!\n",
      "only using 10 trials per trial type!!\n",
      "only using 10 trials per trial type!!\n",
      "only using 10 trials per trial type!!\n",
      "only using 10 trials per trial type!!\n",
      "only using 10 trials per trial type!!\n"
     ]
    },
    {
     "name": "stderr",
     "output_type": "stream",
     "text": [
      "\r",
      "78it [06:53,  5.33s/it]"
     ]
    },
    {
     "name": "stdout",
     "output_type": "stream",
     "text": [
      "only using 10 trials per trial type!!\n",
      "only using 10 trials per trial type!!\n",
      "only using 10 trials per trial type!!\n",
      "only using 10 trials per trial type!!\n",
      "only using 10 trials per trial type!!\n",
      "only using 10 trials per trial type!!\n",
      "only using 10 trials per trial type!!\n",
      "only using 10 trials per trial type!!\n",
      "only using 10 trials per trial type!!\n",
      "only using 10 trials per trial type!!\n",
      "only using 10 trials per trial type!!\n",
      "only using 10 trials per trial type!!\n",
      "only using 10 trials per trial type!!\n",
      "only using 10 trials per trial type!!\n",
      "only using 10 trials per trial type!!\n",
      "only using 10 trials per trial type!!\n",
      "only using 10 trials per trial type!!\n",
      "only using 10 trials per trial type!!\n",
      "only using 10 trials per trial type!!\n",
      "only using 10 trials per trial type!!\n"
     ]
    },
    {
     "name": "stderr",
     "output_type": "stream",
     "text": [
      "\r",
      "79it [06:58,  5.30s/it]"
     ]
    },
    {
     "name": "stdout",
     "output_type": "stream",
     "text": [
      "only using 10 trials per trial type!!\n",
      "only using 10 trials per trial type!!\n",
      "only using 10 trials per trial type!!\n",
      "only using 10 trials per trial type!!\n",
      "only using 10 trials per trial type!!\n",
      "only using 10 trials per trial type!!\n",
      "only using 10 trials per trial type!!\n",
      "only using 10 trials per trial type!!\n",
      "only using 10 trials per trial type!!\n",
      "only using 10 trials per trial type!!\n",
      "only using 10 trials per trial type!!\n",
      "only using 10 trials per trial type!!\n",
      "only using 10 trials per trial type!!\n",
      "only using 10 trials per trial type!!\n",
      "only using 10 trials per trial type!!\n",
      "only using 10 trials per trial type!!\n",
      "only using 10 trials per trial type!!\n",
      "only using 10 trials per trial type!!\n",
      "only using 10 trials per trial type!!\n",
      "only using 10 trials per trial type!!\n"
     ]
    },
    {
     "name": "stderr",
     "output_type": "stream",
     "text": [
      "\r",
      "80it [07:04,  5.28s/it]"
     ]
    },
    {
     "name": "stdout",
     "output_type": "stream",
     "text": [
      "only using 10 trials per trial type!!\n",
      "only using 10 trials per trial type!!\n",
      "only using 10 trials per trial type!!\n",
      "only using 10 trials per trial type!!\n",
      "only using 10 trials per trial type!!\n",
      "only using 10 trials per trial type!!\n",
      "only using 10 trials per trial type!!\n",
      "only using 10 trials per trial type!!\n",
      "only using 10 trials per trial type!!\n",
      "only using 10 trials per trial type!!\n",
      "only using 10 trials per trial type!!\n",
      "only using 10 trials per trial type!!\n",
      "only using 10 trials per trial type!!\n",
      "only using 10 trials per trial type!!\n",
      "only using 10 trials per trial type!!\n",
      "only using 10 trials per trial type!!\n",
      "only using 10 trials per trial type!!\n",
      "only using 10 trials per trial type!!\n",
      "only using 10 trials per trial type!!\n",
      "only using 10 trials per trial type!!\n"
     ]
    },
    {
     "name": "stderr",
     "output_type": "stream",
     "text": [
      "\r",
      "81it [07:09,  5.27s/it]"
     ]
    },
    {
     "name": "stdout",
     "output_type": "stream",
     "text": [
      "only using 10 trials per trial type!!\n",
      "only using 10 trials per trial type!!\n",
      "only using 10 trials per trial type!!\n",
      "only using 10 trials per trial type!!\n",
      "only using 10 trials per trial type!!\n",
      "only using 10 trials per trial type!!\n",
      "only using 10 trials per trial type!!\n",
      "only using 10 trials per trial type!!\n",
      "only using 10 trials per trial type!!\n",
      "only using 10 trials per trial type!!\n",
      "only using 10 trials per trial type!!\n",
      "only using 10 trials per trial type!!\n",
      "only using 10 trials per trial type!!\n",
      "only using 10 trials per trial type!!\n",
      "only using 10 trials per trial type!!\n",
      "only using 10 trials per trial type!!\n",
      "only using 10 trials per trial type!!\n",
      "only using 10 trials per trial type!!\n",
      "only using 10 trials per trial type!!\n",
      "only using 10 trials per trial type!!\n"
     ]
    },
    {
     "name": "stderr",
     "output_type": "stream",
     "text": [
      "\r",
      "82it [07:14,  5.27s/it]"
     ]
    },
    {
     "name": "stdout",
     "output_type": "stream",
     "text": [
      "only using 10 trials per trial type!!\n",
      "only using 10 trials per trial type!!\n",
      "only using 10 trials per trial type!!\n",
      "only using 10 trials per trial type!!\n",
      "only using 10 trials per trial type!!\n",
      "only using 10 trials per trial type!!\n",
      "only using 10 trials per trial type!!\n",
      "only using 10 trials per trial type!!\n",
      "only using 10 trials per trial type!!\n",
      "only using 10 trials per trial type!!\n",
      "only using 10 trials per trial type!!\n",
      "only using 10 trials per trial type!!\n",
      "only using 10 trials per trial type!!\n",
      "only using 10 trials per trial type!!\n",
      "only using 10 trials per trial type!!\n",
      "only using 10 trials per trial type!!\n",
      "only using 10 trials per trial type!!\n",
      "only using 10 trials per trial type!!\n",
      "only using 10 trials per trial type!!\n",
      "only using 10 trials per trial type!!\n"
     ]
    },
    {
     "name": "stderr",
     "output_type": "stream",
     "text": [
      "\r",
      "83it [07:19,  5.26s/it]"
     ]
    },
    {
     "name": "stdout",
     "output_type": "stream",
     "text": [
      "only using 10 trials per trial type!!\n",
      "only using 10 trials per trial type!!\n",
      "only using 10 trials per trial type!!\n",
      "only using 10 trials per trial type!!\n",
      "only using 10 trials per trial type!!\n",
      "only using 10 trials per trial type!!\n",
      "only using 10 trials per trial type!!\n",
      "only using 10 trials per trial type!!\n",
      "only using 10 trials per trial type!!\n",
      "only using 10 trials per trial type!!\n",
      "only using 10 trials per trial type!!\n",
      "only using 10 trials per trial type!!\n",
      "only using 10 trials per trial type!!\n",
      "only using 10 trials per trial type!!\n",
      "only using 10 trials per trial type!!\n",
      "only using 10 trials per trial type!!\n",
      "only using 10 trials per trial type!!\n",
      "only using 10 trials per trial type!!\n",
      "only using 10 trials per trial type!!\n",
      "only using 10 trials per trial type!!\n"
     ]
    },
    {
     "name": "stderr",
     "output_type": "stream",
     "text": [
      "\r",
      "84it [07:25,  5.25s/it]"
     ]
    },
    {
     "name": "stdout",
     "output_type": "stream",
     "text": [
      "only using 10 trials per trial type!!\n",
      "only using 10 trials per trial type!!\n",
      "only using 10 trials per trial type!!\n",
      "only using 10 trials per trial type!!\n",
      "only using 10 trials per trial type!!\n",
      "only using 10 trials per trial type!!\n",
      "only using 10 trials per trial type!!\n",
      "only using 10 trials per trial type!!\n",
      "only using 10 trials per trial type!!\n",
      "only using 10 trials per trial type!!\n",
      "only using 10 trials per trial type!!\n",
      "only using 10 trials per trial type!!\n",
      "only using 10 trials per trial type!!\n",
      "only using 10 trials per trial type!!\n",
      "only using 10 trials per trial type!!\n",
      "only using 10 trials per trial type!!\n",
      "only using 10 trials per trial type!!\n",
      "only using 10 trials per trial type!!\n",
      "only using 10 trials per trial type!!\n",
      "only using 10 trials per trial type!!\n"
     ]
    },
    {
     "name": "stderr",
     "output_type": "stream",
     "text": [
      "\r",
      "85it [07:30,  5.25s/it]"
     ]
    },
    {
     "name": "stdout",
     "output_type": "stream",
     "text": [
      "only using 10 trials per trial type!!\n",
      "only using 10 trials per trial type!!\n",
      "only using 10 trials per trial type!!\n",
      "only using 10 trials per trial type!!\n",
      "only using 10 trials per trial type!!\n",
      "only using 10 trials per trial type!!\n",
      "only using 10 trials per trial type!!\n",
      "only using 10 trials per trial type!!\n",
      "only using 10 trials per trial type!!\n",
      "only using 10 trials per trial type!!\n",
      "only using 10 trials per trial type!!\n",
      "only using 10 trials per trial type!!\n",
      "only using 10 trials per trial type!!\n",
      "only using 10 trials per trial type!!\n",
      "only using 10 trials per trial type!!\n",
      "only using 10 trials per trial type!!\n",
      "only using 10 trials per trial type!!\n",
      "only using 10 trials per trial type!!\n",
      "only using 10 trials per trial type!!\n",
      "only using 10 trials per trial type!!\n"
     ]
    },
    {
     "name": "stderr",
     "output_type": "stream",
     "text": [
      "\r",
      "86it [07:35,  5.31s/it]"
     ]
    },
    {
     "name": "stdout",
     "output_type": "stream",
     "text": [
      "only using 10 trials per trial type!!\n",
      "only using 10 trials per trial type!!\n",
      "only using 10 trials per trial type!!\n",
      "only using 10 trials per trial type!!\n",
      "only using 10 trials per trial type!!\n",
      "only using 10 trials per trial type!!\n",
      "only using 10 trials per trial type!!\n",
      "only using 10 trials per trial type!!\n",
      "only using 10 trials per trial type!!\n",
      "only using 10 trials per trial type!!\n",
      "only using 10 trials per trial type!!\n",
      "only using 10 trials per trial type!!\n",
      "only using 10 trials per trial type!!\n",
      "only using 10 trials per trial type!!\n",
      "only using 10 trials per trial type!!\n",
      "only using 10 trials per trial type!!\n",
      "only using 10 trials per trial type!!\n",
      "only using 10 trials per trial type!!\n",
      "only using 10 trials per trial type!!\n",
      "only using 10 trials per trial type!!\n"
     ]
    },
    {
     "name": "stderr",
     "output_type": "stream",
     "text": [
      "\r",
      "87it [07:41,  5.28s/it]"
     ]
    },
    {
     "name": "stdout",
     "output_type": "stream",
     "text": [
      "only using 10 trials per trial type!!\n",
      "only using 10 trials per trial type!!\n",
      "only using 10 trials per trial type!!\n",
      "only using 10 trials per trial type!!\n",
      "only using 10 trials per trial type!!\n",
      "only using 10 trials per trial type!!\n",
      "only using 10 trials per trial type!!\n",
      "only using 10 trials per trial type!!\n",
      "only using 10 trials per trial type!!\n",
      "only using 10 trials per trial type!!\n",
      "only using 10 trials per trial type!!\n",
      "only using 10 trials per trial type!!\n",
      "only using 10 trials per trial type!!\n",
      "only using 10 trials per trial type!!\n",
      "only using 10 trials per trial type!!\n",
      "only using 10 trials per trial type!!\n",
      "only using 10 trials per trial type!!\n",
      "only using 10 trials per trial type!!\n",
      "only using 10 trials per trial type!!\n",
      "only using 10 trials per trial type!!\n"
     ]
    },
    {
     "name": "stderr",
     "output_type": "stream",
     "text": [
      "\r",
      "88it [07:46,  5.27s/it]"
     ]
    },
    {
     "name": "stdout",
     "output_type": "stream",
     "text": [
      "only using 10 trials per trial type!!\n",
      "only using 10 trials per trial type!!\n",
      "only using 10 trials per trial type!!\n",
      "only using 10 trials per trial type!!\n",
      "only using 10 trials per trial type!!\n",
      "only using 10 trials per trial type!!\n",
      "only using 10 trials per trial type!!\n",
      "only using 10 trials per trial type!!\n",
      "only using 10 trials per trial type!!\n",
      "only using 10 trials per trial type!!\n",
      "only using 10 trials per trial type!!\n",
      "only using 10 trials per trial type!!\n",
      "only using 10 trials per trial type!!\n",
      "only using 10 trials per trial type!!\n",
      "only using 10 trials per trial type!!\n",
      "only using 10 trials per trial type!!\n",
      "only using 10 trials per trial type!!\n",
      "only using 10 trials per trial type!!\n",
      "only using 10 trials per trial type!!\n",
      "only using 10 trials per trial type!!\n"
     ]
    },
    {
     "name": "stderr",
     "output_type": "stream",
     "text": [
      "\r",
      "89it [07:51,  5.30s/it]"
     ]
    },
    {
     "name": "stdout",
     "output_type": "stream",
     "text": [
      "only using 10 trials per trial type!!\n",
      "only using 10 trials per trial type!!\n",
      "only using 10 trials per trial type!!\n",
      "only using 10 trials per trial type!!\n",
      "only using 10 trials per trial type!!\n",
      "only using 10 trials per trial type!!\n",
      "only using 10 trials per trial type!!\n",
      "only using 10 trials per trial type!!\n",
      "only using 10 trials per trial type!!\n",
      "only using 10 trials per trial type!!\n",
      "only using 10 trials per trial type!!\n",
      "only using 10 trials per trial type!!\n",
      "only using 10 trials per trial type!!\n",
      "only using 10 trials per trial type!!\n",
      "only using 10 trials per trial type!!\n",
      "only using 10 trials per trial type!!\n",
      "only using 10 trials per trial type!!\n",
      "only using 10 trials per trial type!!\n",
      "only using 10 trials per trial type!!\n",
      "only using 10 trials per trial type!!\n"
     ]
    },
    {
     "name": "stderr",
     "output_type": "stream",
     "text": [
      "\r",
      "90it [07:57,  5.32s/it]"
     ]
    },
    {
     "name": "stdout",
     "output_type": "stream",
     "text": [
      "only using 10 trials per trial type!!\n",
      "only using 10 trials per trial type!!\n",
      "only using 10 trials per trial type!!\n",
      "only using 10 trials per trial type!!\n",
      "only using 10 trials per trial type!!\n",
      "only using 10 trials per trial type!!\n",
      "only using 10 trials per trial type!!\n",
      "only using 10 trials per trial type!!\n",
      "only using 10 trials per trial type!!\n",
      "only using 10 trials per trial type!!\n",
      "only using 10 trials per trial type!!\n",
      "only using 10 trials per trial type!!\n",
      "only using 10 trials per trial type!!\n",
      "only using 10 trials per trial type!!\n",
      "only using 10 trials per trial type!!\n",
      "only using 10 trials per trial type!!\n",
      "only using 10 trials per trial type!!\n",
      "only using 10 trials per trial type!!\n",
      "only using 10 trials per trial type!!\n",
      "only using 10 trials per trial type!!\n"
     ]
    },
    {
     "name": "stderr",
     "output_type": "stream",
     "text": [
      "\r",
      "91it [08:02,  5.34s/it]"
     ]
    },
    {
     "name": "stdout",
     "output_type": "stream",
     "text": [
      "only using 10 trials per trial type!!\n",
      "only using 10 trials per trial type!!\n",
      "only using 10 trials per trial type!!\n",
      "only using 10 trials per trial type!!\n",
      "only using 10 trials per trial type!!\n",
      "only using 10 trials per trial type!!\n",
      "only using 10 trials per trial type!!\n",
      "only using 10 trials per trial type!!\n",
      "only using 10 trials per trial type!!\n",
      "only using 10 trials per trial type!!\n",
      "only using 10 trials per trial type!!\n",
      "only using 10 trials per trial type!!\n",
      "only using 10 trials per trial type!!\n",
      "only using 10 trials per trial type!!\n",
      "only using 10 trials per trial type!!\n",
      "only using 10 trials per trial type!!\n",
      "only using 10 trials per trial type!!\n",
      "only using 10 trials per trial type!!\n",
      "only using 10 trials per trial type!!\n",
      "only using 10 trials per trial type!!\n"
     ]
    },
    {
     "name": "stderr",
     "output_type": "stream",
     "text": [
      "\r",
      "92it [08:07,  5.36s/it]"
     ]
    },
    {
     "name": "stdout",
     "output_type": "stream",
     "text": [
      "only using 10 trials per trial type!!\n",
      "only using 10 trials per trial type!!\n",
      "only using 10 trials per trial type!!\n",
      "only using 10 trials per trial type!!\n",
      "only using 10 trials per trial type!!\n",
      "only using 10 trials per trial type!!\n",
      "only using 10 trials per trial type!!\n",
      "only using 10 trials per trial type!!\n",
      "only using 10 trials per trial type!!\n",
      "only using 10 trials per trial type!!\n",
      "only using 10 trials per trial type!!\n",
      "only using 10 trials per trial type!!\n",
      "only using 10 trials per trial type!!\n",
      "only using 10 trials per trial type!!\n",
      "only using 10 trials per trial type!!\n",
      "only using 10 trials per trial type!!\n",
      "only using 10 trials per trial type!!\n",
      "only using 10 trials per trial type!!\n",
      "only using 10 trials per trial type!!\n",
      "only using 10 trials per trial type!!\n"
     ]
    },
    {
     "name": "stderr",
     "output_type": "stream",
     "text": [
      "\r",
      "93it [08:13,  5.32s/it]"
     ]
    },
    {
     "name": "stdout",
     "output_type": "stream",
     "text": [
      "only using 10 trials per trial type!!\n",
      "only using 10 trials per trial type!!\n",
      "only using 10 trials per trial type!!\n",
      "only using 10 trials per trial type!!\n",
      "only using 10 trials per trial type!!\n",
      "only using 10 trials per trial type!!\n",
      "only using 10 trials per trial type!!\n",
      "only using 10 trials per trial type!!\n",
      "only using 10 trials per trial type!!\n",
      "only using 10 trials per trial type!!\n",
      "only using 10 trials per trial type!!\n",
      "only using 10 trials per trial type!!\n",
      "only using 10 trials per trial type!!\n",
      "only using 10 trials per trial type!!\n",
      "only using 10 trials per trial type!!\n",
      "only using 10 trials per trial type!!\n",
      "only using 10 trials per trial type!!\n",
      "only using 10 trials per trial type!!\n",
      "only using 10 trials per trial type!!\n",
      "only using 10 trials per trial type!!\n"
     ]
    },
    {
     "name": "stderr",
     "output_type": "stream",
     "text": [
      "\r",
      "94it [08:18,  5.30s/it]"
     ]
    },
    {
     "name": "stdout",
     "output_type": "stream",
     "text": [
      "only using 10 trials per trial type!!\n",
      "only using 10 trials per trial type!!\n",
      "only using 10 trials per trial type!!\n",
      "only using 10 trials per trial type!!\n",
      "only using 10 trials per trial type!!\n",
      "only using 10 trials per trial type!!\n",
      "only using 10 trials per trial type!!\n",
      "only using 10 trials per trial type!!\n",
      "only using 10 trials per trial type!!\n",
      "only using 10 trials per trial type!!\n",
      "only using 10 trials per trial type!!\n",
      "only using 10 trials per trial type!!\n",
      "only using 10 trials per trial type!!\n",
      "only using 10 trials per trial type!!\n",
      "only using 10 trials per trial type!!\n",
      "only using 10 trials per trial type!!\n",
      "only using 10 trials per trial type!!\n",
      "only using 10 trials per trial type!!\n",
      "only using 10 trials per trial type!!\n",
      "only using 10 trials per trial type!!\n"
     ]
    },
    {
     "name": "stderr",
     "output_type": "stream",
     "text": [
      "\r",
      "95it [08:23,  5.28s/it]"
     ]
    },
    {
     "name": "stdout",
     "output_type": "stream",
     "text": [
      "only using 10 trials per trial type!!\n",
      "only using 10 trials per trial type!!\n",
      "only using 10 trials per trial type!!\n",
      "only using 10 trials per trial type!!\n",
      "only using 10 trials per trial type!!\n",
      "only using 10 trials per trial type!!\n",
      "only using 10 trials per trial type!!\n",
      "only using 10 trials per trial type!!\n",
      "only using 10 trials per trial type!!\n",
      "only using 10 trials per trial type!!\n",
      "only using 10 trials per trial type!!\n",
      "only using 10 trials per trial type!!\n",
      "only using 10 trials per trial type!!\n",
      "only using 10 trials per trial type!!\n",
      "only using 10 trials per trial type!!\n",
      "only using 10 trials per trial type!!\n",
      "only using 10 trials per trial type!!\n",
      "only using 10 trials per trial type!!\n",
      "only using 10 trials per trial type!!\n",
      "only using 10 trials per trial type!!\n"
     ]
    },
    {
     "name": "stderr",
     "output_type": "stream",
     "text": [
      "\r",
      "96it [08:28,  5.27s/it]"
     ]
    },
    {
     "name": "stdout",
     "output_type": "stream",
     "text": [
      "only using 10 trials per trial type!!\n",
      "only using 10 trials per trial type!!\n",
      "only using 10 trials per trial type!!\n",
      "only using 10 trials per trial type!!\n",
      "only using 10 trials per trial type!!\n",
      "only using 10 trials per trial type!!\n",
      "only using 10 trials per trial type!!\n",
      "only using 10 trials per trial type!!\n",
      "only using 10 trials per trial type!!\n",
      "only using 10 trials per trial type!!\n",
      "only using 10 trials per trial type!!\n",
      "only using 10 trials per trial type!!\n",
      "only using 10 trials per trial type!!\n",
      "only using 10 trials per trial type!!\n",
      "only using 10 trials per trial type!!\n",
      "only using 10 trials per trial type!!\n",
      "only using 10 trials per trial type!!\n",
      "only using 10 trials per trial type!!\n",
      "only using 10 trials per trial type!!\n",
      "only using 10 trials per trial type!!\n"
     ]
    },
    {
     "name": "stderr",
     "output_type": "stream",
     "text": [
      "\r",
      "97it [08:34,  5.28s/it]"
     ]
    },
    {
     "name": "stdout",
     "output_type": "stream",
     "text": [
      "only using 10 trials per trial type!!\n",
      "only using 10 trials per trial type!!\n",
      "only using 10 trials per trial type!!\n",
      "only using 10 trials per trial type!!\n",
      "only using 10 trials per trial type!!\n",
      "only using 10 trials per trial type!!\n",
      "only using 10 trials per trial type!!\n",
      "only using 10 trials per trial type!!\n",
      "only using 10 trials per trial type!!\n",
      "only using 10 trials per trial type!!\n",
      "only using 10 trials per trial type!!\n",
      "only using 10 trials per trial type!!\n",
      "only using 10 trials per trial type!!\n",
      "only using 10 trials per trial type!!\n",
      "only using 10 trials per trial type!!\n",
      "only using 10 trials per trial type!!\n",
      "only using 10 trials per trial type!!\n",
      "only using 10 trials per trial type!!\n",
      "only using 10 trials per trial type!!\n",
      "only using 10 trials per trial type!!\n"
     ]
    },
    {
     "name": "stderr",
     "output_type": "stream",
     "text": [
      "\r",
      "98it [08:39,  5.27s/it]"
     ]
    },
    {
     "name": "stdout",
     "output_type": "stream",
     "text": [
      "only using 10 trials per trial type!!\n",
      "only using 10 trials per trial type!!\n",
      "only using 10 trials per trial type!!\n",
      "only using 10 trials per trial type!!\n",
      "only using 10 trials per trial type!!\n",
      "only using 10 trials per trial type!!\n",
      "only using 10 trials per trial type!!\n",
      "only using 10 trials per trial type!!\n",
      "only using 10 trials per trial type!!\n",
      "only using 10 trials per trial type!!\n",
      "only using 10 trials per trial type!!\n",
      "only using 10 trials per trial type!!\n",
      "only using 10 trials per trial type!!\n",
      "only using 10 trials per trial type!!\n",
      "only using 10 trials per trial type!!\n",
      "only using 10 trials per trial type!!\n",
      "only using 10 trials per trial type!!\n",
      "only using 10 trials per trial type!!\n",
      "only using 10 trials per trial type!!\n",
      "only using 10 trials per trial type!!\n"
     ]
    },
    {
     "name": "stderr",
     "output_type": "stream",
     "text": [
      "\r",
      "99it [08:44,  5.31s/it]"
     ]
    },
    {
     "name": "stdout",
     "output_type": "stream",
     "text": [
      "only using 10 trials per trial type!!\n",
      "only using 10 trials per trial type!!\n",
      "only using 10 trials per trial type!!\n",
      "only using 10 trials per trial type!!\n",
      "only using 10 trials per trial type!!\n",
      "only using 10 trials per trial type!!\n",
      "only using 10 trials per trial type!!\n",
      "only using 10 trials per trial type!!\n",
      "only using 10 trials per trial type!!\n",
      "only using 10 trials per trial type!!\n",
      "only using 10 trials per trial type!!\n",
      "only using 10 trials per trial type!!\n",
      "only using 10 trials per trial type!!\n",
      "only using 10 trials per trial type!!\n",
      "only using 10 trials per trial type!!\n",
      "only using 10 trials per trial type!!\n",
      "only using 10 trials per trial type!!\n",
      "only using 10 trials per trial type!!\n",
      "only using 10 trials per trial type!!\n",
      "only using 10 trials per trial type!!\n"
     ]
    },
    {
     "name": "stderr",
     "output_type": "stream",
     "text": [
      "\r",
      "100it [08:50,  5.35s/it]"
     ]
    },
    {
     "name": "stdout",
     "output_type": "stream",
     "text": [
      "only using 10 trials per trial type!!\n",
      "only using 10 trials per trial type!!\n",
      "only using 10 trials per trial type!!\n",
      "only using 10 trials per trial type!!\n",
      "only using 10 trials per trial type!!\n",
      "only using 10 trials per trial type!!\n",
      "only using 10 trials per trial type!!\n",
      "only using 10 trials per trial type!!\n",
      "only using 10 trials per trial type!!\n",
      "only using 10 trials per trial type!!\n",
      "only using 10 trials per trial type!!\n",
      "only using 10 trials per trial type!!\n",
      "only using 10 trials per trial type!!\n",
      "only using 10 trials per trial type!!\n",
      "only using 10 trials per trial type!!\n",
      "only using 10 trials per trial type!!\n",
      "only using 10 trials per trial type!!\n",
      "only using 10 trials per trial type!!\n",
      "only using 10 trials per trial type!!\n",
      "only using 10 trials per trial type!!\n"
     ]
    },
    {
     "name": "stderr",
     "output_type": "stream",
     "text": [
      "\r",
      "101it [08:55,  5.32s/it]"
     ]
    },
    {
     "name": "stdout",
     "output_type": "stream",
     "text": [
      "only using 10 trials per trial type!!\n",
      "only using 10 trials per trial type!!\n",
      "only using 10 trials per trial type!!\n",
      "only using 10 trials per trial type!!\n",
      "only using 10 trials per trial type!!\n",
      "only using 10 trials per trial type!!\n",
      "only using 10 trials per trial type!!\n",
      "only using 10 trials per trial type!!\n",
      "only using 10 trials per trial type!!\n",
      "only using 10 trials per trial type!!\n",
      "only using 10 trials per trial type!!\n",
      "only using 10 trials per trial type!!\n",
      "only using 10 trials per trial type!!\n",
      "only using 10 trials per trial type!!\n",
      "only using 10 trials per trial type!!\n",
      "only using 10 trials per trial type!!\n",
      "only using 10 trials per trial type!!\n",
      "only using 10 trials per trial type!!\n",
      "only using 10 trials per trial type!!\n",
      "only using 10 trials per trial type!!\n"
     ]
    },
    {
     "name": "stderr",
     "output_type": "stream",
     "text": [
      "\r",
      "102it [09:00,  5.30s/it]"
     ]
    },
    {
     "name": "stdout",
     "output_type": "stream",
     "text": [
      "only using 10 trials per trial type!!\n",
      "only using 10 trials per trial type!!\n",
      "only using 10 trials per trial type!!\n",
      "only using 10 trials per trial type!!\n",
      "only using 10 trials per trial type!!\n",
      "only using 10 trials per trial type!!\n",
      "only using 10 trials per trial type!!\n",
      "only using 10 trials per trial type!!\n",
      "only using 10 trials per trial type!!\n",
      "only using 10 trials per trial type!!\n",
      "only using 10 trials per trial type!!\n",
      "only using 10 trials per trial type!!\n",
      "only using 10 trials per trial type!!\n",
      "only using 10 trials per trial type!!\n",
      "only using 10 trials per trial type!!\n",
      "only using 10 trials per trial type!!\n",
      "only using 10 trials per trial type!!\n",
      "only using 10 trials per trial type!!\n",
      "only using 10 trials per trial type!!\n",
      "only using 10 trials per trial type!!\n"
     ]
    },
    {
     "name": "stderr",
     "output_type": "stream",
     "text": [
      "\r",
      "103it [09:05,  5.28s/it]"
     ]
    },
    {
     "name": "stdout",
     "output_type": "stream",
     "text": [
      "only using 10 trials per trial type!!\n",
      "only using 10 trials per trial type!!\n",
      "only using 10 trials per trial type!!\n",
      "only using 10 trials per trial type!!\n",
      "only using 10 trials per trial type!!\n",
      "only using 10 trials per trial type!!\n",
      "only using 10 trials per trial type!!\n",
      "only using 10 trials per trial type!!\n",
      "only using 10 trials per trial type!!\n",
      "only using 10 trials per trial type!!\n",
      "only using 10 trials per trial type!!\n",
      "only using 10 trials per trial type!!\n",
      "only using 10 trials per trial type!!\n",
      "only using 10 trials per trial type!!\n",
      "only using 10 trials per trial type!!\n",
      "only using 10 trials per trial type!!\n",
      "only using 10 trials per trial type!!\n",
      "only using 10 trials per trial type!!\n",
      "only using 10 trials per trial type!!\n",
      "only using 10 trials per trial type!!\n"
     ]
    },
    {
     "name": "stderr",
     "output_type": "stream",
     "text": [
      "\r",
      "104it [09:11,  5.31s/it]"
     ]
    },
    {
     "name": "stdout",
     "output_type": "stream",
     "text": [
      "only using 10 trials per trial type!!\n",
      "only using 10 trials per trial type!!\n",
      "only using 10 trials per trial type!!\n",
      "only using 10 trials per trial type!!\n",
      "only using 10 trials per trial type!!\n",
      "only using 10 trials per trial type!!\n",
      "only using 10 trials per trial type!!\n",
      "only using 10 trials per trial type!!\n",
      "only using 10 trials per trial type!!\n",
      "only using 10 trials per trial type!!\n",
      "only using 10 trials per trial type!!\n",
      "only using 10 trials per trial type!!\n",
      "only using 10 trials per trial type!!\n",
      "only using 10 trials per trial type!!\n",
      "only using 10 trials per trial type!!\n",
      "only using 10 trials per trial type!!\n",
      "only using 10 trials per trial type!!\n",
      "only using 10 trials per trial type!!\n",
      "only using 10 trials per trial type!!\n",
      "only using 10 trials per trial type!!\n"
     ]
    },
    {
     "name": "stderr",
     "output_type": "stream",
     "text": [
      "\r",
      "105it [09:16,  5.33s/it]"
     ]
    },
    {
     "name": "stdout",
     "output_type": "stream",
     "text": [
      "only using 10 trials per trial type!!\n",
      "only using 10 trials per trial type!!\n",
      "only using 10 trials per trial type!!\n",
      "only using 10 trials per trial type!!\n",
      "only using 10 trials per trial type!!\n",
      "only using 10 trials per trial type!!\n",
      "only using 10 trials per trial type!!\n",
      "only using 10 trials per trial type!!\n",
      "only using 10 trials per trial type!!\n",
      "only using 10 trials per trial type!!\n",
      "only using 10 trials per trial type!!\n",
      "only using 10 trials per trial type!!\n",
      "only using 10 trials per trial type!!\n",
      "only using 10 trials per trial type!!\n",
      "only using 10 trials per trial type!!\n",
      "only using 10 trials per trial type!!\n",
      "only using 10 trials per trial type!!\n",
      "only using 10 trials per trial type!!\n",
      "only using 10 trials per trial type!!\n",
      "only using 10 trials per trial type!!\n"
     ]
    },
    {
     "name": "stderr",
     "output_type": "stream",
     "text": [
      "\r",
      "106it [09:21,  5.30s/it]"
     ]
    },
    {
     "name": "stdout",
     "output_type": "stream",
     "text": [
      "only using 10 trials per trial type!!\n",
      "only using 10 trials per trial type!!\n",
      "only using 10 trials per trial type!!\n",
      "only using 10 trials per trial type!!\n",
      "only using 10 trials per trial type!!\n",
      "only using 10 trials per trial type!!\n",
      "only using 10 trials per trial type!!\n",
      "only using 10 trials per trial type!!\n",
      "only using 10 trials per trial type!!\n",
      "only using 10 trials per trial type!!\n",
      "only using 10 trials per trial type!!\n",
      "only using 10 trials per trial type!!\n",
      "only using 10 trials per trial type!!\n",
      "only using 10 trials per trial type!!\n",
      "only using 10 trials per trial type!!\n",
      "only using 10 trials per trial type!!\n",
      "only using 10 trials per trial type!!\n",
      "only using 10 trials per trial type!!\n",
      "only using 10 trials per trial type!!\n",
      "only using 10 trials per trial type!!\n"
     ]
    },
    {
     "name": "stderr",
     "output_type": "stream",
     "text": [
      "\r",
      "107it [09:27,  5.28s/it]"
     ]
    },
    {
     "name": "stdout",
     "output_type": "stream",
     "text": [
      "only using 10 trials per trial type!!\n",
      "only using 10 trials per trial type!!\n",
      "only using 10 trials per trial type!!\n",
      "only using 10 trials per trial type!!\n",
      "only using 10 trials per trial type!!\n",
      "only using 10 trials per trial type!!\n",
      "only using 10 trials per trial type!!\n",
      "only using 10 trials per trial type!!\n",
      "only using 10 trials per trial type!!\n",
      "only using 10 trials per trial type!!\n",
      "only using 10 trials per trial type!!\n",
      "only using 10 trials per trial type!!\n",
      "only using 10 trials per trial type!!\n",
      "only using 10 trials per trial type!!\n",
      "only using 10 trials per trial type!!\n",
      "only using 10 trials per trial type!!\n",
      "only using 10 trials per trial type!!\n",
      "only using 10 trials per trial type!!\n",
      "only using 10 trials per trial type!!\n",
      "only using 10 trials per trial type!!\n"
     ]
    },
    {
     "name": "stderr",
     "output_type": "stream",
     "text": [
      "\r",
      "108it [09:32,  5.27s/it]"
     ]
    },
    {
     "name": "stdout",
     "output_type": "stream",
     "text": [
      "only using 10 trials per trial type!!\n",
      "only using 10 trials per trial type!!\n",
      "only using 10 trials per trial type!!\n",
      "only using 10 trials per trial type!!\n",
      "only using 10 trials per trial type!!\n",
      "only using 10 trials per trial type!!\n",
      "only using 10 trials per trial type!!\n",
      "only using 10 trials per trial type!!\n",
      "only using 10 trials per trial type!!\n",
      "only using 10 trials per trial type!!\n",
      "only using 10 trials per trial type!!\n",
      "only using 10 trials per trial type!!\n",
      "only using 10 trials per trial type!!\n",
      "only using 10 trials per trial type!!\n",
      "only using 10 trials per trial type!!\n",
      "only using 10 trials per trial type!!\n",
      "only using 10 trials per trial type!!\n",
      "only using 10 trials per trial type!!\n",
      "only using 10 trials per trial type!!\n",
      "only using 10 trials per trial type!!\n"
     ]
    },
    {
     "name": "stderr",
     "output_type": "stream",
     "text": [
      "\r",
      "109it [09:37,  5.26s/it]"
     ]
    },
    {
     "name": "stdout",
     "output_type": "stream",
     "text": [
      "only using 10 trials per trial type!!\n",
      "only using 10 trials per trial type!!\n",
      "only using 10 trials per trial type!!\n",
      "only using 10 trials per trial type!!\n",
      "only using 10 trials per trial type!!\n",
      "only using 10 trials per trial type!!\n",
      "only using 10 trials per trial type!!\n",
      "only using 10 trials per trial type!!\n",
      "only using 10 trials per trial type!!\n",
      "only using 10 trials per trial type!!\n",
      "only using 10 trials per trial type!!\n",
      "only using 10 trials per trial type!!\n",
      "only using 10 trials per trial type!!\n",
      "only using 10 trials per trial type!!\n",
      "only using 10 trials per trial type!!\n",
      "only using 10 trials per trial type!!\n",
      "only using 10 trials per trial type!!\n",
      "only using 10 trials per trial type!!\n",
      "only using 10 trials per trial type!!\n",
      "only using 10 trials per trial type!!\n"
     ]
    },
    {
     "name": "stderr",
     "output_type": "stream",
     "text": [
      "\r",
      "110it [09:42,  5.26s/it]"
     ]
    },
    {
     "name": "stdout",
     "output_type": "stream",
     "text": [
      "only using 10 trials per trial type!!\n",
      "only using 10 trials per trial type!!\n",
      "only using 10 trials per trial type!!\n",
      "only using 10 trials per trial type!!\n",
      "only using 10 trials per trial type!!\n",
      "only using 10 trials per trial type!!\n",
      "only using 10 trials per trial type!!\n",
      "only using 10 trials per trial type!!\n",
      "only using 10 trials per trial type!!\n",
      "only using 10 trials per trial type!!\n",
      "only using 10 trials per trial type!!\n",
      "only using 10 trials per trial type!!\n",
      "only using 10 trials per trial type!!\n",
      "only using 10 trials per trial type!!\n",
      "only using 10 trials per trial type!!\n",
      "only using 10 trials per trial type!!\n",
      "only using 10 trials per trial type!!\n",
      "only using 10 trials per trial type!!\n",
      "only using 10 trials per trial type!!\n",
      "only using 10 trials per trial type!!\n"
     ]
    },
    {
     "name": "stderr",
     "output_type": "stream",
     "text": [
      "\r",
      "111it [09:48,  5.30s/it]"
     ]
    },
    {
     "name": "stdout",
     "output_type": "stream",
     "text": [
      "only using 10 trials per trial type!!\n",
      "only using 10 trials per trial type!!\n",
      "only using 10 trials per trial type!!\n",
      "only using 10 trials per trial type!!\n",
      "only using 10 trials per trial type!!\n",
      "only using 10 trials per trial type!!\n",
      "only using 10 trials per trial type!!\n",
      "only using 10 trials per trial type!!\n",
      "only using 10 trials per trial type!!\n",
      "only using 10 trials per trial type!!\n",
      "only using 10 trials per trial type!!\n",
      "only using 10 trials per trial type!!\n",
      "only using 10 trials per trial type!!\n",
      "only using 10 trials per trial type!!\n",
      "only using 10 trials per trial type!!\n",
      "only using 10 trials per trial type!!\n",
      "only using 10 trials per trial type!!\n",
      "only using 10 trials per trial type!!\n",
      "only using 10 trials per trial type!!\n",
      "only using 10 trials per trial type!!\n"
     ]
    },
    {
     "name": "stderr",
     "output_type": "stream",
     "text": [
      "\r",
      "112it [09:53,  5.30s/it]"
     ]
    },
    {
     "name": "stdout",
     "output_type": "stream",
     "text": [
      "only using 10 trials per trial type!!\n",
      "only using 10 trials per trial type!!\n",
      "only using 10 trials per trial type!!\n",
      "only using 10 trials per trial type!!\n",
      "only using 10 trials per trial type!!\n",
      "only using 10 trials per trial type!!\n",
      "only using 10 trials per trial type!!\n",
      "only using 10 trials per trial type!!\n",
      "only using 10 trials per trial type!!\n",
      "only using 10 trials per trial type!!\n",
      "only using 10 trials per trial type!!\n",
      "only using 10 trials per trial type!!\n",
      "only using 10 trials per trial type!!\n",
      "only using 10 trials per trial type!!\n",
      "only using 10 trials per trial type!!\n",
      "only using 10 trials per trial type!!\n",
      "only using 10 trials per trial type!!\n",
      "only using 10 trials per trial type!!\n",
      "only using 10 trials per trial type!!\n",
      "only using 10 trials per trial type!!\n"
     ]
    },
    {
     "name": "stderr",
     "output_type": "stream",
     "text": [
      "\r",
      "113it [09:58,  5.28s/it]"
     ]
    },
    {
     "name": "stdout",
     "output_type": "stream",
     "text": [
      "only using 10 trials per trial type!!\n",
      "only using 10 trials per trial type!!\n",
      "only using 10 trials per trial type!!\n",
      "only using 10 trials per trial type!!\n",
      "only using 10 trials per trial type!!\n",
      "only using 10 trials per trial type!!\n",
      "only using 10 trials per trial type!!\n",
      "only using 10 trials per trial type!!\n",
      "only using 10 trials per trial type!!\n",
      "only using 10 trials per trial type!!\n",
      "only using 10 trials per trial type!!\n",
      "only using 10 trials per trial type!!\n",
      "only using 10 trials per trial type!!\n",
      "only using 10 trials per trial type!!\n",
      "only using 10 trials per trial type!!\n",
      "only using 10 trials per trial type!!\n",
      "only using 10 trials per trial type!!\n",
      "only using 10 trials per trial type!!\n",
      "only using 10 trials per trial type!!\n",
      "only using 10 trials per trial type!!\n"
     ]
    },
    {
     "name": "stderr",
     "output_type": "stream",
     "text": [
      "\r",
      "114it [10:04,  5.27s/it]"
     ]
    },
    {
     "name": "stdout",
     "output_type": "stream",
     "text": [
      "only using 10 trials per trial type!!\n",
      "only using 10 trials per trial type!!\n",
      "only using 10 trials per trial type!!\n",
      "only using 10 trials per trial type!!\n",
      "only using 10 trials per trial type!!\n",
      "only using 10 trials per trial type!!\n",
      "only using 10 trials per trial type!!\n",
      "only using 10 trials per trial type!!\n",
      "only using 10 trials per trial type!!\n",
      "only using 10 trials per trial type!!\n",
      "only using 10 trials per trial type!!\n",
      "only using 10 trials per trial type!!\n",
      "only using 10 trials per trial type!!\n",
      "only using 10 trials per trial type!!\n",
      "only using 10 trials per trial type!!\n",
      "only using 10 trials per trial type!!\n",
      "only using 10 trials per trial type!!\n",
      "only using 10 trials per trial type!!\n",
      "only using 10 trials per trial type!!\n",
      "only using 10 trials per trial type!!\n"
     ]
    },
    {
     "name": "stderr",
     "output_type": "stream",
     "text": [
      "\r",
      "115it [10:09,  5.32s/it]"
     ]
    },
    {
     "name": "stdout",
     "output_type": "stream",
     "text": [
      "only using 10 trials per trial type!!\n",
      "only using 10 trials per trial type!!\n",
      "only using 10 trials per trial type!!\n",
      "only using 10 trials per trial type!!\n",
      "only using 10 trials per trial type!!\n",
      "only using 10 trials per trial type!!\n",
      "only using 10 trials per trial type!!\n",
      "only using 10 trials per trial type!!\n",
      "only using 10 trials per trial type!!\n",
      "only using 10 trials per trial type!!\n",
      "only using 10 trials per trial type!!\n",
      "only using 10 trials per trial type!!\n",
      "only using 10 trials per trial type!!\n",
      "only using 10 trials per trial type!!\n",
      "only using 10 trials per trial type!!\n",
      "only using 10 trials per trial type!!\n",
      "only using 10 trials per trial type!!\n",
      "only using 10 trials per trial type!!\n",
      "only using 10 trials per trial type!!\n",
      "only using 10 trials per trial type!!\n"
     ]
    },
    {
     "name": "stderr",
     "output_type": "stream",
     "text": [
      "\r",
      "116it [10:14,  5.34s/it]"
     ]
    },
    {
     "name": "stdout",
     "output_type": "stream",
     "text": [
      "only using 10 trials per trial type!!\n",
      "only using 10 trials per trial type!!\n",
      "only using 10 trials per trial type!!\n",
      "only using 10 trials per trial type!!\n",
      "only using 10 trials per trial type!!\n",
      "only using 10 trials per trial type!!\n",
      "only using 10 trials per trial type!!\n",
      "only using 10 trials per trial type!!\n",
      "only using 10 trials per trial type!!\n",
      "only using 10 trials per trial type!!\n",
      "only using 10 trials per trial type!!\n",
      "only using 10 trials per trial type!!\n",
      "only using 10 trials per trial type!!\n",
      "only using 10 trials per trial type!!\n",
      "only using 10 trials per trial type!!\n",
      "only using 10 trials per trial type!!\n",
      "only using 10 trials per trial type!!\n",
      "only using 10 trials per trial type!!\n",
      "only using 10 trials per trial type!!\n",
      "only using 10 trials per trial type!!\n"
     ]
    },
    {
     "name": "stderr",
     "output_type": "stream",
     "text": [
      "\r",
      "117it [10:20,  5.31s/it]"
     ]
    },
    {
     "name": "stdout",
     "output_type": "stream",
     "text": [
      "only using 10 trials per trial type!!\n",
      "only using 10 trials per trial type!!\n",
      "only using 10 trials per trial type!!\n",
      "only using 10 trials per trial type!!\n",
      "only using 10 trials per trial type!!\n",
      "only using 10 trials per trial type!!\n",
      "only using 10 trials per trial type!!\n",
      "only using 10 trials per trial type!!\n",
      "only using 10 trials per trial type!!\n",
      "only using 10 trials per trial type!!\n",
      "only using 10 trials per trial type!!\n",
      "only using 10 trials per trial type!!\n",
      "only using 10 trials per trial type!!\n",
      "only using 10 trials per trial type!!\n",
      "only using 10 trials per trial type!!\n",
      "only using 10 trials per trial type!!\n",
      "only using 10 trials per trial type!!\n",
      "only using 10 trials per trial type!!\n",
      "only using 10 trials per trial type!!\n",
      "only using 10 trials per trial type!!\n"
     ]
    },
    {
     "name": "stderr",
     "output_type": "stream",
     "text": [
      "\r",
      "118it [10:25,  5.30s/it]"
     ]
    },
    {
     "name": "stdout",
     "output_type": "stream",
     "text": [
      "only using 10 trials per trial type!!\n",
      "only using 10 trials per trial type!!\n",
      "only using 10 trials per trial type!!\n",
      "only using 10 trials per trial type!!\n",
      "only using 10 trials per trial type!!\n",
      "only using 10 trials per trial type!!\n",
      "only using 10 trials per trial type!!\n",
      "only using 10 trials per trial type!!\n",
      "only using 10 trials per trial type!!\n",
      "only using 10 trials per trial type!!\n",
      "only using 10 trials per trial type!!\n",
      "only using 10 trials per trial type!!\n",
      "only using 10 trials per trial type!!\n",
      "only using 10 trials per trial type!!\n",
      "only using 10 trials per trial type!!\n",
      "only using 10 trials per trial type!!\n",
      "only using 10 trials per trial type!!\n",
      "only using 10 trials per trial type!!\n",
      "only using 10 trials per trial type!!\n",
      "only using 10 trials per trial type!!\n"
     ]
    },
    {
     "name": "stderr",
     "output_type": "stream",
     "text": [
      "\r",
      "119it [10:30,  5.30s/it]"
     ]
    },
    {
     "name": "stdout",
     "output_type": "stream",
     "text": [
      "only using 10 trials per trial type!!\n",
      "only using 10 trials per trial type!!\n",
      "only using 10 trials per trial type!!\n",
      "only using 10 trials per trial type!!\n",
      "only using 10 trials per trial type!!\n",
      "only using 10 trials per trial type!!\n",
      "only using 10 trials per trial type!!\n",
      "only using 10 trials per trial type!!\n",
      "only using 10 trials per trial type!!\n",
      "only using 10 trials per trial type!!\n",
      "only using 10 trials per trial type!!\n",
      "only using 10 trials per trial type!!\n",
      "only using 10 trials per trial type!!\n",
      "only using 10 trials per trial type!!\n",
      "only using 10 trials per trial type!!\n",
      "only using 10 trials per trial type!!\n",
      "only using 10 trials per trial type!!\n",
      "only using 10 trials per trial type!!\n",
      "only using 10 trials per trial type!!\n",
      "only using 10 trials per trial type!!\n"
     ]
    },
    {
     "name": "stderr",
     "output_type": "stream",
     "text": [
      "\r",
      "120it [10:36,  5.29s/it]"
     ]
    },
    {
     "name": "stdout",
     "output_type": "stream",
     "text": [
      "only using 10 trials per trial type!!\n",
      "only using 10 trials per trial type!!\n",
      "only using 10 trials per trial type!!\n",
      "only using 10 trials per trial type!!\n",
      "only using 10 trials per trial type!!\n",
      "only using 10 trials per trial type!!\n",
      "only using 10 trials per trial type!!\n",
      "only using 10 trials per trial type!!\n",
      "only using 10 trials per trial type!!\n",
      "only using 10 trials per trial type!!\n",
      "only using 10 trials per trial type!!\n",
      "only using 10 trials per trial type!!\n",
      "only using 10 trials per trial type!!\n",
      "only using 10 trials per trial type!!\n",
      "only using 10 trials per trial type!!\n",
      "only using 10 trials per trial type!!\n",
      "only using 10 trials per trial type!!\n",
      "only using 10 trials per trial type!!\n",
      "only using 10 trials per trial type!!\n",
      "only using 10 trials per trial type!!\n"
     ]
    },
    {
     "name": "stderr",
     "output_type": "stream",
     "text": [
      "\r",
      "121it [10:41,  5.34s/it]"
     ]
    },
    {
     "name": "stdout",
     "output_type": "stream",
     "text": [
      "only using 10 trials per trial type!!\n",
      "only using 10 trials per trial type!!\n",
      "only using 10 trials per trial type!!\n",
      "only using 10 trials per trial type!!\n",
      "only using 10 trials per trial type!!\n",
      "only using 10 trials per trial type!!\n",
      "only using 10 trials per trial type!!\n",
      "only using 10 trials per trial type!!\n",
      "only using 10 trials per trial type!!\n",
      "only using 10 trials per trial type!!\n",
      "only using 10 trials per trial type!!\n",
      "only using 10 trials per trial type!!\n",
      "only using 10 trials per trial type!!\n",
      "only using 10 trials per trial type!!\n",
      "only using 10 trials per trial type!!\n",
      "only using 10 trials per trial type!!\n",
      "only using 10 trials per trial type!!\n",
      "only using 10 trials per trial type!!\n",
      "only using 10 trials per trial type!!\n",
      "only using 10 trials per trial type!!\n"
     ]
    },
    {
     "name": "stderr",
     "output_type": "stream",
     "text": [
      "\r",
      "122it [10:46,  5.36s/it]"
     ]
    },
    {
     "name": "stdout",
     "output_type": "stream",
     "text": [
      "only using 10 trials per trial type!!\n",
      "only using 10 trials per trial type!!\n",
      "only using 10 trials per trial type!!\n",
      "only using 10 trials per trial type!!\n",
      "only using 10 trials per trial type!!\n",
      "only using 10 trials per trial type!!\n",
      "only using 10 trials per trial type!!\n",
      "only using 10 trials per trial type!!\n",
      "only using 10 trials per trial type!!\n",
      "only using 10 trials per trial type!!\n",
      "only using 10 trials per trial type!!\n",
      "only using 10 trials per trial type!!\n",
      "only using 10 trials per trial type!!\n",
      "only using 10 trials per trial type!!\n",
      "only using 10 trials per trial type!!\n",
      "only using 10 trials per trial type!!\n",
      "only using 10 trials per trial type!!\n",
      "only using 10 trials per trial type!!\n",
      "only using 10 trials per trial type!!\n",
      "only using 10 trials per trial type!!\n"
     ]
    },
    {
     "name": "stderr",
     "output_type": "stream",
     "text": [
      "\r",
      "123it [10:52,  5.38s/it]"
     ]
    },
    {
     "name": "stdout",
     "output_type": "stream",
     "text": [
      "only using 10 trials per trial type!!\n",
      "only using 10 trials per trial type!!\n",
      "only using 10 trials per trial type!!\n",
      "only using 10 trials per trial type!!\n",
      "only using 10 trials per trial type!!\n",
      "only using 10 trials per trial type!!\n",
      "only using 10 trials per trial type!!\n",
      "only using 10 trials per trial type!!\n",
      "only using 10 trials per trial type!!\n",
      "only using 10 trials per trial type!!\n",
      "only using 10 trials per trial type!!\n",
      "only using 10 trials per trial type!!\n",
      "only using 10 trials per trial type!!\n",
      "only using 10 trials per trial type!!\n",
      "only using 10 trials per trial type!!\n",
      "only using 10 trials per trial type!!\n",
      "only using 10 trials per trial type!!\n",
      "only using 10 trials per trial type!!\n",
      "only using 10 trials per trial type!!\n",
      "only using 10 trials per trial type!!\n"
     ]
    },
    {
     "name": "stderr",
     "output_type": "stream",
     "text": [
      "\r",
      "124it [10:57,  5.39s/it]"
     ]
    },
    {
     "name": "stdout",
     "output_type": "stream",
     "text": [
      "only using 10 trials per trial type!!\n",
      "only using 10 trials per trial type!!\n",
      "only using 10 trials per trial type!!\n",
      "only using 10 trials per trial type!!\n",
      "only using 10 trials per trial type!!\n",
      "only using 10 trials per trial type!!\n",
      "only using 10 trials per trial type!!\n",
      "only using 10 trials per trial type!!\n",
      "only using 10 trials per trial type!!\n",
      "only using 10 trials per trial type!!\n",
      "only using 10 trials per trial type!!\n",
      "only using 10 trials per trial type!!\n",
      "only using 10 trials per trial type!!\n",
      "only using 10 trials per trial type!!\n",
      "only using 10 trials per trial type!!\n",
      "only using 10 trials per trial type!!\n",
      "only using 10 trials per trial type!!\n",
      "only using 10 trials per trial type!!\n",
      "only using 10 trials per trial type!!\n",
      "only using 10 trials per trial type!!\n"
     ]
    },
    {
     "name": "stderr",
     "output_type": "stream",
     "text": [
      "\r",
      "125it [11:03,  5.41s/it]"
     ]
    },
    {
     "name": "stdout",
     "output_type": "stream",
     "text": [
      "only using 10 trials per trial type!!\n",
      "only using 10 trials per trial type!!\n",
      "only using 10 trials per trial type!!\n",
      "only using 10 trials per trial type!!\n",
      "only using 10 trials per trial type!!\n",
      "only using 10 trials per trial type!!\n",
      "only using 10 trials per trial type!!\n",
      "only using 10 trials per trial type!!\n",
      "only using 10 trials per trial type!!\n",
      "only using 10 trials per trial type!!\n",
      "only using 10 trials per trial type!!\n",
      "only using 10 trials per trial type!!\n",
      "only using 10 trials per trial type!!\n",
      "only using 10 trials per trial type!!\n",
      "only using 10 trials per trial type!!\n",
      "only using 10 trials per trial type!!\n",
      "only using 10 trials per trial type!!\n",
      "only using 10 trials per trial type!!\n",
      "only using 10 trials per trial type!!\n",
      "only using 10 trials per trial type!!\n"
     ]
    },
    {
     "name": "stderr",
     "output_type": "stream",
     "text": [
      "\r",
      "126it [11:08,  5.41s/it]"
     ]
    },
    {
     "name": "stdout",
     "output_type": "stream",
     "text": [
      "only using 10 trials per trial type!!\n",
      "only using 10 trials per trial type!!\n",
      "only using 10 trials per trial type!!\n",
      "only using 10 trials per trial type!!\n",
      "only using 10 trials per trial type!!\n",
      "only using 10 trials per trial type!!\n",
      "only using 10 trials per trial type!!\n",
      "only using 10 trials per trial type!!\n",
      "only using 10 trials per trial type!!\n",
      "only using 10 trials per trial type!!\n",
      "only using 10 trials per trial type!!\n",
      "only using 10 trials per trial type!!\n",
      "only using 10 trials per trial type!!\n",
      "only using 10 trials per trial type!!\n",
      "only using 10 trials per trial type!!\n",
      "only using 10 trials per trial type!!\n",
      "only using 10 trials per trial type!!\n",
      "only using 10 trials per trial type!!\n",
      "only using 10 trials per trial type!!\n",
      "only using 10 trials per trial type!!\n"
     ]
    },
    {
     "name": "stderr",
     "output_type": "stream",
     "text": [
      "\r",
      "127it [11:14,  5.42s/it]"
     ]
    },
    {
     "name": "stdout",
     "output_type": "stream",
     "text": [
      "only using 10 trials per trial type!!\n",
      "only using 10 trials per trial type!!\n",
      "only using 10 trials per trial type!!\n",
      "only using 10 trials per trial type!!\n",
      "only using 10 trials per trial type!!\n",
      "only using 10 trials per trial type!!\n",
      "only using 10 trials per trial type!!\n",
      "only using 10 trials per trial type!!\n",
      "only using 10 trials per trial type!!\n",
      "only using 10 trials per trial type!!\n",
      "only using 10 trials per trial type!!\n",
      "only using 10 trials per trial type!!\n",
      "only using 10 trials per trial type!!\n",
      "only using 10 trials per trial type!!\n",
      "only using 10 trials per trial type!!\n",
      "only using 10 trials per trial type!!\n",
      "only using 10 trials per trial type!!\n",
      "only using 10 trials per trial type!!\n",
      "only using 10 trials per trial type!!\n",
      "only using 10 trials per trial type!!\n"
     ]
    },
    {
     "name": "stderr",
     "output_type": "stream",
     "text": [
      "\r",
      "128it [11:19,  5.43s/it]"
     ]
    },
    {
     "name": "stdout",
     "output_type": "stream",
     "text": [
      "only using 10 trials per trial type!!\n",
      "only using 10 trials per trial type!!\n",
      "only using 10 trials per trial type!!\n",
      "only using 10 trials per trial type!!\n",
      "only using 10 trials per trial type!!\n",
      "only using 10 trials per trial type!!\n",
      "only using 10 trials per trial type!!\n",
      "only using 10 trials per trial type!!\n",
      "only using 10 trials per trial type!!\n",
      "only using 10 trials per trial type!!\n",
      "only using 10 trials per trial type!!\n",
      "only using 10 trials per trial type!!\n",
      "only using 10 trials per trial type!!\n",
      "only using 10 trials per trial type!!\n",
      "only using 10 trials per trial type!!\n",
      "only using 10 trials per trial type!!\n",
      "only using 10 trials per trial type!!\n",
      "only using 10 trials per trial type!!\n",
      "only using 10 trials per trial type!!\n",
      "only using 10 trials per trial type!!\n"
     ]
    },
    {
     "name": "stderr",
     "output_type": "stream",
     "text": [
      "\r",
      "129it [11:24,  5.43s/it]"
     ]
    },
    {
     "name": "stdout",
     "output_type": "stream",
     "text": [
      "only using 10 trials per trial type!!\n",
      "only using 10 trials per trial type!!\n",
      "only using 10 trials per trial type!!\n",
      "only using 10 trials per trial type!!\n",
      "only using 10 trials per trial type!!\n",
      "only using 10 trials per trial type!!\n",
      "only using 10 trials per trial type!!\n",
      "only using 10 trials per trial type!!\n",
      "only using 10 trials per trial type!!\n",
      "only using 10 trials per trial type!!\n",
      "only using 10 trials per trial type!!\n",
      "only using 10 trials per trial type!!\n",
      "only using 10 trials per trial type!!\n",
      "only using 10 trials per trial type!!\n",
      "only using 10 trials per trial type!!\n",
      "only using 10 trials per trial type!!\n",
      "only using 10 trials per trial type!!\n",
      "only using 10 trials per trial type!!\n",
      "only using 10 trials per trial type!!\n",
      "only using 10 trials per trial type!!\n"
     ]
    },
    {
     "name": "stderr",
     "output_type": "stream",
     "text": [
      "\r",
      "130it [11:30,  5.43s/it]"
     ]
    },
    {
     "name": "stdout",
     "output_type": "stream",
     "text": [
      "only using 10 trials per trial type!!\n",
      "only using 10 trials per trial type!!\n",
      "only using 10 trials per trial type!!\n",
      "only using 10 trials per trial type!!\n",
      "only using 10 trials per trial type!!\n",
      "only using 10 trials per trial type!!\n",
      "only using 10 trials per trial type!!\n",
      "only using 10 trials per trial type!!\n",
      "only using 10 trials per trial type!!\n",
      "only using 10 trials per trial type!!\n",
      "only using 10 trials per trial type!!\n",
      "only using 10 trials per trial type!!\n",
      "only using 10 trials per trial type!!\n",
      "only using 10 trials per trial type!!\n",
      "only using 10 trials per trial type!!\n",
      "only using 10 trials per trial type!!\n",
      "only using 10 trials per trial type!!\n",
      "only using 10 trials per trial type!!\n",
      "only using 10 trials per trial type!!\n",
      "only using 10 trials per trial type!!\n"
     ]
    },
    {
     "name": "stderr",
     "output_type": "stream",
     "text": [
      "\r",
      "131it [11:35,  5.43s/it]"
     ]
    },
    {
     "name": "stdout",
     "output_type": "stream",
     "text": [
      "only using 10 trials per trial type!!\n",
      "only using 10 trials per trial type!!\n",
      "only using 10 trials per trial type!!\n",
      "only using 10 trials per trial type!!\n",
      "only using 10 trials per trial type!!\n",
      "only using 10 trials per trial type!!\n",
      "only using 10 trials per trial type!!\n",
      "only using 10 trials per trial type!!\n",
      "only using 10 trials per trial type!!\n",
      "only using 10 trials per trial type!!\n",
      "only using 10 trials per trial type!!\n",
      "only using 10 trials per trial type!!\n",
      "only using 10 trials per trial type!!\n",
      "only using 10 trials per trial type!!\n",
      "only using 10 trials per trial type!!\n",
      "only using 10 trials per trial type!!\n",
      "only using 10 trials per trial type!!\n",
      "only using 10 trials per trial type!!\n",
      "only using 10 trials per trial type!!\n",
      "only using 10 trials per trial type!!\n"
     ]
    },
    {
     "name": "stderr",
     "output_type": "stream",
     "text": [
      "\r",
      "132it [11:41,  5.44s/it]"
     ]
    },
    {
     "name": "stdout",
     "output_type": "stream",
     "text": [
      "only using 10 trials per trial type!!\n",
      "only using 10 trials per trial type!!\n",
      "only using 10 trials per trial type!!\n",
      "only using 10 trials per trial type!!\n",
      "only using 10 trials per trial type!!\n",
      "only using 10 trials per trial type!!\n",
      "only using 10 trials per trial type!!\n",
      "only using 10 trials per trial type!!\n",
      "only using 10 trials per trial type!!\n",
      "only using 10 trials per trial type!!\n",
      "only using 10 trials per trial type!!\n",
      "only using 10 trials per trial type!!\n",
      "only using 10 trials per trial type!!\n",
      "only using 10 trials per trial type!!\n",
      "only using 10 trials per trial type!!\n",
      "only using 10 trials per trial type!!\n",
      "only using 10 trials per trial type!!\n",
      "only using 10 trials per trial type!!\n",
      "only using 10 trials per trial type!!\n",
      "only using 10 trials per trial type!!\n"
     ]
    },
    {
     "name": "stderr",
     "output_type": "stream",
     "text": [
      "\r",
      "133it [11:46,  5.44s/it]"
     ]
    },
    {
     "name": "stdout",
     "output_type": "stream",
     "text": [
      "only using 10 trials per trial type!!\n",
      "only using 10 trials per trial type!!\n",
      "only using 10 trials per trial type!!\n",
      "only using 10 trials per trial type!!\n",
      "only using 10 trials per trial type!!\n",
      "only using 10 trials per trial type!!\n",
      "only using 10 trials per trial type!!\n",
      "only using 10 trials per trial type!!\n",
      "only using 10 trials per trial type!!\n",
      "only using 10 trials per trial type!!\n",
      "only using 10 trials per trial type!!\n",
      "only using 10 trials per trial type!!\n",
      "only using 10 trials per trial type!!\n",
      "only using 10 trials per trial type!!\n",
      "only using 10 trials per trial type!!\n",
      "only using 10 trials per trial type!!\n",
      "only using 10 trials per trial type!!\n",
      "only using 10 trials per trial type!!\n",
      "only using 10 trials per trial type!!\n",
      "only using 10 trials per trial type!!\n"
     ]
    },
    {
     "name": "stderr",
     "output_type": "stream",
     "text": [
      "\r",
      "134it [11:52,  5.43s/it]"
     ]
    },
    {
     "name": "stdout",
     "output_type": "stream",
     "text": [
      "only using 10 trials per trial type!!\n",
      "only using 10 trials per trial type!!\n",
      "only using 10 trials per trial type!!\n",
      "only using 10 trials per trial type!!\n",
      "only using 10 trials per trial type!!\n",
      "only using 10 trials per trial type!!\n",
      "only using 10 trials per trial type!!\n",
      "only using 10 trials per trial type!!\n",
      "only using 10 trials per trial type!!\n",
      "only using 10 trials per trial type!!\n",
      "only using 10 trials per trial type!!\n",
      "only using 10 trials per trial type!!\n",
      "only using 10 trials per trial type!!\n",
      "only using 10 trials per trial type!!\n",
      "only using 10 trials per trial type!!\n",
      "only using 10 trials per trial type!!\n",
      "only using 10 trials per trial type!!\n",
      "only using 10 trials per trial type!!\n",
      "only using 10 trials per trial type!!\n",
      "only using 10 trials per trial type!!\n"
     ]
    },
    {
     "name": "stderr",
     "output_type": "stream",
     "text": [
      "\r",
      "135it [11:57,  5.44s/it]"
     ]
    },
    {
     "name": "stdout",
     "output_type": "stream",
     "text": [
      "only using 10 trials per trial type!!\n",
      "only using 10 trials per trial type!!\n",
      "only using 10 trials per trial type!!\n",
      "only using 10 trials per trial type!!\n",
      "only using 10 trials per trial type!!\n",
      "only using 10 trials per trial type!!\n",
      "only using 10 trials per trial type!!\n",
      "only using 10 trials per trial type!!\n",
      "only using 10 trials per trial type!!\n",
      "only using 10 trials per trial type!!\n",
      "only using 10 trials per trial type!!\n",
      "only using 10 trials per trial type!!\n",
      "only using 10 trials per trial type!!\n",
      "only using 10 trials per trial type!!\n",
      "only using 10 trials per trial type!!\n",
      "only using 10 trials per trial type!!\n",
      "only using 10 trials per trial type!!\n",
      "only using 10 trials per trial type!!\n",
      "only using 10 trials per trial type!!\n",
      "only using 10 trials per trial type!!\n"
     ]
    },
    {
     "name": "stderr",
     "output_type": "stream",
     "text": [
      "\r",
      "136it [12:02,  5.42s/it]"
     ]
    },
    {
     "name": "stdout",
     "output_type": "stream",
     "text": [
      "only using 10 trials per trial type!!\n",
      "only using 10 trials per trial type!!\n",
      "only using 10 trials per trial type!!\n",
      "only using 10 trials per trial type!!\n",
      "only using 10 trials per trial type!!\n",
      "only using 10 trials per trial type!!\n",
      "only using 10 trials per trial type!!\n",
      "only using 10 trials per trial type!!\n",
      "only using 10 trials per trial type!!\n",
      "only using 10 trials per trial type!!\n",
      "only using 10 trials per trial type!!\n",
      "only using 10 trials per trial type!!\n",
      "only using 10 trials per trial type!!\n",
      "only using 10 trials per trial type!!\n",
      "only using 10 trials per trial type!!\n",
      "only using 10 trials per trial type!!\n",
      "only using 10 trials per trial type!!\n",
      "only using 10 trials per trial type!!\n",
      "only using 10 trials per trial type!!\n",
      "only using 10 trials per trial type!!\n"
     ]
    },
    {
     "name": "stderr",
     "output_type": "stream",
     "text": [
      "\r",
      "137it [12:08,  5.43s/it]"
     ]
    },
    {
     "name": "stdout",
     "output_type": "stream",
     "text": [
      "only using 10 trials per trial type!!\n",
      "only using 10 trials per trial type!!\n",
      "only using 10 trials per trial type!!\n",
      "only using 10 trials per trial type!!\n",
      "only using 10 trials per trial type!!\n",
      "only using 10 trials per trial type!!\n",
      "only using 10 trials per trial type!!\n",
      "only using 10 trials per trial type!!\n",
      "only using 10 trials per trial type!!\n",
      "only using 10 trials per trial type!!\n",
      "only using 10 trials per trial type!!\n",
      "only using 10 trials per trial type!!\n",
      "only using 10 trials per trial type!!\n",
      "only using 10 trials per trial type!!\n",
      "only using 10 trials per trial type!!\n",
      "only using 10 trials per trial type!!\n",
      "only using 10 trials per trial type!!\n",
      "only using 10 trials per trial type!!\n",
      "only using 10 trials per trial type!!\n",
      "only using 10 trials per trial type!!\n"
     ]
    },
    {
     "name": "stderr",
     "output_type": "stream",
     "text": [
      "\r",
      "138it [12:13,  5.38s/it]"
     ]
    },
    {
     "name": "stdout",
     "output_type": "stream",
     "text": [
      "only using 10 trials per trial type!!\n",
      "only using 10 trials per trial type!!\n",
      "only using 10 trials per trial type!!\n",
      "only using 10 trials per trial type!!\n",
      "only using 10 trials per trial type!!\n",
      "only using 10 trials per trial type!!\n",
      "only using 10 trials per trial type!!\n",
      "only using 10 trials per trial type!!\n",
      "only using 10 trials per trial type!!\n",
      "only using 10 trials per trial type!!\n",
      "only using 10 trials per trial type!!\n",
      "only using 10 trials per trial type!!\n",
      "only using 10 trials per trial type!!\n",
      "only using 10 trials per trial type!!\n",
      "only using 10 trials per trial type!!\n",
      "only using 10 trials per trial type!!\n",
      "only using 10 trials per trial type!!\n",
      "only using 10 trials per trial type!!\n",
      "only using 10 trials per trial type!!\n",
      "only using 10 trials per trial type!!\n"
     ]
    },
    {
     "name": "stderr",
     "output_type": "stream",
     "text": [
      "\r",
      "139it [12:18,  5.35s/it]"
     ]
    },
    {
     "name": "stdout",
     "output_type": "stream",
     "text": [
      "only using 10 trials per trial type!!\n",
      "only using 10 trials per trial type!!\n",
      "only using 10 trials per trial type!!\n",
      "only using 10 trials per trial type!!\n",
      "only using 10 trials per trial type!!\n",
      "only using 10 trials per trial type!!\n",
      "only using 10 trials per trial type!!\n",
      "only using 10 trials per trial type!!\n",
      "only using 10 trials per trial type!!\n",
      "only using 10 trials per trial type!!\n",
      "only using 10 trials per trial type!!\n",
      "only using 10 trials per trial type!!\n",
      "only using 10 trials per trial type!!\n",
      "only using 10 trials per trial type!!\n",
      "only using 10 trials per trial type!!\n",
      "only using 10 trials per trial type!!\n",
      "only using 10 trials per trial type!!\n",
      "only using 10 trials per trial type!!\n",
      "only using 10 trials per trial type!!\n",
      "only using 10 trials per trial type!!\n"
     ]
    },
    {
     "name": "stderr",
     "output_type": "stream",
     "text": [
      "\r",
      "140it [12:24,  5.38s/it]"
     ]
    },
    {
     "name": "stdout",
     "output_type": "stream",
     "text": [
      "only using 10 trials per trial type!!\n",
      "only using 10 trials per trial type!!\n",
      "only using 10 trials per trial type!!\n",
      "only using 10 trials per trial type!!\n",
      "only using 10 trials per trial type!!\n",
      "only using 10 trials per trial type!!\n",
      "only using 10 trials per trial type!!\n",
      "only using 10 trials per trial type!!\n",
      "only using 10 trials per trial type!!\n",
      "only using 10 trials per trial type!!\n",
      "only using 10 trials per trial type!!\n",
      "only using 10 trials per trial type!!\n",
      "only using 10 trials per trial type!!\n",
      "only using 10 trials per trial type!!\n",
      "only using 10 trials per trial type!!\n",
      "only using 10 trials per trial type!!\n",
      "only using 10 trials per trial type!!\n",
      "only using 10 trials per trial type!!\n",
      "only using 10 trials per trial type!!\n",
      "only using 10 trials per trial type!!\n"
     ]
    },
    {
     "name": "stderr",
     "output_type": "stream",
     "text": [
      "\r",
      "141it [12:29,  5.38s/it]"
     ]
    },
    {
     "name": "stdout",
     "output_type": "stream",
     "text": [
      "only using 10 trials per trial type!!\n",
      "only using 10 trials per trial type!!\n",
      "only using 10 trials per trial type!!\n",
      "only using 10 trials per trial type!!\n",
      "only using 10 trials per trial type!!\n",
      "only using 10 trials per trial type!!\n",
      "only using 10 trials per trial type!!\n",
      "only using 10 trials per trial type!!\n",
      "only using 10 trials per trial type!!\n",
      "only using 10 trials per trial type!!\n",
      "only using 10 trials per trial type!!\n",
      "only using 10 trials per trial type!!\n",
      "only using 10 trials per trial type!!\n",
      "only using 10 trials per trial type!!\n",
      "only using 10 trials per trial type!!\n",
      "only using 10 trials per trial type!!\n",
      "only using 10 trials per trial type!!\n",
      "only using 10 trials per trial type!!\n",
      "only using 10 trials per trial type!!\n",
      "only using 10 trials per trial type!!\n"
     ]
    },
    {
     "name": "stderr",
     "output_type": "stream",
     "text": [
      "\r",
      "142it [12:34,  5.34s/it]"
     ]
    },
    {
     "name": "stdout",
     "output_type": "stream",
     "text": [
      "only using 10 trials per trial type!!\n",
      "only using 10 trials per trial type!!\n",
      "only using 10 trials per trial type!!\n",
      "only using 10 trials per trial type!!\n",
      "only using 10 trials per trial type!!\n",
      "only using 10 trials per trial type!!\n",
      "only using 10 trials per trial type!!\n",
      "only using 10 trials per trial type!!\n",
      "only using 10 trials per trial type!!\n",
      "only using 10 trials per trial type!!\n",
      "only using 10 trials per trial type!!\n",
      "only using 10 trials per trial type!!\n",
      "only using 10 trials per trial type!!\n",
      "only using 10 trials per trial type!!\n",
      "only using 10 trials per trial type!!\n",
      "only using 10 trials per trial type!!\n",
      "only using 10 trials per trial type!!\n",
      "only using 10 trials per trial type!!\n",
      "only using 10 trials per trial type!!\n",
      "only using 10 trials per trial type!!\n"
     ]
    },
    {
     "name": "stderr",
     "output_type": "stream",
     "text": [
      "\r",
      "143it [12:40,  5.35s/it]"
     ]
    },
    {
     "name": "stdout",
     "output_type": "stream",
     "text": [
      "only using 10 trials per trial type!!\n",
      "only using 10 trials per trial type!!\n",
      "only using 10 trials per trial type!!\n",
      "only using 10 trials per trial type!!\n",
      "only using 10 trials per trial type!!\n",
      "only using 10 trials per trial type!!\n",
      "only using 10 trials per trial type!!\n",
      "only using 10 trials per trial type!!\n",
      "only using 10 trials per trial type!!\n",
      "only using 10 trials per trial type!!\n",
      "only using 10 trials per trial type!!\n",
      "only using 10 trials per trial type!!\n",
      "only using 10 trials per trial type!!\n",
      "only using 10 trials per trial type!!\n",
      "only using 10 trials per trial type!!\n",
      "only using 10 trials per trial type!!\n",
      "only using 10 trials per trial type!!\n",
      "only using 10 trials per trial type!!\n",
      "only using 10 trials per trial type!!\n",
      "only using 10 trials per trial type!!\n"
     ]
    },
    {
     "name": "stderr",
     "output_type": "stream",
     "text": [
      "\r",
      "144it [12:45,  5.37s/it]"
     ]
    },
    {
     "name": "stdout",
     "output_type": "stream",
     "text": [
      "only using 10 trials per trial type!!\n",
      "only using 10 trials per trial type!!\n",
      "only using 10 trials per trial type!!\n",
      "only using 10 trials per trial type!!\n",
      "only using 10 trials per trial type!!\n",
      "only using 10 trials per trial type!!\n",
      "only using 10 trials per trial type!!\n",
      "only using 10 trials per trial type!!\n",
      "only using 10 trials per trial type!!\n",
      "only using 10 trials per trial type!!\n",
      "only using 10 trials per trial type!!\n",
      "only using 10 trials per trial type!!\n",
      "only using 10 trials per trial type!!\n",
      "only using 10 trials per trial type!!\n",
      "only using 10 trials per trial type!!\n",
      "only using 10 trials per trial type!!\n",
      "only using 10 trials per trial type!!\n",
      "only using 10 trials per trial type!!\n",
      "only using 10 trials per trial type!!\n",
      "only using 10 trials per trial type!!\n"
     ]
    },
    {
     "name": "stderr",
     "output_type": "stream",
     "text": [
      "\r",
      "145it [12:51,  5.38s/it]"
     ]
    },
    {
     "name": "stdout",
     "output_type": "stream",
     "text": [
      "only using 10 trials per trial type!!\n",
      "only using 10 trials per trial type!!\n",
      "only using 10 trials per trial type!!\n",
      "only using 10 trials per trial type!!\n",
      "only using 10 trials per trial type!!\n",
      "only using 10 trials per trial type!!\n",
      "only using 10 trials per trial type!!\n",
      "only using 10 trials per trial type!!\n",
      "only using 10 trials per trial type!!\n",
      "only using 10 trials per trial type!!\n",
      "only using 10 trials per trial type!!\n",
      "only using 10 trials per trial type!!\n",
      "only using 10 trials per trial type!!\n",
      "only using 10 trials per trial type!!\n",
      "only using 10 trials per trial type!!\n",
      "only using 10 trials per trial type!!\n",
      "only using 10 trials per trial type!!\n",
      "only using 10 trials per trial type!!\n",
      "only using 10 trials per trial type!!\n",
      "only using 10 trials per trial type!!\n"
     ]
    },
    {
     "name": "stderr",
     "output_type": "stream",
     "text": [
      "\r",
      "146it [12:56,  5.40s/it]"
     ]
    },
    {
     "name": "stdout",
     "output_type": "stream",
     "text": [
      "only using 10 trials per trial type!!\n",
      "only using 10 trials per trial type!!\n",
      "only using 10 trials per trial type!!\n",
      "only using 10 trials per trial type!!\n",
      "only using 10 trials per trial type!!\n",
      "only using 10 trials per trial type!!\n",
      "only using 10 trials per trial type!!\n",
      "only using 10 trials per trial type!!\n",
      "only using 10 trials per trial type!!\n",
      "only using 10 trials per trial type!!\n",
      "only using 10 trials per trial type!!\n",
      "only using 10 trials per trial type!!\n",
      "only using 10 trials per trial type!!\n",
      "only using 10 trials per trial type!!\n",
      "only using 10 trials per trial type!!\n",
      "only using 10 trials per trial type!!\n",
      "only using 10 trials per trial type!!\n",
      "only using 10 trials per trial type!!\n",
      "only using 10 trials per trial type!!\n",
      "only using 10 trials per trial type!!\n"
     ]
    },
    {
     "name": "stderr",
     "output_type": "stream",
     "text": [
      "\r",
      "147it [13:02,  5.40s/it]"
     ]
    },
    {
     "name": "stdout",
     "output_type": "stream",
     "text": [
      "only using 10 trials per trial type!!\n",
      "only using 10 trials per trial type!!\n",
      "only using 10 trials per trial type!!\n",
      "only using 10 trials per trial type!!\n",
      "only using 10 trials per trial type!!\n",
      "only using 10 trials per trial type!!\n",
      "only using 10 trials per trial type!!\n",
      "only using 10 trials per trial type!!\n",
      "only using 10 trials per trial type!!\n",
      "only using 10 trials per trial type!!\n",
      "only using 10 trials per trial type!!\n",
      "only using 10 trials per trial type!!\n",
      "only using 10 trials per trial type!!\n",
      "only using 10 trials per trial type!!\n",
      "only using 10 trials per trial type!!\n",
      "only using 10 trials per trial type!!\n",
      "only using 10 trials per trial type!!\n",
      "only using 10 trials per trial type!!\n",
      "only using 10 trials per trial type!!\n",
      "only using 10 trials per trial type!!\n"
     ]
    },
    {
     "name": "stderr",
     "output_type": "stream",
     "text": [
      "\r",
      "148it [13:07,  5.36s/it]"
     ]
    },
    {
     "name": "stdout",
     "output_type": "stream",
     "text": [
      "only using 10 trials per trial type!!\n",
      "only using 10 trials per trial type!!\n",
      "only using 10 trials per trial type!!\n",
      "only using 10 trials per trial type!!\n",
      "only using 10 trials per trial type!!\n",
      "only using 10 trials per trial type!!\n",
      "only using 10 trials per trial type!!\n",
      "only using 10 trials per trial type!!\n",
      "only using 10 trials per trial type!!\n",
      "only using 10 trials per trial type!!\n",
      "only using 10 trials per trial type!!\n",
      "only using 10 trials per trial type!!\n",
      "only using 10 trials per trial type!!\n",
      "only using 10 trials per trial type!!\n",
      "only using 10 trials per trial type!!\n",
      "only using 10 trials per trial type!!\n",
      "only using 10 trials per trial type!!\n",
      "only using 10 trials per trial type!!\n",
      "only using 10 trials per trial type!!\n",
      "only using 10 trials per trial type!!\n"
     ]
    },
    {
     "name": "stderr",
     "output_type": "stream",
     "text": [
      "\r",
      "149it [13:12,  5.34s/it]"
     ]
    },
    {
     "name": "stdout",
     "output_type": "stream",
     "text": [
      "only using 10 trials per trial type!!\n",
      "only using 10 trials per trial type!!\n",
      "only using 10 trials per trial type!!\n",
      "only using 10 trials per trial type!!\n",
      "only using 10 trials per trial type!!\n",
      "only using 10 trials per trial type!!\n",
      "only using 10 trials per trial type!!\n",
      "only using 10 trials per trial type!!\n",
      "only using 10 trials per trial type!!\n",
      "only using 10 trials per trial type!!\n",
      "only using 10 trials per trial type!!\n",
      "only using 10 trials per trial type!!\n",
      "only using 10 trials per trial type!!\n",
      "only using 10 trials per trial type!!\n",
      "only using 10 trials per trial type!!\n",
      "only using 10 trials per trial type!!\n",
      "only using 10 trials per trial type!!\n",
      "only using 10 trials per trial type!!\n",
      "only using 10 trials per trial type!!\n",
      "only using 10 trials per trial type!!\n"
     ]
    },
    {
     "name": "stderr",
     "output_type": "stream",
     "text": [
      "\r",
      "150it [13:17,  5.32s/it]"
     ]
    },
    {
     "name": "stdout",
     "output_type": "stream",
     "text": [
      "only using 10 trials per trial type!!\n",
      "only using 10 trials per trial type!!\n",
      "only using 10 trials per trial type!!\n",
      "only using 10 trials per trial type!!\n",
      "only using 10 trials per trial type!!\n",
      "only using 10 trials per trial type!!\n",
      "only using 10 trials per trial type!!\n",
      "only using 10 trials per trial type!!\n",
      "only using 10 trials per trial type!!\n",
      "only using 10 trials per trial type!!\n",
      "only using 10 trials per trial type!!\n",
      "only using 10 trials per trial type!!\n",
      "only using 10 trials per trial type!!\n",
      "only using 10 trials per trial type!!\n",
      "only using 10 trials per trial type!!\n",
      "only using 10 trials per trial type!!\n",
      "only using 10 trials per trial type!!\n",
      "only using 10 trials per trial type!!\n",
      "only using 10 trials per trial type!!\n",
      "only using 10 trials per trial type!!\n"
     ]
    },
    {
     "name": "stderr",
     "output_type": "stream",
     "text": [
      "\r",
      "151it [13:23,  5.31s/it]"
     ]
    },
    {
     "name": "stdout",
     "output_type": "stream",
     "text": [
      "only using 10 trials per trial type!!\n",
      "only using 10 trials per trial type!!\n",
      "only using 10 trials per trial type!!\n",
      "only using 10 trials per trial type!!\n",
      "only using 10 trials per trial type!!\n",
      "only using 10 trials per trial type!!\n",
      "only using 10 trials per trial type!!\n",
      "only using 10 trials per trial type!!\n",
      "only using 10 trials per trial type!!\n",
      "only using 10 trials per trial type!!\n",
      "only using 10 trials per trial type!!\n",
      "only using 10 trials per trial type!!\n",
      "only using 10 trials per trial type!!\n",
      "only using 10 trials per trial type!!\n",
      "only using 10 trials per trial type!!\n",
      "only using 10 trials per trial type!!\n",
      "only using 10 trials per trial type!!\n",
      "only using 10 trials per trial type!!\n",
      "only using 10 trials per trial type!!\n",
      "only using 10 trials per trial type!!\n"
     ]
    },
    {
     "name": "stderr",
     "output_type": "stream",
     "text": [
      "\r",
      "152it [13:28,  5.33s/it]"
     ]
    },
    {
     "name": "stdout",
     "output_type": "stream",
     "text": [
      "only using 10 trials per trial type!!\n",
      "only using 10 trials per trial type!!\n",
      "only using 10 trials per trial type!!\n",
      "only using 10 trials per trial type!!\n",
      "only using 10 trials per trial type!!\n",
      "only using 10 trials per trial type!!\n",
      "only using 10 trials per trial type!!\n",
      "only using 10 trials per trial type!!\n",
      "only using 10 trials per trial type!!\n",
      "only using 10 trials per trial type!!\n",
      "only using 10 trials per trial type!!\n",
      "only using 10 trials per trial type!!\n",
      "only using 10 trials per trial type!!\n",
      "only using 10 trials per trial type!!\n",
      "only using 10 trials per trial type!!\n",
      "only using 10 trials per trial type!!\n",
      "only using 10 trials per trial type!!\n",
      "only using 10 trials per trial type!!\n",
      "only using 10 trials per trial type!!\n",
      "only using 10 trials per trial type!!\n"
     ]
    },
    {
     "name": "stderr",
     "output_type": "stream",
     "text": [
      "\r",
      "153it [13:33,  5.35s/it]"
     ]
    },
    {
     "name": "stdout",
     "output_type": "stream",
     "text": [
      "only using 10 trials per trial type!!\n",
      "only using 10 trials per trial type!!\n",
      "only using 10 trials per trial type!!\n",
      "only using 10 trials per trial type!!\n",
      "only using 10 trials per trial type!!\n",
      "only using 10 trials per trial type!!\n",
      "only using 10 trials per trial type!!\n",
      "only using 10 trials per trial type!!\n",
      "only using 10 trials per trial type!!\n",
      "only using 10 trials per trial type!!\n",
      "only using 10 trials per trial type!!\n",
      "only using 10 trials per trial type!!\n",
      "only using 10 trials per trial type!!\n",
      "only using 10 trials per trial type!!\n",
      "only using 10 trials per trial type!!\n",
      "only using 10 trials per trial type!!\n",
      "only using 10 trials per trial type!!\n",
      "only using 10 trials per trial type!!\n",
      "only using 10 trials per trial type!!\n",
      "only using 10 trials per trial type!!\n"
     ]
    },
    {
     "name": "stderr",
     "output_type": "stream",
     "text": [
      "\r",
      "154it [13:39,  5.38s/it]"
     ]
    },
    {
     "name": "stdout",
     "output_type": "stream",
     "text": [
      "only using 10 trials per trial type!!\n",
      "only using 10 trials per trial type!!\n",
      "only using 10 trials per trial type!!\n",
      "only using 10 trials per trial type!!\n",
      "only using 10 trials per trial type!!\n",
      "only using 10 trials per trial type!!\n",
      "only using 10 trials per trial type!!\n",
      "only using 10 trials per trial type!!\n",
      "only using 10 trials per trial type!!\n",
      "only using 10 trials per trial type!!\n",
      "only using 10 trials per trial type!!\n",
      "only using 10 trials per trial type!!\n",
      "only using 10 trials per trial type!!\n",
      "only using 10 trials per trial type!!\n",
      "only using 10 trials per trial type!!\n",
      "only using 10 trials per trial type!!\n",
      "only using 10 trials per trial type!!\n",
      "only using 10 trials per trial type!!\n",
      "only using 10 trials per trial type!!\n",
      "only using 10 trials per trial type!!\n"
     ]
    },
    {
     "name": "stderr",
     "output_type": "stream",
     "text": [
      "\r",
      "155it [13:44,  5.35s/it]"
     ]
    },
    {
     "name": "stdout",
     "output_type": "stream",
     "text": [
      "only using 10 trials per trial type!!\n",
      "only using 10 trials per trial type!!\n",
      "only using 10 trials per trial type!!\n",
      "only using 10 trials per trial type!!\n",
      "only using 10 trials per trial type!!\n",
      "only using 10 trials per trial type!!\n",
      "only using 10 trials per trial type!!\n",
      "only using 10 trials per trial type!!\n",
      "only using 10 trials per trial type!!\n",
      "only using 10 trials per trial type!!\n",
      "only using 10 trials per trial type!!\n",
      "only using 10 trials per trial type!!\n",
      "only using 10 trials per trial type!!\n",
      "only using 10 trials per trial type!!\n",
      "only using 10 trials per trial type!!\n",
      "only using 10 trials per trial type!!\n",
      "only using 10 trials per trial type!!\n",
      "only using 10 trials per trial type!!\n",
      "only using 10 trials per trial type!!\n",
      "only using 10 trials per trial type!!\n"
     ]
    },
    {
     "name": "stderr",
     "output_type": "stream",
     "text": [
      "\r",
      "156it [13:49,  5.32s/it]"
     ]
    },
    {
     "name": "stdout",
     "output_type": "stream",
     "text": [
      "only using 10 trials per trial type!!\n",
      "only using 10 trials per trial type!!\n",
      "only using 10 trials per trial type!!\n",
      "only using 10 trials per trial type!!\n",
      "only using 10 trials per trial type!!\n",
      "only using 10 trials per trial type!!\n",
      "only using 10 trials per trial type!!\n",
      "only using 10 trials per trial type!!\n",
      "only using 10 trials per trial type!!\n",
      "only using 10 trials per trial type!!\n",
      "only using 10 trials per trial type!!\n",
      "only using 10 trials per trial type!!\n",
      "only using 10 trials per trial type!!\n",
      "only using 10 trials per trial type!!\n",
      "only using 10 trials per trial type!!\n",
      "only using 10 trials per trial type!!\n",
      "only using 10 trials per trial type!!\n",
      "only using 10 trials per trial type!!\n",
      "only using 10 trials per trial type!!\n",
      "only using 10 trials per trial type!!\n"
     ]
    },
    {
     "name": "stderr",
     "output_type": "stream",
     "text": [
      "\r",
      "157it [13:55,  5.30s/it]"
     ]
    },
    {
     "name": "stdout",
     "output_type": "stream",
     "text": [
      "only using 10 trials per trial type!!\n",
      "only using 10 trials per trial type!!\n",
      "only using 10 trials per trial type!!\n",
      "only using 10 trials per trial type!!\n",
      "only using 10 trials per trial type!!\n",
      "only using 10 trials per trial type!!\n",
      "only using 10 trials per trial type!!\n",
      "only using 10 trials per trial type!!\n",
      "only using 10 trials per trial type!!\n",
      "only using 10 trials per trial type!!\n",
      "only using 10 trials per trial type!!\n",
      "only using 10 trials per trial type!!\n",
      "only using 10 trials per trial type!!\n",
      "only using 10 trials per trial type!!\n",
      "only using 10 trials per trial type!!\n",
      "only using 10 trials per trial type!!\n",
      "only using 10 trials per trial type!!\n",
      "only using 10 trials per trial type!!\n",
      "only using 10 trials per trial type!!\n",
      "only using 10 trials per trial type!!\n"
     ]
    },
    {
     "name": "stderr",
     "output_type": "stream",
     "text": [
      "\r",
      "158it [14:00,  5.30s/it]"
     ]
    },
    {
     "name": "stdout",
     "output_type": "stream",
     "text": [
      "only using 10 trials per trial type!!\n",
      "only using 10 trials per trial type!!\n",
      "only using 10 trials per trial type!!\n",
      "only using 10 trials per trial type!!\n",
      "only using 10 trials per trial type!!\n",
      "only using 10 trials per trial type!!\n",
      "only using 10 trials per trial type!!\n",
      "only using 10 trials per trial type!!\n",
      "only using 10 trials per trial type!!\n",
      "only using 10 trials per trial type!!\n",
      "only using 10 trials per trial type!!\n",
      "only using 10 trials per trial type!!\n",
      "only using 10 trials per trial type!!\n",
      "only using 10 trials per trial type!!\n",
      "only using 10 trials per trial type!!\n",
      "only using 10 trials per trial type!!\n",
      "only using 10 trials per trial type!!\n",
      "only using 10 trials per trial type!!\n",
      "only using 10 trials per trial type!!\n",
      "only using 10 trials per trial type!!\n"
     ]
    },
    {
     "name": "stderr",
     "output_type": "stream",
     "text": [
      "\r",
      "159it [14:05,  5.29s/it]"
     ]
    },
    {
     "name": "stdout",
     "output_type": "stream",
     "text": [
      "only using 10 trials per trial type!!\n",
      "only using 10 trials per trial type!!\n",
      "only using 10 trials per trial type!!\n",
      "only using 10 trials per trial type!!\n",
      "only using 10 trials per trial type!!\n",
      "only using 10 trials per trial type!!\n",
      "only using 10 trials per trial type!!\n",
      "only using 10 trials per trial type!!\n",
      "only using 10 trials per trial type!!\n",
      "only using 10 trials per trial type!!\n",
      "only using 10 trials per trial type!!\n",
      "only using 10 trials per trial type!!\n",
      "only using 10 trials per trial type!!\n",
      "only using 10 trials per trial type!!\n",
      "only using 10 trials per trial type!!\n",
      "only using 10 trials per trial type!!\n",
      "only using 10 trials per trial type!!\n",
      "only using 10 trials per trial type!!\n",
      "only using 10 trials per trial type!!\n",
      "only using 10 trials per trial type!!\n"
     ]
    },
    {
     "name": "stderr",
     "output_type": "stream",
     "text": [
      "\r",
      "160it [14:10,  5.29s/it]"
     ]
    },
    {
     "name": "stdout",
     "output_type": "stream",
     "text": [
      "only using 10 trials per trial type!!\n",
      "only using 10 trials per trial type!!\n",
      "only using 10 trials per trial type!!\n",
      "only using 10 trials per trial type!!\n",
      "only using 10 trials per trial type!!\n",
      "only using 10 trials per trial type!!\n",
      "only using 10 trials per trial type!!\n",
      "only using 10 trials per trial type!!\n",
      "only using 10 trials per trial type!!\n",
      "only using 10 trials per trial type!!\n",
      "only using 10 trials per trial type!!\n",
      "only using 10 trials per trial type!!\n",
      "only using 10 trials per trial type!!\n",
      "only using 10 trials per trial type!!\n",
      "only using 10 trials per trial type!!\n",
      "only using 10 trials per trial type!!\n",
      "only using 10 trials per trial type!!\n",
      "only using 10 trials per trial type!!\n",
      "only using 10 trials per trial type!!\n",
      "only using 10 trials per trial type!!\n"
     ]
    },
    {
     "name": "stderr",
     "output_type": "stream",
     "text": [
      "\r",
      "161it [14:16,  5.28s/it]"
     ]
    },
    {
     "name": "stdout",
     "output_type": "stream",
     "text": [
      "only using 10 trials per trial type!!\n",
      "only using 10 trials per trial type!!\n",
      "only using 10 trials per trial type!!\n",
      "only using 10 trials per trial type!!\n",
      "only using 10 trials per trial type!!\n",
      "only using 10 trials per trial type!!\n",
      "only using 10 trials per trial type!!\n",
      "only using 10 trials per trial type!!\n",
      "only using 10 trials per trial type!!\n",
      "only using 10 trials per trial type!!\n",
      "only using 10 trials per trial type!!\n",
      "only using 10 trials per trial type!!\n",
      "only using 10 trials per trial type!!\n",
      "only using 10 trials per trial type!!\n",
      "only using 10 trials per trial type!!\n",
      "only using 10 trials per trial type!!\n",
      "only using 10 trials per trial type!!\n",
      "only using 10 trials per trial type!!\n",
      "only using 10 trials per trial type!!\n",
      "only using 10 trials per trial type!!\n"
     ]
    },
    {
     "name": "stderr",
     "output_type": "stream",
     "text": [
      "\r",
      "162it [14:21,  5.28s/it]"
     ]
    },
    {
     "name": "stdout",
     "output_type": "stream",
     "text": [
      "only using 10 trials per trial type!!\n",
      "only using 10 trials per trial type!!\n",
      "only using 10 trials per trial type!!\n",
      "only using 10 trials per trial type!!\n",
      "only using 10 trials per trial type!!\n",
      "only using 10 trials per trial type!!\n",
      "only using 10 trials per trial type!!\n",
      "only using 10 trials per trial type!!\n",
      "only using 10 trials per trial type!!\n",
      "only using 10 trials per trial type!!\n",
      "only using 10 trials per trial type!!\n",
      "only using 10 trials per trial type!!\n",
      "only using 10 trials per trial type!!\n",
      "only using 10 trials per trial type!!\n",
      "only using 10 trials per trial type!!\n",
      "only using 10 trials per trial type!!\n",
      "only using 10 trials per trial type!!\n",
      "only using 10 trials per trial type!!\n",
      "only using 10 trials per trial type!!\n",
      "only using 10 trials per trial type!!\n"
     ]
    },
    {
     "name": "stderr",
     "output_type": "stream",
     "text": [
      "\r",
      "163it [14:26,  5.33s/it]"
     ]
    },
    {
     "name": "stdout",
     "output_type": "stream",
     "text": [
      "only using 10 trials per trial type!!\n",
      "only using 10 trials per trial type!!\n",
      "only using 10 trials per trial type!!\n",
      "only using 10 trials per trial type!!\n",
      "only using 10 trials per trial type!!\n",
      "only using 10 trials per trial type!!\n",
      "only using 10 trials per trial type!!\n",
      "only using 10 trials per trial type!!\n",
      "only using 10 trials per trial type!!\n",
      "only using 10 trials per trial type!!\n",
      "only using 10 trials per trial type!!\n",
      "only using 10 trials per trial type!!\n",
      "only using 10 trials per trial type!!\n",
      "only using 10 trials per trial type!!\n",
      "only using 10 trials per trial type!!\n",
      "only using 10 trials per trial type!!\n",
      "only using 10 trials per trial type!!\n",
      "only using 10 trials per trial type!!\n",
      "only using 10 trials per trial type!!\n",
      "only using 10 trials per trial type!!\n"
     ]
    },
    {
     "name": "stderr",
     "output_type": "stream",
     "text": [
      "\r",
      "164it [14:32,  5.32s/it]"
     ]
    },
    {
     "name": "stdout",
     "output_type": "stream",
     "text": [
      "only using 10 trials per trial type!!\n",
      "only using 10 trials per trial type!!\n",
      "only using 10 trials per trial type!!\n",
      "only using 10 trials per trial type!!\n",
      "only using 10 trials per trial type!!\n",
      "only using 10 trials per trial type!!\n",
      "only using 10 trials per trial type!!\n",
      "only using 10 trials per trial type!!\n",
      "only using 10 trials per trial type!!\n",
      "only using 10 trials per trial type!!\n",
      "only using 10 trials per trial type!!\n",
      "only using 10 trials per trial type!!\n",
      "only using 10 trials per trial type!!\n",
      "only using 10 trials per trial type!!\n",
      "only using 10 trials per trial type!!\n",
      "only using 10 trials per trial type!!\n",
      "only using 10 trials per trial type!!\n",
      "only using 10 trials per trial type!!\n",
      "only using 10 trials per trial type!!\n",
      "only using 10 trials per trial type!!\n"
     ]
    },
    {
     "name": "stderr",
     "output_type": "stream",
     "text": [
      "\r",
      "165it [14:37,  5.30s/it]"
     ]
    },
    {
     "name": "stdout",
     "output_type": "stream",
     "text": [
      "only using 10 trials per trial type!!\n",
      "only using 10 trials per trial type!!\n",
      "only using 10 trials per trial type!!\n",
      "only using 10 trials per trial type!!\n",
      "only using 10 trials per trial type!!\n",
      "only using 10 trials per trial type!!\n",
      "only using 10 trials per trial type!!\n",
      "only using 10 trials per trial type!!\n",
      "only using 10 trials per trial type!!\n",
      "only using 10 trials per trial type!!\n",
      "only using 10 trials per trial type!!\n",
      "only using 10 trials per trial type!!\n",
      "only using 10 trials per trial type!!\n",
      "only using 10 trials per trial type!!\n",
      "only using 10 trials per trial type!!\n",
      "only using 10 trials per trial type!!\n",
      "only using 10 trials per trial type!!\n",
      "only using 10 trials per trial type!!\n",
      "only using 10 trials per trial type!!\n",
      "only using 10 trials per trial type!!\n"
     ]
    },
    {
     "name": "stderr",
     "output_type": "stream",
     "text": [
      "\r",
      "166it [14:42,  5.29s/it]"
     ]
    },
    {
     "name": "stdout",
     "output_type": "stream",
     "text": [
      "only using 10 trials per trial type!!\n",
      "only using 10 trials per trial type!!\n",
      "only using 10 trials per trial type!!\n",
      "only using 10 trials per trial type!!\n",
      "only using 10 trials per trial type!!\n",
      "only using 10 trials per trial type!!\n",
      "only using 10 trials per trial type!!\n",
      "only using 10 trials per trial type!!\n",
      "only using 10 trials per trial type!!\n",
      "only using 10 trials per trial type!!\n",
      "only using 10 trials per trial type!!\n",
      "only using 10 trials per trial type!!\n",
      "only using 10 trials per trial type!!\n",
      "only using 10 trials per trial type!!\n",
      "only using 10 trials per trial type!!\n",
      "only using 10 trials per trial type!!\n",
      "only using 10 trials per trial type!!\n",
      "only using 10 trials per trial type!!\n",
      "only using 10 trials per trial type!!\n",
      "only using 10 trials per trial type!!\n"
     ]
    },
    {
     "name": "stderr",
     "output_type": "stream",
     "text": [
      "\r",
      "167it [14:48,  5.28s/it]"
     ]
    },
    {
     "name": "stdout",
     "output_type": "stream",
     "text": [
      "only using 10 trials per trial type!!\n",
      "only using 10 trials per trial type!!\n",
      "only using 10 trials per trial type!!\n",
      "only using 10 trials per trial type!!\n",
      "only using 10 trials per trial type!!\n",
      "only using 10 trials per trial type!!\n",
      "only using 10 trials per trial type!!\n",
      "only using 10 trials per trial type!!\n",
      "only using 10 trials per trial type!!\n",
      "only using 10 trials per trial type!!\n",
      "only using 10 trials per trial type!!\n",
      "only using 10 trials per trial type!!\n",
      "only using 10 trials per trial type!!\n",
      "only using 10 trials per trial type!!\n",
      "only using 10 trials per trial type!!\n",
      "only using 10 trials per trial type!!\n",
      "only using 10 trials per trial type!!\n",
      "only using 10 trials per trial type!!\n",
      "only using 10 trials per trial type!!\n",
      "only using 10 trials per trial type!!\n"
     ]
    },
    {
     "name": "stderr",
     "output_type": "stream",
     "text": [
      "\r",
      "168it [14:53,  5.28s/it]"
     ]
    },
    {
     "name": "stdout",
     "output_type": "stream",
     "text": [
      "only using 10 trials per trial type!!\n",
      "only using 10 trials per trial type!!\n",
      "only using 10 trials per trial type!!\n",
      "only using 10 trials per trial type!!\n",
      "only using 10 trials per trial type!!\n",
      "only using 10 trials per trial type!!\n",
      "only using 10 trials per trial type!!\n",
      "only using 10 trials per trial type!!\n",
      "only using 10 trials per trial type!!\n",
      "only using 10 trials per trial type!!\n",
      "only using 10 trials per trial type!!\n",
      "only using 10 trials per trial type!!\n",
      "only using 10 trials per trial type!!\n",
      "only using 10 trials per trial type!!\n",
      "only using 10 trials per trial type!!\n",
      "only using 10 trials per trial type!!\n",
      "only using 10 trials per trial type!!\n",
      "only using 10 trials per trial type!!\n",
      "only using 10 trials per trial type!!\n",
      "only using 10 trials per trial type!!\n"
     ]
    },
    {
     "name": "stderr",
     "output_type": "stream",
     "text": [
      "\r",
      "169it [14:58,  5.31s/it]"
     ]
    },
    {
     "name": "stdout",
     "output_type": "stream",
     "text": [
      "only using 10 trials per trial type!!\n",
      "only using 10 trials per trial type!!\n",
      "only using 10 trials per trial type!!\n",
      "only using 10 trials per trial type!!\n",
      "only using 10 trials per trial type!!\n",
      "only using 10 trials per trial type!!\n",
      "only using 10 trials per trial type!!\n",
      "only using 10 trials per trial type!!\n",
      "only using 10 trials per trial type!!\n",
      "only using 10 trials per trial type!!\n",
      "only using 10 trials per trial type!!\n",
      "only using 10 trials per trial type!!\n",
      "only using 10 trials per trial type!!\n",
      "only using 10 trials per trial type!!\n",
      "only using 10 trials per trial type!!\n",
      "only using 10 trials per trial type!!\n",
      "only using 10 trials per trial type!!\n",
      "only using 10 trials per trial type!!\n",
      "only using 10 trials per trial type!!\n",
      "only using 10 trials per trial type!!\n"
     ]
    },
    {
     "name": "stderr",
     "output_type": "stream",
     "text": [
      "\r",
      "170it [15:04,  5.34s/it]"
     ]
    },
    {
     "name": "stdout",
     "output_type": "stream",
     "text": [
      "only using 10 trials per trial type!!\n",
      "only using 10 trials per trial type!!\n",
      "only using 10 trials per trial type!!\n",
      "only using 10 trials per trial type!!\n",
      "only using 10 trials per trial type!!\n",
      "only using 10 trials per trial type!!\n",
      "only using 10 trials per trial type!!\n",
      "only using 10 trials per trial type!!\n",
      "only using 10 trials per trial type!!\n",
      "only using 10 trials per trial type!!\n",
      "only using 10 trials per trial type!!\n",
      "only using 10 trials per trial type!!\n",
      "only using 10 trials per trial type!!\n",
      "only using 10 trials per trial type!!\n",
      "only using 10 trials per trial type!!\n",
      "only using 10 trials per trial type!!\n",
      "only using 10 trials per trial type!!\n",
      "only using 10 trials per trial type!!\n",
      "only using 10 trials per trial type!!\n",
      "only using 10 trials per trial type!!\n"
     ]
    },
    {
     "name": "stderr",
     "output_type": "stream",
     "text": [
      "\r",
      "171it [15:09,  5.36s/it]"
     ]
    },
    {
     "name": "stdout",
     "output_type": "stream",
     "text": [
      "only using 10 trials per trial type!!\n",
      "only using 10 trials per trial type!!\n",
      "only using 10 trials per trial type!!\n",
      "only using 10 trials per trial type!!\n",
      "only using 10 trials per trial type!!\n",
      "only using 10 trials per trial type!!\n",
      "only using 10 trials per trial type!!\n",
      "only using 10 trials per trial type!!\n",
      "only using 10 trials per trial type!!\n",
      "only using 10 trials per trial type!!\n",
      "only using 10 trials per trial type!!\n",
      "only using 10 trials per trial type!!\n",
      "only using 10 trials per trial type!!\n",
      "only using 10 trials per trial type!!\n",
      "only using 10 trials per trial type!!\n",
      "only using 10 trials per trial type!!\n",
      "only using 10 trials per trial type!!\n",
      "only using 10 trials per trial type!!\n",
      "only using 10 trials per trial type!!\n",
      "only using 10 trials per trial type!!\n"
     ]
    },
    {
     "name": "stderr",
     "output_type": "stream",
     "text": [
      "\r",
      "172it [15:14,  5.38s/it]"
     ]
    },
    {
     "name": "stdout",
     "output_type": "stream",
     "text": [
      "only using 10 trials per trial type!!\n",
      "only using 10 trials per trial type!!\n",
      "only using 10 trials per trial type!!\n",
      "only using 10 trials per trial type!!\n",
      "only using 10 trials per trial type!!\n",
      "only using 10 trials per trial type!!\n",
      "only using 10 trials per trial type!!\n",
      "only using 10 trials per trial type!!\n",
      "only using 10 trials per trial type!!\n",
      "only using 10 trials per trial type!!\n",
      "only using 10 trials per trial type!!\n",
      "only using 10 trials per trial type!!\n",
      "only using 10 trials per trial type!!\n",
      "only using 10 trials per trial type!!\n",
      "only using 10 trials per trial type!!\n",
      "only using 10 trials per trial type!!\n",
      "only using 10 trials per trial type!!\n",
      "only using 10 trials per trial type!!\n",
      "only using 10 trials per trial type!!\n",
      "only using 10 trials per trial type!!\n"
     ]
    },
    {
     "name": "stderr",
     "output_type": "stream",
     "text": [
      "\r",
      "173it [15:20,  5.39s/it]"
     ]
    },
    {
     "name": "stdout",
     "output_type": "stream",
     "text": [
      "only using 10 trials per trial type!!\n",
      "only using 10 trials per trial type!!\n",
      "only using 10 trials per trial type!!\n",
      "only using 10 trials per trial type!!\n",
      "only using 10 trials per trial type!!\n",
      "only using 10 trials per trial type!!\n",
      "only using 10 trials per trial type!!\n",
      "only using 10 trials per trial type!!\n",
      "only using 10 trials per trial type!!\n",
      "only using 10 trials per trial type!!\n",
      "only using 10 trials per trial type!!\n",
      "only using 10 trials per trial type!!\n",
      "only using 10 trials per trial type!!\n",
      "only using 10 trials per trial type!!\n",
      "only using 10 trials per trial type!!\n",
      "only using 10 trials per trial type!!\n",
      "only using 10 trials per trial type!!\n",
      "only using 10 trials per trial type!!\n",
      "only using 10 trials per trial type!!\n",
      "only using 10 trials per trial type!!\n"
     ]
    },
    {
     "name": "stderr",
     "output_type": "stream",
     "text": [
      "\r",
      "174it [15:25,  5.40s/it]"
     ]
    },
    {
     "name": "stdout",
     "output_type": "stream",
     "text": [
      "only using 10 trials per trial type!!\n",
      "only using 10 trials per trial type!!\n",
      "only using 10 trials per trial type!!\n",
      "only using 10 trials per trial type!!\n",
      "only using 10 trials per trial type!!\n",
      "only using 10 trials per trial type!!\n",
      "only using 10 trials per trial type!!\n",
      "only using 10 trials per trial type!!\n",
      "only using 10 trials per trial type!!\n",
      "only using 10 trials per trial type!!\n",
      "only using 10 trials per trial type!!\n",
      "only using 10 trials per trial type!!\n",
      "only using 10 trials per trial type!!\n",
      "only using 10 trials per trial type!!\n",
      "only using 10 trials per trial type!!\n",
      "only using 10 trials per trial type!!\n",
      "only using 10 trials per trial type!!\n",
      "only using 10 trials per trial type!!\n",
      "only using 10 trials per trial type!!\n",
      "only using 10 trials per trial type!!\n"
     ]
    },
    {
     "name": "stderr",
     "output_type": "stream",
     "text": [
      "\r",
      "175it [15:31,  5.41s/it]"
     ]
    },
    {
     "name": "stdout",
     "output_type": "stream",
     "text": [
      "only using 10 trials per trial type!!\n",
      "only using 10 trials per trial type!!\n",
      "only using 10 trials per trial type!!\n",
      "only using 10 trials per trial type!!\n",
      "only using 10 trials per trial type!!\n",
      "only using 10 trials per trial type!!\n",
      "only using 10 trials per trial type!!\n",
      "only using 10 trials per trial type!!\n",
      "only using 10 trials per trial type!!\n",
      "only using 10 trials per trial type!!\n",
      "only using 10 trials per trial type!!\n",
      "only using 10 trials per trial type!!\n",
      "only using 10 trials per trial type!!\n",
      "only using 10 trials per trial type!!\n",
      "only using 10 trials per trial type!!\n",
      "only using 10 trials per trial type!!\n",
      "only using 10 trials per trial type!!\n",
      "only using 10 trials per trial type!!\n",
      "only using 10 trials per trial type!!\n",
      "only using 10 trials per trial type!!\n"
     ]
    },
    {
     "name": "stderr",
     "output_type": "stream",
     "text": [
      "\r",
      "176it [15:36,  5.42s/it]"
     ]
    },
    {
     "name": "stdout",
     "output_type": "stream",
     "text": [
      "only using 10 trials per trial type!!\n",
      "only using 10 trials per trial type!!\n",
      "only using 10 trials per trial type!!\n",
      "only using 10 trials per trial type!!\n",
      "only using 10 trials per trial type!!\n",
      "only using 10 trials per trial type!!\n",
      "only using 10 trials per trial type!!\n",
      "only using 10 trials per trial type!!\n",
      "only using 10 trials per trial type!!\n",
      "only using 10 trials per trial type!!\n",
      "only using 10 trials per trial type!!\n",
      "only using 10 trials per trial type!!\n",
      "only using 10 trials per trial type!!\n",
      "only using 10 trials per trial type!!\n",
      "only using 10 trials per trial type!!\n",
      "only using 10 trials per trial type!!\n",
      "only using 10 trials per trial type!!\n",
      "only using 10 trials per trial type!!\n",
      "only using 10 trials per trial type!!\n",
      "only using 10 trials per trial type!!\n"
     ]
    },
    {
     "name": "stderr",
     "output_type": "stream",
     "text": [
      "\r",
      "177it [15:42,  5.42s/it]"
     ]
    },
    {
     "name": "stdout",
     "output_type": "stream",
     "text": [
      "only using 10 trials per trial type!!\n",
      "only using 10 trials per trial type!!\n",
      "only using 10 trials per trial type!!\n",
      "only using 10 trials per trial type!!\n",
      "only using 10 trials per trial type!!\n",
      "only using 10 trials per trial type!!\n",
      "only using 10 trials per trial type!!\n",
      "only using 10 trials per trial type!!\n",
      "only using 10 trials per trial type!!\n",
      "only using 10 trials per trial type!!\n",
      "only using 10 trials per trial type!!\n",
      "only using 10 trials per trial type!!\n",
      "only using 10 trials per trial type!!\n",
      "only using 10 trials per trial type!!\n",
      "only using 10 trials per trial type!!\n",
      "only using 10 trials per trial type!!\n",
      "only using 10 trials per trial type!!\n",
      "only using 10 trials per trial type!!\n",
      "only using 10 trials per trial type!!\n",
      "only using 10 trials per trial type!!\n"
     ]
    },
    {
     "name": "stderr",
     "output_type": "stream",
     "text": [
      "\r",
      "178it [15:47,  5.43s/it]"
     ]
    },
    {
     "name": "stdout",
     "output_type": "stream",
     "text": [
      "only using 10 trials per trial type!!\n",
      "only using 10 trials per trial type!!\n",
      "only using 10 trials per trial type!!\n",
      "only using 10 trials per trial type!!\n",
      "only using 10 trials per trial type!!\n",
      "only using 10 trials per trial type!!\n",
      "only using 10 trials per trial type!!\n",
      "only using 10 trials per trial type!!\n",
      "only using 10 trials per trial type!!\n",
      "only using 10 trials per trial type!!\n",
      "only using 10 trials per trial type!!\n",
      "only using 10 trials per trial type!!\n",
      "only using 10 trials per trial type!!\n",
      "only using 10 trials per trial type!!\n",
      "only using 10 trials per trial type!!\n",
      "only using 10 trials per trial type!!\n",
      "only using 10 trials per trial type!!\n",
      "only using 10 trials per trial type!!\n",
      "only using 10 trials per trial type!!\n",
      "only using 10 trials per trial type!!\n"
     ]
    },
    {
     "name": "stderr",
     "output_type": "stream",
     "text": [
      "\r",
      "179it [15:52,  5.40s/it]"
     ]
    },
    {
     "name": "stdout",
     "output_type": "stream",
     "text": [
      "only using 10 trials per trial type!!\n",
      "only using 10 trials per trial type!!\n",
      "only using 10 trials per trial type!!\n",
      "only using 10 trials per trial type!!\n",
      "only using 10 trials per trial type!!\n",
      "only using 10 trials per trial type!!\n",
      "only using 10 trials per trial type!!\n",
      "only using 10 trials per trial type!!\n",
      "only using 10 trials per trial type!!\n",
      "only using 10 trials per trial type!!\n",
      "only using 10 trials per trial type!!\n",
      "only using 10 trials per trial type!!\n",
      "only using 10 trials per trial type!!\n",
      "only using 10 trials per trial type!!\n",
      "only using 10 trials per trial type!!\n",
      "only using 10 trials per trial type!!\n",
      "only using 10 trials per trial type!!\n",
      "only using 10 trials per trial type!!\n",
      "only using 10 trials per trial type!!\n",
      "only using 10 trials per trial type!!\n"
     ]
    },
    {
     "name": "stderr",
     "output_type": "stream",
     "text": [
      "180it [15:58,  5.32s/it]\n"
     ]
    }
   ],
   "source": [
    "## Compute results decoders (note: CV of regularisation is down below in the notebook)\n",
    "\n",
    "for key, list_tt_train in dict_tt_train.items():\n",
    "    if key == 'hit/cr 10 trials':\n",
    "        print(f'Now training {key} decoder')\n",
    "\n",
    "        (lick_acc[key], lick_acc_split[key], lick_pred_split[key], ps_acc[key], \n",
    "         ps_acc_split[key], ps_pred_split[key], lick_half[key], angle_dec[key], \n",
    "         decoder_weights[key]) = pof.compute_accuracy_time_array_average_per_mouse(sessions=sessions, \n",
    "                                                       time_array=tp_dict['decoders'],\n",
    "                                                      projected_data=False, \n",
    "                                                      reg_type='l2', regularizer=1, \n",
    "                                                      average_fun=pof.class_av_mean_accuracy,\n",
    "                                                      split_fourway=True,\n",
    "                                                        list_tt_training=list_tt_train,\n",
    "                                                          concatenate_sessions_per_mouse=False)"
   ]
  },
  {
   "cell_type": "code",
   "execution_count": 209,
   "id": "solid-invite",
   "metadata": {},
   "outputs": [
    {
     "data": {
      "image/png": "[encoded data removed]",
      "text/plain": [
       "<Figure size 576x360 with 4 Axes>"
      ]
     },
     "metadata": {},
     "output_type": "display_data"
    }
   ],
   "source": [
    "save_fig = True\n",
    "\n",
    "fig = plt.figure(constrained_layout=False, figsize=(8, 5))\n",
    "gs_dyn_dec = fig.add_gridspec(ncols=2, nrows=2, bottom=0.12, top=0.9, right=0.97, left=0.1,\n",
    "                              wspace=0.4, hspace=0.7)\n",
    "hit_ax_dict = {'s1': fig.add_subplot(gs_dyn_dec[0, 0]), 's2': fig.add_subplot(gs_dyn_dec[1, 0])}\n",
    "miss_ax_dict = {'s1': fig.add_subplot(gs_dyn_dec[0, 1]), 's2': fig.add_subplot(gs_dyn_dec[1, 1])}\n",
    "# hit_ax_dict = {'s1': fig.add_subplot(gs_dyn_dec[0]), 's2': fig.add_subplot(gs_dyn_dec[2])}\n",
    "# miss_ax_dict = {'s1': fig.add_subplot(gs_dyn_dec[1]), 's2': fig.add_subplot(gs_dyn_dec[3])}\n",
    "\n",
    "time_array_plot = tp_dict['decoders']\n",
    "time_array_plot[np.logical_and(time_array_plot >= -0.07, time_array_plot < 0.3)] = np.nan\n",
    "# time_array_plot[time_array_plot < -1] = np.nan\n",
    "\n",
    "pop.plot_dynamic_decoding_two_regions_wrapper(ps_pred_split=ps_pred_split, lick_pred_split=lick_pred_split,\n",
    "                                              decoder_key='hit/cr', ax_acc_ps=hit_ax_dict, \n",
    "                                              plot_tt=['hit', 'cr', 'spont'], plot_legend=False,\n",
    "                                              time_array=time_array_plot)\n",
    "\n",
    "pop.plot_dynamic_decoding_two_regions_wrapper(ps_pred_split=ps_pred_split, lick_pred_split=lick_pred_split,\n",
    "                                              decoder_key='miss/cr', ax_acc_ps=miss_ax_dict, \n",
    "                                              plot_tt=['miss', 'cr'], plot_legend=False,\n",
    "                                              time_array=time_array_plot)\n",
    "\n",
    "for reg in ['s1' ,'s2']:\n",
    "    hit_ax_dict[reg].set_title(f'Dynamic stimulus encoding in {reg.upper()}', \n",
    "                               x=1.25, y=1.14, fontdict={'weight': 'bold'})    \n",
    "    miss_ax_dict[reg].set_title('')\n",
    "    hit_ax_dict[reg].text(s=('A' if reg == 's1' else 'B'), x=-4.75, y=1.19,\n",
    "                          fontdict={'weight': 'bold'})\n",
    "    \n",
    "if save_fig:        \n",
    "    plt.savefig('/home/tplas/repos/popping-off/figures/full_figs_manuscript/fig3_main.pdf',\n",
    "                bbox_to_inches='tight')"
   ]
  },
  {
   "cell_type": "code",
   "execution_count": 223,
   "id": "beneficial-apparel",
   "metadata": {},
   "outputs": [
    {
     "data": {
      "image/png": "[encoded data removed]",
      "text/plain": [
       "<Figure size 864x432 with 6 Axes>"
      ]
     },
     "metadata": {},
     "output_type": "display_data"
    }
   ],
   "source": [
    "save_fig = True\n",
    "\n",
    "fig = plt.figure(constrained_layout=False, figsize=(12, 6))\n",
    "gs_dyn_dec = fig.add_gridspec(ncols=3, nrows=2, bottom=0.1, top=0.93, right=0.97, left=0.07,\n",
    "                              wspace=0.4, hspace=0.7)\n",
    "\n",
    "hit_ax_dict = {'s1': fig.add_subplot(gs_dyn_dec[0, 0]), 's2': fig.add_subplot(gs_dyn_dec[1, 0])}\n",
    "miss_ax_dict = {'s1': fig.add_subplot(gs_dyn_dec[0, 1]), 's2': fig.add_subplot(gs_dyn_dec[1, 1])}\n",
    "spont_ax_dict = {'s1': fig.add_subplot(gs_dyn_dec[0, 2]), 's2': fig.add_subplot(gs_dyn_dec[1, 2])}\n",
    "\n",
    "\n",
    "time_array_plot = tp_dict['decoders']\n",
    "time_array_plot[np.logical_and(time_array_plot >= -0.07, time_array_plot < 0.3)] = np.nan\n",
    "\n",
    "pop.plot_dynamic_decoding_two_regions_wrapper(ps_pred_split=ps_pred_split, lick_pred_split=lick_pred_split,\n",
    "                                              decoder_key='hit/cr', ax_acc_ps=hit_ax_dict, \n",
    "                                              time_array=time_array_plot, plot_legend=False,\n",
    "                                              indicate_fp=True)\n",
    "\n",
    "pop.plot_dynamic_decoding_two_regions_wrapper(ps_pred_split=ps_pred_split, lick_pred_split=lick_pred_split,\n",
    "                                              decoder_key='miss/cr', ax_acc_ps=miss_ax_dict, \n",
    "                                              time_array=time_array_plot, plot_legend=False)\n",
    "\n",
    "\n",
    "pop.plot_dynamic_decoding_two_regions_wrapper(ps_pred_split=ps_pred_split, lick_pred_split=lick_pred_split,\n",
    "                                              decoder_key='spont/cr', ax_acc_ps=spont_ax_dict, \n",
    "                                              time_array=time_array_plot, plot_legend=False)\n",
    "\n",
    "for reg in ['s1', 's2']:\n",
    "    hit_ax_dict[reg].text(s=('A' if reg == 's1' else 'B'), x=-4.5, y=1.1,\n",
    "                          fontdict={'weight': 'bold'})\n",
    "    miss_ax_dict[reg].text(s=('C' if reg == 's1' else 'D'), x=-4.5, y=1.1,\n",
    "                          fontdict={'weight': 'bold'})\n",
    "    spont_ax_dict[reg].text(s=('E' if reg == 's1' else 'F'), x=-4.5, y=1.1,\n",
    "                          fontdict={'weight': 'bold'})\n",
    "    \n",
    "if save_fig:\n",
    "    plt.savefig('/home/tplas/repos/popping-off/figures/full_figs_manuscript/fig3_supp1.pdf',\n",
    "                bbox_to_inches='tight')\n",
    "    "
   ]
  },
  {
   "cell_type": "code",
   "execution_count": 226,
   "id": "future-infection",
   "metadata": {},
   "outputs": [
    {
     "data": {
      "image/png": "[encoded data removed]",
      "text/plain": [
       "<Figure size 1152x432 with 8 Axes>"
      ]
     },
     "metadata": {},
     "output_type": "display_data"
    }
   ],
   "source": [
    "save_fig = True\n",
    "\n",
    "fig = plt.figure(constrained_layout=False, figsize=(16, 6))\n",
    "gs_dyn_dec = fig.add_gridspec(ncols=4, nrows=2, bottom=0.1, top=0.93, right=0.97, left=0.07,\n",
    "                              wspace=0.4, hspace=0.7)\n",
    "\n",
    "hit_ax_dict = {'s1': fig.add_subplot(gs_dyn_dec[0, 0]), 's2': fig.add_subplot(gs_dyn_dec[1, 0])}\n",
    "miss_ax_dict = {'s1': fig.add_subplot(gs_dyn_dec[0, 1]), 's2': fig.add_subplot(gs_dyn_dec[1, 1])}\n",
    "spont_ax_dict = {'s1': fig.add_subplot(gs_dyn_dec[0, 2]), 's2': fig.add_subplot(gs_dyn_dec[1, 2])}\n",
    "hit10_ax_dict = {'s1': fig.add_subplot(gs_dyn_dec[0, 3]), 's2': fig.add_subplot(gs_dyn_dec[1, 3])}\n",
    "\n",
    "\n",
    "time_array_plot = tp_dict['decoders']\n",
    "time_array_plot[np.logical_and(time_array_plot >= -0.07, time_array_plot < 0.3)] = np.nan\n",
    "\n",
    "pop.plot_dynamic_decoding_two_regions_wrapper(ps_pred_split=ps_pred_split, lick_pred_split=lick_pred_split,\n",
    "                                              decoder_key='hit/cr', ax_acc_ps=hit_ax_dict, \n",
    "                                              time_array=time_array_plot, plot_legend=False,\n",
    "                                              indicate_fp=True)\n",
    "\n",
    "pop.plot_dynamic_decoding_two_regions_wrapper(ps_pred_split=ps_pred_split, lick_pred_split=lick_pred_split,\n",
    "                                              decoder_key='miss/cr', ax_acc_ps=miss_ax_dict, \n",
    "                                              time_array=time_array_plot, plot_legend=False)\n",
    "\n",
    "pop.plot_dynamic_decoding_two_regions_wrapper(ps_pred_split=ps_pred_split, lick_pred_split=lick_pred_split,\n",
    "                                              decoder_key='spont/cr', ax_acc_ps=spont_ax_dict, \n",
    "                                              time_array=time_array_plot, plot_legend=False)\n",
    "\n",
    "pop.plot_dynamic_decoding_two_regions_wrapper(ps_pred_split=ps_pred_split, lick_pred_split=lick_pred_split,\n",
    "                                              decoder_key='hit/cr 10 trials', ax_acc_ps=hit10_ax_dict, \n",
    "                                              time_array=time_array_plot, plot_legend=False)\n",
    "\n",
    "for reg in ['s1', 's2']:\n",
    "    hit_ax_dict[reg].text(s=('A' if reg == 's1' else 'B'), x=-4.5, y=1.1,\n",
    "                          fontdict={'weight': 'bold'})\n",
    "    miss_ax_dict[reg].text(s=('C' if reg == 's1' else 'D'), x=-4.5, y=1.1,\n",
    "                          fontdict={'weight': 'bold'})\n",
    "    spont_ax_dict[reg].text(s=('E' if reg == 's1' else 'F'), x=-4.5, y=1.1,\n",
    "                          fontdict={'weight': 'bold'})\n",
    "    hit10_ax_dict[reg].text(s=('G' if reg == 's1' else 'H'), x=-4.8, y=1.1,\n",
    "                          fontdict={'weight': 'bold'})\n",
    "    \n",
    "if save_fig:\n",
    "    plt.savefig('/home/tplas/repos/popping-off/figures/full_figs_manuscript/fig3_supp1_v2.pdf',\n",
    "                bbox_to_inches='tight')\n",
    "    "
   ]
  },
  {
   "cell_type": "code",
   "execution_count": 218,
   "id": "developed-clark",
   "metadata": {},
   "outputs": [
    {
     "data": {
      "text/plain": [
       "dict_keys(['hit/cr', 'miss/cr', 'spont/cr', 'hit/cr 10 trials'])"
      ]
     },
     "execution_count": 218,
     "metadata": {},
     "output_type": "execute_result"
    }
   ],
   "source": [
    "ps_pred_split.keys()"
   ]
  },
  {
   "cell_type": "code",
   "execution_count": null,
   "id": "irish-speed",
   "metadata": {},
   "outputs": [],
   "source": []
  }
 ],
 "metadata": {
  "kernelspec": {
   "display_name": "Python 3",
   "language": "python",
   "name": "python3"
  },
  "language_info": {
   "codemirror_mode": {
    "name": "ipython",
    "version": 3
   },
   "file_extension": ".py",
   "mimetype": "text/x-python",
   "name": "python",
   "nbconvert_exporter": "python",
   "pygments_lexer": "ipython3",
   "version": "3.7.10"
  }
 },
 "nbformat": 4,
 "nbformat_minor": 5
}
