{
 "cells": [
  {
   "cell_type": "code",
   "execution_count": 1,
   "metadata": {},
   "outputs": [],
   "source": [
    "%load_ext autoreload\n",
    "%autoreload 2"
   ]
  },
  {
   "cell_type": "code",
   "execution_count": 2,
   "metadata": {},
   "outputs": [
    {
     "name": "stdout",
     "output_type": "stream",
     "text": [
      "/home/tplas/repos/popping-off/popoff/popoff/loadpaths.py\n",
      "/home/tplas/repos/Vape\n",
      "long post time\n",
      "long post time\n",
      "long post time\n",
      "long post time\n",
      "long post time\n",
      "Mouse RL070, run 29  registered no-lick hit. changed to too soon\n",
      "long post time\n",
      "long post time\n",
      "Mouse RL117, run 29  registered no-lick hit. changed to too soon\n",
      "Mouse RL117, run 29  registered no-lick hit. changed to too soon\n",
      "long post time\n",
      "long post time\n",
      "long post time\n",
      "Mouse RL116, run 32  registered no-lick hit. changed to too soon\n",
      "Mouse RL116, run 32  registered no-lick hit. changed to too soon\n",
      "Mouse RL116, run 32  registered no-lick hit. changed to too soon\n",
      "long post time\n",
      "ALERT SESSIONS NOT SUBSAMPLED\n",
      "long post time\n",
      "long post time\n",
      "long post time\n",
      "long post time\n",
      "long post time\n",
      "long post time\n",
      "long post time\n",
      "long post time\n",
      "long post time\n",
      "long post time\n",
      "long post time\n"
     ]
    },
    {
     "data": {
      "text/plain": [
       "{0: instance Mouse J064, run 10 of Session class,\n",
       " 1: instance Mouse J064, run 11 of Session class,\n",
       " 2: instance Mouse J064, run 14 of Session class,\n",
       " 3: instance Mouse RL070, run 28 of Session class,\n",
       " 4: instance Mouse RL070, run 29 of Session class,\n",
       " 5: instance Mouse RL117, run 26 of Session class,\n",
       " 6: instance Mouse RL117, run 29 of Session class,\n",
       " 7: instance Mouse RL117, run 30 of Session class,\n",
       " 8: instance Mouse RL123, run 22 of Session class,\n",
       " 9: instance Mouse RL116, run 32 of Session class,\n",
       " 10: instance Mouse RL116, run 33 of Session class}"
      ]
     },
     "execution_count": 2,
     "metadata": {},
     "output_type": "execute_result"
    }
   ],
   "source": [
    "import popoff\n",
    "from Session import SessionLite, build_flu_array_single\n",
    "from mpl_toolkits.mplot3d import Axes3D\n",
    "from linear_model import PoolAcrossSessions, LinearModel, pca_session, LabelEncoder, largest_PC_trace, largest_PC_loading, do_pca\n",
    "import loadpaths\n",
    "import matplotlib.pyplot as plt\n",
    "import numpy as np\n",
    "import seaborn as sns\n",
    "import sys, os, pickle, copy\n",
    "from sklearn.decomposition import PCA\n",
    "import warnings\n",
    "import pandas as pd\n",
    "import math, cmath\n",
    "from tqdm import tqdm\n",
    "import pop_off_functions as pof\n",
    "import pop_off_plotting as pop\n",
    "from IPython.core.debugger import Pdb\n",
    "ipdb = Pdb()\n",
    "import ptitprince as pt\n",
    "import copy\n",
    "from datetime import datetime\n",
    "import scipy.stats\n",
    "\n",
    "## Load data in form of Jimmy's PAS object\n",
    "warnings.warn('Targets in data, fix self.ever_targetted')\n",
    "remove_targets = False\n",
    "pas = PoolAcrossSessions(save_PCA=False, subsample_sessions=False,\n",
    "                         remove_targets=remove_targets, remove_toosoon=True)\n",
    "lm = pas.linear_models[0]\n",
    "pas.sessions"
   ]
  },
  {
   "cell_type": "code",
   "execution_count": 3,
   "metadata": {},
   "outputs": [
    {
     "name": "stdout",
     "output_type": "stream",
     "text": [
      "dict_keys([0, 1, 2, 3, 4, 5, 6, 7, 8, 9, 10])\n",
      "{0: instance Mouse J064, run 10 of Session class, 1: instance Mouse J064, run 11 of Session class, 2: instance Mouse J064, run 14 of Session class, 3: instance Mouse RL070, run 28 of Session class, 4: instance Mouse RL070, run 29 of Session class, 5: instance Mouse RL117, run 26 of Session class, 6: instance Mouse RL117, run 29 of Session class, 7: instance Mouse RL117, run 30 of Session class, 8: instance Mouse RL123, run 22 of Session class, 9: instance Mouse RL116, run 32 of Session class, 10: instance Mouse RL116, run 33 of Session class}\n",
      "URH and ARM trials have been labelled\n",
      "------------------------------------\n",
      "11 sessions are loaded\n"
     ]
    }
   ],
   "source": [
    "## Create sessions object from PAS:\n",
    "\n",
    "try:  # ensure sessions doesn't exist yet \n",
    "    sessions\n",
    "    assert type(sessions) is dict\n",
    "except NameError:\n",
    "    pass\n",
    "\n",
    "sessions = {}\n",
    "int_keys_pas_sessions = pas.sessions.keys()\n",
    "print(int_keys_pas_sessions)\n",
    "i_s = 0\n",
    "for ses in pas.sessions.values():  # load into sessions dict (in case pas skips an int as key)\n",
    "    ses.signature = f'{ses.mouse}_R{ses.run_number}'\n",
    "    sessions[i_s] = ses\n",
    "    i_s += 1\n",
    "#     if ses.signature != 'RL117_R29':  # one that used not to have spont data\n",
    "#         sessions[i_s] = ses\n",
    "#         i_s += 1\n",
    "#     else:\n",
    "#         f'{ses.signature} has been excluded !!! (because no spont data available)'\n",
    "print(sessions)\n",
    "assert len(sessions) == 11\n",
    "pof.label_urh_arm(sessions=sessions)  # label arm and urh\n",
    "\n",
    "# for kk, ss in sessions.items():\n",
    "    \n",
    "    \n",
    "print('------------------------------------')\n",
    "print(f'{len(sessions)} sessions are loaded')\n",
    "tp_dict = pof.create_tp_dict(sessions=sessions)\n"
   ]
  },
  {
   "cell_type": "code",
   "execution_count": 4,
   "id": "082b19cd",
   "metadata": {},
   "outputs": [],
   "source": [
    "assert hasattr(sessions[0], 'first_lick_spont')"
   ]
  },
  {
   "cell_type": "code",
   "execution_count": null,
   "metadata": {},
   "outputs": [],
   "source": [
    "## Add VCR measurements to session objects\n",
    "## (6 mins on PS2)\n",
    "pof.add_vcr_to_lm(lm_list=pas.linear_models)"
   ]
  },
  {
   "cell_type": "markdown",
   "metadata": {},
   "source": [
    "# Train decoders (or, alternatively, load previously trained decoders in the bottom of notebook):\n",
    "(But there is also a separate python file to do this: /scripts/train_dyn_dec_regularisation.py)"
   ]
  },
  {
   "cell_type": "markdown",
   "metadata": {},
   "source": [
    "## Define time dict:"
   ]
  },
  {
   "cell_type": "code",
   "execution_count": 65,
   "metadata": {},
   "outputs": [],
   "source": [
    "tp_dict['decoders'] = tp_dict['mutual']\n",
    "tp_dict['decoders'] = tp_dict['decoders'][np.logical_and(tp_dict['decoders'] >- 2, \n",
    "                                                         tp_dict['decoders'] <= 4)]\n",
    "tp_dict['decoders'] = tp_dict['decoders']#[::4]\n",
    "\n",
    "pre_stim_art_time = -0.07\n",
    "post_stim_art_time = 0.35\n",
    "time_array_plot = copy.deepcopy(tp_dict['decoders'])\n",
    "time_array_full = copy.deepcopy(tp_dict['decoders'])\n",
    "time_array_plot[np.logical_and(time_array_plot >= pre_stim_art_time, \n",
    "                               time_array_plot < post_stim_art_time)] = np.nan\n",
    "time_array_full -= pre_stim_art_time\n",
    "time_array_plot -= pre_stim_art_time\n",
    "time_array_plot_original = copy.deepcopy(time_array_plot)\n",
    "\n",
    "dict_tt_train = {'hit/cr': ['hit', 'cr'],\n",
    "                 #'hit/miss': ['hit', 'miss'],\n",
    "                 'miss/cr': ['miss', 'cr']}\n",
    "#                  'spont/cr': ['spont', 'cr'],\n",
    "                #  'hit/cr 10 trials': ['hit', 'cr']}  # to run 10 trials; set hard_set_10_trials to True\n",
    "\n",
    "## Uncomment these lines to run, (this resets the decoder results)\n",
    "lick_acc, lick_acc_split, lick_pred_split, ps_acc, ps_acc_split = {}, {}, {}, {}, {}\n",
    "ps_pred_split, lick_half, angle_dec, decoder_weights = {}, {}, {}, {}\n",
    "\n",
    "# lick_pred_split_tt, lick_pred_split_tt_nstim, lick_pred_split_tt_covar = {}, {} ,{}\n",
    "# ps_pred_split_tt, ps_pred_split_tt_nstim, ps_pred_split_tt_covar = {}, {}, {}"
   ]
  },
  {
   "cell_type": "code",
   "execution_count": 6,
   "id": "80a37c9a",
   "metadata": {},
   "outputs": [],
   "source": [
    "# ## tmp  # plot distr of lick times\n",
    "\n",
    "# all_spont_lick_times = np.array([])\n",
    "# for ss in sessions.values():\n",
    "#     all_spont_lick_times = np.concatenate((all_spont_lick_times, ss.first_lick_spont))\n",
    "# assert len(all_spont_lick_times) == (len(sessions) * 10)\n",
    "\n",
    "# plt.hist(all_spont_lick_times, bins=np.linspace(0, 2000, 40))"
   ]
  },
  {
   "cell_type": "markdown",
   "metadata": {},
   "source": [
    "## Train decoders (takes 15 mins per decoder type)"
   ]
  },
  {
   "cell_type": "code",
   "execution_count": null,
   "metadata": {
    "scrolled": false
   },
   "outputs": [],
   "source": [
    "## Compute results decoders (note: CV of regularisation is down below in the notebook)\n",
    "\n",
    "for key, list_tt_train in dict_tt_train.items():\n",
    "    print(f'Now training {key} decoder')\n",
    "\n",
    "    (lick_acc[key], lick_acc_split[key], lick_pred_split[key], ps_acc[key], \n",
    "     ps_acc_split[key], ps_pred_split[key], lick_half[key], angle_dec[key], \n",
    "     decoder_weights[key]) = pof.compute_accuracy_time_array_average_per_mouse(sessions=sessions, \n",
    "                                                  time_array=tp_dict['decoders'],\n",
    "                                                  projected_data=False, \n",
    "                                                  reg_type='l2', regularizer=1, \n",
    "                                                  average_fun=pof.class_av_mean_accuracy,\n",
    "                                                  split_fourway=True,\n",
    "                                                  list_tt_training=list_tt_train,\n",
    "                                                  concatenate_sessions_per_mouse=False,\n",
    "                                                  hard_set_10_trials=(True if key == 'hit/cr 10 trials' else False))\n",
    "    \n",
    "    \n",
    "    # (lick_pred_split_tt[key], lick_pred_split_tt_nstim[key], \n",
    "    #  lick_pred_split_tt_covar[key], ps_pred_split_tt[key], \n",
    "    #  ps_pred_split_tt_nstim[key], \n",
    "    #  ps_pred_split_tt_covar[key]) = pof.compute_prediction_time_array_average_per_mouse_split(sessions=sessions, \n",
    "    #                                               time_array=tp_dict['decoders'],\n",
    "    #                                               projected_data=False, \n",
    "    #                                               reg_type='l2', regularizer=1, \n",
    "    #                                               average_fun=pof.class_av_mean_accuracy,\n",
    "    #                                               list_tt_training=list_tt_train,\n",
    "    #                                               concatenate_sessions_per_mouse=False,\n",
    "    #                                               hard_set_10_trials=(True if key == 'hit/cr 10 trials' else False),\n",
    "    #                                               list_save_covs=['variance_cell_rates_s1'])"
   ]
  },
  {
   "cell_type": "markdown",
   "metadata": {},
   "source": [
    "# Plot figures:"
   ]
  },
  {
   "cell_type": "markdown",
   "metadata": {},
   "source": [
    "## Main fig + stats:"
   ]
  },
  {
   "cell_type": "code",
   "execution_count": null,
   "metadata": {
    "scrolled": false
   },
   "outputs": [],
   "source": [
    "save_fig = False\n",
    "\n",
    "fig = plt.figure(constrained_layout=False, figsize=(8, 6.5))\n",
    "gs_dyn_dec = fig.add_gridspec(ncols=2, nrows=2, bottom=0.1, top=0.87, right=0.97, left=0.1,\n",
    "                              wspace=0.4, hspace=1)\n",
    "hit_ax_dict = {'s1': fig.add_subplot(gs_dyn_dec[0, 0]), 's2': fig.add_subplot(gs_dyn_dec[1, 0])}\n",
    "miss_ax_dict = {'s1': fig.add_subplot(gs_dyn_dec[0, 1]), 's2': fig.add_subplot(gs_dyn_dec[1, 1])}\n",
    "\n",
    "reg_key = 1000\n",
    "# tmp_ps_dict = all_ps_pred_split_tt[reg_key]\n",
    "# tmp_lick_dict = all_lick_pred_split_tt[reg_key]\n",
    "tmp_ps_dict = ps_pred_split\n",
    "tmp_lick_dict = lick_pred_split\n",
    "\n",
    "pop.plot_dynamic_decoding_two_regions_wrapper(ps_pred_split=tmp_ps_dict, lick_pred_split=tmp_lick_dict,\n",
    "                                              decoder_key='hit/cr', ax_acc_ps=hit_ax_dict, \n",
    "                                              plot_tt=['hit', 'cr', 'spont'], plot_legend=False,\n",
    "                                              time_array=time_array_plot, indicate_spont=True)\n",
    "\n",
    "pop.plot_dynamic_decoding_two_regions_wrapper(ps_pred_split=tmp_ps_dict, lick_pred_split=tmp_lick_dict,\n",
    "                                              decoder_key='miss/cr', ax_acc_ps=miss_ax_dict, \n",
    "                                              plot_tt=['miss', 'cr'], plot_legend=False,\n",
    "                                              time_array=time_array_plot)\n",
    "\n",
    "for reg in ['s1' ,'s2']:\n",
    "#     if reg == 's1':\n",
    "    hit_ax_dict[reg].set_title(f'Dynamic stimulus encoding in {reg.upper()}', \n",
    "                               x=1.25, y=1.35, fontdict={'weight': 'bold'})    \n",
    "#     hit_ax_dict[reg].set_title('')\n",
    "    miss_ax_dict[reg].set_title('')\n",
    "    hit_ax_dict[reg].text(s=('a' if reg == 's1' else 'b'), x=-4.48, y=1.19,\n",
    "                          fontdict={'weight': 'bold', 'size': 18})\n",
    "    miss_ax_dict[reg].text(s=('c' if reg == 's1' else 'd'), x=-4.48, y=1.19,\n",
    "                          fontdict={'weight': 'bold', 'size': 18})\n",
    "    \n",
    "if save_fig:        \n",
    "    plt.savefig('/home/tplas/repos/popping-off/figures/full_figs_manuscript/Figure3.pdf',\n",
    "                bbox_to_inches='tight')"
   ]
  },
  {
   "cell_type": "code",
   "execution_count": null,
   "metadata": {},
   "outputs": [],
   "source": [
    "save_fig = False\n",
    "\n",
    "fig = plt.figure(constrained_layout=False, figsize=(8, 10))\n",
    "\n",
    "pop.dyn_dec_sketch(session=pas.linear_models[0].session, fig=fig)\n",
    "\n",
    "gs_dyn_dec = fig.add_gridspec(ncols=2, nrows=2, bottom=0.07, top=0.55, right=0.97, left=0.1,\n",
    "                              wspace=0.4, hspace=1)\n",
    "hit_ax_dict = {'s1': fig.add_subplot(gs_dyn_dec[0, 0]), 's2': fig.add_subplot(gs_dyn_dec[1, 0])}\n",
    "miss_ax_dict = {'s1': fig.add_subplot(gs_dyn_dec[0, 1]), 's2': fig.add_subplot(gs_dyn_dec[1, 1])}\n",
    "\n",
    "reg_key = 1000\n",
    "tmp_ps_dict = all_ps_pred_split_tt[reg_key]\n",
    "tmp_lick_dict = all_lick_pred_split_tt[reg_key]\n",
    "\n",
    "pop.plot_dynamic_decoding_two_regions_wrapper(ps_pred_split=tmp_ps_dict, lick_pred_split=tmp_lick_dict,\n",
    "                                              decoder_key='hit/cr', ax_acc_ps=hit_ax_dict, \n",
    "                                              plot_tt=['hit', 'cr', 'spont'], plot_legend=False,\n",
    "                                              time_array=time_array_plot, indicate_spont=True)\n",
    "\n",
    "pop.plot_dynamic_decoding_two_regions_wrapper(ps_pred_split=tmp_ps_dict, lick_pred_split=tmp_lick_dict,\n",
    "                                              decoder_key='miss/cr', ax_acc_ps=miss_ax_dict, \n",
    "                                              plot_tt=['miss', 'cr'], plot_legend=False,\n",
    "                                              time_array=time_array_plot)\n",
    "\n",
    "for reg in ['s1' ,'s2']:\n",
    "#     if reg == 's1':\n",
    "    hit_ax_dict[reg].set_title(f'Dynamic stimulus encoding in {reg.upper()}', \n",
    "                               x=1.25, y=1.35, fontdict={'weight': 'bold'})    \n",
    "#     hit_ax_dict[reg].set_title('')\n",
    "    miss_ax_dict[reg].set_title('')\n",
    "    hit_ax_dict[reg].text(s=('b' if reg == 's1' else 'c'), x=-4.48, y=1.19,\n",
    "                          fontdict={'weight': 'bold', 'size': 18})\n",
    "    miss_ax_dict[reg].text(s=('d' if reg == 's1' else 'e'), x=-4.48, y=1.19,\n",
    "                          fontdict={'weight': 'bold', 'size': 18})\n",
    "hit_ax_dict['s1'].text(s='a', x=-4.48, y=3.6,\n",
    "                          fontdict={'weight': 'bold', 'size': 18})\n",
    "hit_ax_dict['s1'].text(s='Schematic of dynamic stimulus classification analysis', x=5.5, y=3.6,\n",
    "                          fontdict={'weight': 'bold', 'ha': 'center'})\n",
    "\n",
    "if save_fig:        \n",
    "    plt.savefig('/home/tplas/repos/popping-off/figures/full_figs_manuscript/Figure3.pdf',\n",
    "                bbox_to_inches='tight')"
   ]
  },
  {
   "cell_type": "code",
   "execution_count": null,
   "id": "4100e161",
   "metadata": {},
   "outputs": [],
   "source": []
  },
  {
   "cell_type": "markdown",
   "id": "61b71050",
   "metadata": {},
   "source": [
    "# Rerun test with large time window"
   ]
  },
  {
   "cell_type": "code",
   "execution_count": 115,
   "id": "3eb2fd16",
   "metadata": {},
   "outputs": [
    {
     "name": "stdout",
     "output_type": "stream",
     "text": [
      "[177 250 310]\n",
      "[-1.06666667  1.36666667  3.36666667]\n"
     ]
    }
   ],
   "source": [
    "## Create new time dicts:\n",
    "n_window = 60\n",
    "selection_type = 'avoid_ps'\n",
    "half_window = int(n_window / 2)\n",
    "window_size_in_sec = np.mean(np.diff(tp_dict['decoders'])) * n_window\n",
    "\n",
    "if selection_type == 'simple_merge':\n",
    "    total_tp = tp_dict['decoders'].shape[0]\n",
    "    assert total_tp == 180\n",
    "\n",
    "    ## Option 1: simply make windows\n",
    "    total_windows = int(total_tp / n_window)\n",
    "    tp_dict['decoders_merged_tp'] = [tp_dict['decoders'][n_window * ii:n_window * (ii + 1)] for ii in range(total_windows)]\n",
    "    \n",
    "elif selection_type == 'avoid_ps':\n",
    "    ## Option 2: avoid using ps\n",
    "    assert pre_stim_art_time == -0.07\n",
    "    assert post_stim_art_time == 0.35\n",
    "    min_time = -2.5\n",
    "    max_time = 4.5\n",
    "    time_arr_use = tp_dict['mutual']                \n",
    "    frames_post_stim = np.where(np.logical_and(time_arr_use > post_stim_art_time,\n",
    "                                               time_arr_use < max_time))[0]\n",
    "    start_windows_post_stim = frames_post_stim[::n_window][:-1]  # remove last one because window is not == n_window\n",
    "    frames_pre_stim = np.where(np.logical_and(time_arr_use < pre_stim_art_time,\n",
    "                                              time_arr_use > min_time))[0]\n",
    "    start_windows_pre_stim = np.sort(frames_pre_stim[::-n_window][1:] + 1)  # select starting from the end going backwards, skip the last one because its just before stim & move everything by 1 to correct\n",
    "    start_windows_all = np.concatenate((start_windows_pre_stim, start_windows_post_stim))\n",
    "    print(start_windows_all)\n",
    "    tp_dict['decoders_merged_tp'] = [time_arr_use[tp:tp + n_window] for tp in start_windows_all]\n",
    "\n",
    "time_array_plot = np.array([x[half_window] for x in tp_dict['decoders_merged_tp']])\n",
    "    \n",
    "# print(tp_dict['decoders_merged_tp'])\n",
    "print(time_array_plot)\n",
    "\n"
   ]
  },
  {
   "cell_type": "code",
   "execution_count": 116,
   "id": "234626c3",
   "metadata": {},
   "outputs": [
    {
     "name": "stderr",
     "output_type": "stream",
     "text": [
      "0it [00:00, ?it/s]"
     ]
    },
    {
     "name": "stdout",
     "output_type": "stream",
     "text": [
      "Now training hit/cr decoder\n"
     ]
    },
    {
     "name": "stderr",
     "output_type": "stream",
     "text": [
      "3it [00:25,  8.67s/it]\n",
      "0it [00:00, ?it/s]"
     ]
    },
    {
     "name": "stdout",
     "output_type": "stream",
     "text": [
      "Now training miss/cr decoder\n"
     ]
    },
    {
     "name": "stderr",
     "output_type": "stream",
     "text": [
      "3it [00:23,  7.94s/it]\n"
     ]
    }
   ],
   "source": [
    "## Compute results decoders (note: CV of regularisation is down below in the notebook)\n",
    "\n",
    "for key, list_tt_train in dict_tt_train.items():\n",
    "    print(f'Now training {key} decoder')\n",
    "\n",
    "    (lick_acc[key], lick_acc_split[key], lick_pred_split[key], ps_acc[key], \n",
    "     ps_acc_split[key], ps_pred_split[key], lick_half[key], angle_dec[key], \n",
    "     decoder_weights[key]) = pof.compute_accuracy_time_array_average_per_mouse(sessions=sessions, \n",
    "                                                  time_array=tp_dict['decoders_merged_tp'],\n",
    "                                                  projected_data=False, \n",
    "                                                  reg_type='l2', regularizer=1, \n",
    "                                                  average_fun=pof.class_av_mean_accuracy,\n",
    "                                                  split_fourway=True,\n",
    "                                                  list_tt_training=list_tt_train,\n",
    "                                                  concatenate_sessions_per_mouse=False,\n",
    "                                                  hard_set_10_trials=(True if key == 'hit/cr 10 trials' else False))\n",
    " "
   ]
  },
  {
   "cell_type": "code",
   "execution_count": 118,
   "id": "12b71b63",
   "metadata": {},
   "outputs": [
    {
     "data": {
      "image/png": "[encoded data removed]",
      "text/plain": [
       "<Figure size 576x468 with 4 Axes>"
      ]
     },
     "metadata": {},
     "output_type": "display_data"
    }
   ],
   "source": [
    "save_fig = False\n",
    "\n",
    "fig = plt.figure(constrained_layout=False, figsize=(8, 6.5))\n",
    "gs_dyn_dec = fig.add_gridspec(ncols=2, nrows=2, bottom=0.1, top=0.87, right=0.97, left=0.1,\n",
    "                              wspace=0.4, hspace=1)\n",
    "hit_ax_dict = {'s1': fig.add_subplot(gs_dyn_dec[0, 0]), 's2': fig.add_subplot(gs_dyn_dec[1, 0])}\n",
    "miss_ax_dict = {'s1': fig.add_subplot(gs_dyn_dec[0, 1]), 's2': fig.add_subplot(gs_dyn_dec[1, 1])}\n",
    "\n",
    "reg_key = 1000\n",
    "# tmp_ps_dict = all_ps_pred_split_tt[reg_key]\n",
    "# tmp_lick_dict = all_lick_pred_split_tt[reg_key]\n",
    "tmp_ps_dict = ps_pred_split\n",
    "tmp_lick_dict = lick_pred_split\n",
    "\n",
    "pop.plot_dynamic_decoding_two_regions_wrapper(ps_pred_split=tmp_ps_dict, lick_pred_split=tmp_lick_dict,\n",
    "                                              decoder_key='hit/cr', ax_acc_ps=hit_ax_dict, \n",
    "                                              plot_tt=['hit', 'cr', 'spont'], plot_legend=False,\n",
    "                                              time_array=time_array_plot, indicate_spont=True,\n",
    "                                              plot_significance=True, \n",
    "                                              plot_indiv_data_points_error_bars=True,\n",
    "                                              time_array_chance=time_array_plot_original,\n",
    "                                              plot_significance_individually=True,  bottom_sign_bar=1.1)\n",
    "\n",
    "pop.plot_dynamic_decoding_two_regions_wrapper(ps_pred_split=tmp_ps_dict, lick_pred_split=tmp_lick_dict,\n",
    "                                              decoder_key='miss/cr', ax_acc_ps=miss_ax_dict, \n",
    "                                              plot_tt=['miss', 'cr'], plot_legend=False,\n",
    "                                              time_array=time_array_plot,\n",
    "                                              plot_significance=True,\n",
    "                                              plot_indiv_data_points_error_bars=True,\n",
    "                                              time_array_chance=time_array_plot_original,\n",
    "                                              plot_significance_individually=True, bottom_sign_bar=1.1)\n",
    "\n",
    "\n",
    "half_ws = (window_size_in_sec / 2) * 0.96\n",
    "y_wind = 0.03\n",
    "y_end = 0.05\n",
    "\n",
    "# ax_wind = hit_ax_dict['s1']\n",
    "for ax_wind in [hit_ax_dict['s1'], hit_ax_dict['s2'], miss_ax_dict['s1'], miss_ax_dict['s2']]:\n",
    "    for i_tp, mid_tp in enumerate(time_array_plot):\n",
    "        ax_wind.plot([mid_tp - half_ws, mid_tp + half_ws], [y_wind, y_wind], linewidth=1.25, c='k', clip_on=False)\n",
    "        ax_wind.plot([mid_tp - half_ws, mid_tp - half_ws], [y_end, y_wind], linewidth=1.25, c='k', clip_on=False)\n",
    "        ax_wind.plot([mid_tp + half_ws, mid_tp + half_ws], [y_end, y_wind], linewidth=1.25, c='k', clip_on=False)\n",
    "hit_ax_dict['s1'].text(s='averaging\\nwindow', x=time_array_plot[0], y=0.04, ha='center', va='bottom')\n",
    "\n",
    "\n",
    "for reg in ['s1' ,'s2']:\n",
    "#     if reg == 's1':\n",
    "    hit_ax_dict[reg].set_title(f'Dynamic stimulus encoding in {reg.upper()} using {np.round(window_size_in_sec, 2)} second windows', \n",
    "                               x=1.25, y=1.35, fontdict={'weight': 'bold'})    \n",
    "#     hit_ax_dict[reg].set_title('')\n",
    "    miss_ax_dict[reg].set_title('')\n",
    "    hit_ax_dict[reg].text(s=('a' if reg == 's1' else 'b'), x=-4.48, y=1.19,\n",
    "                          fontdict={'weight': 'bold', 'size': 18})\n",
    "    miss_ax_dict[reg].text(s=('c' if reg == 's1' else 'd'), x=-4.48, y=1.19,\n",
    "                          fontdict={'weight': 'bold', 'size': 18})\n",
    "    \n",
    "if save_fig:        \n",
    "    plt.savefig('/home/tplas/repos/popping-off/figures/full_figs_manuscript/supp_fig_2sec_window_decoders.pdf',\n",
    "                bbox_to_inches='tight')"
   ]
  },
  {
   "cell_type": "markdown",
   "metadata": {},
   "source": [
    "# Additional stat tests:\n",
    "(Of claims in manuscript)"
   ]
  },
  {
   "cell_type": "code",
   "execution_count": null,
   "metadata": {},
   "outputs": [],
   "source": [
    "## Spont vs CR in S2 is not significant until:\n",
    "\n",
    "tmp = pof.stat_test_dyn_dec(pred_dict=tmp_ps_dict, decoder_name='hit/cr', tt='spont', region='s2',\n",
    "                      time_array=time_array_plot, frames_bin=2, th=0.05)\n",
    "\n",
    "time_array_plot[tmp[1].astype('bool')]"
   ]
  },
  {
   "cell_type": "code",
   "execution_count": null,
   "metadata": {},
   "outputs": [],
   "source": [
    "## Hit and Spont are identical on Spont/CR decoder, both S1 and S2\n",
    "\n",
    "reg = 's2'\n",
    "tmp = pof.stat_test_dyn_dec_two_arrays(pred_dict_1=tmp_lick_dict, decoder_name_1='spont/cr', tt_1='hit', region_1=reg,\n",
    "                                 pred_dict_2=tmp_lick_dict, decoder_name_2='spont/cr', tt_2='spont', region_2=reg,\n",
    "                                 time_array=time_array_plot, frames_bin=2, th=0.05, \n",
    "                                 alternative='two-sided')\n",
    "\n",
    "plt.plot(time_array_plot, tmp[2])"
   ]
  },
  {
   "cell_type": "code",
   "execution_count": null,
   "metadata": {},
   "outputs": [],
   "source": [
    "## Miss vs CR in S1 is significant until:\n",
    "\n",
    "tmp = pof.stat_test_dyn_dec(pred_dict=tmp_ps_dict, decoder_name='miss/cr', tt='miss', region='s1',\n",
    "                      time_array=time_array_plot, frames_bin=2, th=0.05)\n",
    "\n",
    "time_array_plot[tmp[1].astype('bool')]"
   ]
  },
  {
   "cell_type": "code",
   "execution_count": null,
   "metadata": {},
   "outputs": [],
   "source": [
    "## Hit preidctions greater than spont on Hit/cr 10 trials classifier\n",
    "\n",
    "reg = 's2'\n",
    "tmp = pof.stat_test_dyn_dec_two_arrays(pred_dict_1=tmp_ps_dict, decoder_name_1='hit/cr 10 trials', tt_1='hit', region_1=reg,\n",
    "                                 pred_dict_2=tmp_lick_dict, decoder_name_2='hit/cr 10 trials', tt_2='spont', region_2=reg,\n",
    "                                 time_array=time_array_plot, frames_bin=2, th=0.05, \n",
    "                                 alternative='two-sided')\n",
    "\n",
    "plt.plot(time_array_plot, tmp[2])\n",
    "\n",
    "print(f'Number of significantly different time points: {int(np.sum(tmp[2][70:]))}/{len(tmp[2][70:])}')"
   ]
  },
  {
   "cell_type": "code",
   "execution_count": null,
   "metadata": {},
   "outputs": [],
   "source": [
    "## Hit predictions greater with miss/cr than Hit/cr \n",
    "tmp_ps_dict_flip_miss = copy.deepcopy(tmp_ps_dict)\n",
    "\n",
    "for ses_reg_name, data in tmp_ps_dict_flip_miss['miss/cr']['miss'].items():\n",
    "    data[:, 0] = 1 - data[:, 0]\n",
    "\n",
    "reg = 's1'\n",
    "tmp = pof.stat_test_dyn_dec_two_arrays(pred_dict_1=tmp_ps_dict, decoder_name_1='miss/cr', tt_1='cr', region_1=reg,\n",
    "                                 pred_dict_2=tmp_ps_dict_flip_miss, decoder_name_2='miss/cr', tt_2='miss', region_2=reg,\n",
    "                                 time_array=time_array_plot, frames_bin=2, th=0.05, \n",
    "                                 alternative='two-sided')\n",
    "\n",
    "plt.plot(time_array_plot, tmp[2])\n",
    "\n",
    "print(f'Number of significantly different time points: {int(np.sum(tmp[2][70:]))}/{len(tmp[2][70:])}')"
   ]
  },
  {
   "cell_type": "code",
   "execution_count": null,
   "metadata": {},
   "outputs": [],
   "source": [
    "## Hit 40/50 stim vs hit 5/10 stim in S1\n",
    "tmp_ps_dict = all_ps_pred_split_tt_nstim[reg_key]\n",
    "print(reg_key)\n",
    "reg = 's2'\n",
    "tmp = pof.stat_test_dyn_dec_two_arrays(pred_dict_1=tmp_ps_dict, decoder_name_1='hit/cr', tt_1='miss_n3', region_1=reg,\n",
    "                                     pred_dict_2=tmp_ps_dict, decoder_name_2='hit/cr', tt_2='miss_n1', region_2=reg,\n",
    "                                     time_array=time_array_plot, frames_bin=2, th=0.05, \n",
    "                                     alternative='two-sided')\n",
    "\n",
    "plt.plot(time_array_plot, tmp[2])\n",
    "\n",
    "print(f'Number of significantly different time points: {int(np.sum(tmp[2][70:]))}/{len(tmp[2][70:])}')\n",
    "time_array_plot[tmp[2].astype('bool')]"
   ]
  },
  {
   "cell_type": "code",
   "execution_count": null,
   "metadata": {},
   "outputs": [],
   "source": [
    "## Hit 40/50 stim vs hit 5/10 stim in S1\n",
    "tmp_ps_dict = all_ps_pred_split_tt_covar[reg_key]\n",
    "print(reg_key)\n",
    "reg = 's1'\n",
    "tmp = pof.stat_test_dyn_dec_two_arrays(pred_dict_1=tmp_ps_dict, decoder_name_1='hit/cr', tt_1='miss_c3', region_1=reg,\n",
    "                                     pred_dict_2=tmp_ps_dict, decoder_name_2='hit/cr', tt_2='miss_c1', region_2=reg,\n",
    "                                     time_array=time_array_plot, frames_bin=2, th=0.05, covar_name='variance_cell_rates_s1',\n",
    "                                     alternative='two-sided')\n",
    "\n",
    "plt.plot(time_array_plot, tmp[2])\n",
    "\n",
    "print(f'Number of significantly different time points: {int(np.sum(tmp[2][70:]))}/{len(tmp[2][70:])}')\n",
    "time_array_plot[tmp[2].astype('bool')]"
   ]
  },
  {
   "cell_type": "code",
   "execution_count": null,
   "metadata": {},
   "outputs": [],
   "source": [
    "tmp_ps_dict['hit/cr']['variance_cell_rates_s1'].keys()"
   ]
  },
  {
   "cell_type": "markdown",
   "metadata": {},
   "source": [
    "# Supp 1 (all trial types)"
   ]
  },
  {
   "cell_type": "code",
   "execution_count": null,
   "metadata": {},
   "outputs": [],
   "source": [
    "save_fig = False\n",
    "\n",
    "fig = plt.figure(constrained_layout=False, figsize=(16, 6.5))\n",
    "gs_dyn_dec = fig.add_gridspec(ncols=4, nrows=2, bottom=0.08, top=0.86, right=0.96, left=0.05,\n",
    "                              wspace=0.4, hspace=1)\n",
    "\n",
    "hit_ax_dict = {'s1': fig.add_subplot(gs_dyn_dec[0, 0]), 's2': fig.add_subplot(gs_dyn_dec[1, 0])}\n",
    "miss_ax_dict = {'s1': fig.add_subplot(gs_dyn_dec[0, 1]), 's2': fig.add_subplot(gs_dyn_dec[1, 1])}\n",
    "spont_ax_dict = {'s1': fig.add_subplot(gs_dyn_dec[0, 2]), 's2': fig.add_subplot(gs_dyn_dec[1, 2])}\n",
    "hit10_ax_dict = {'s1': fig.add_subplot(gs_dyn_dec[0, 3]), 's2': fig.add_subplot(gs_dyn_dec[1, 3])}\n",
    "\n",
    "reg_key = 1000\n",
    "# tmp_ps_dict = all_ps_pred_split_tt[reg_key]\n",
    "# tmp_lick_dict = all_lick_pred_split_tt[reg_key]\n",
    "tmp_ps_dict = ps_pred_split#[reg_key]\n",
    "tmp_lick_dict = lick_pred_split#[reg_key]\n",
    "\n",
    "\n",
    "# pop.plot_dynamic_decoding_two_regions_wrapper(ps_pred_split=tmp_ps_dict, lick_pred_split=tmp_lick_dict,\n",
    "#                                               decoder_key='hit/cr', ax_acc_ps=hit_ax_dict, \n",
    "#                                               time_array=time_array_plot, plot_legend=False,\n",
    "#                                               indicate_fp=True)\n",
    "\n",
    "# pop.plot_dynamic_decoding_two_regions_wrapper(ps_pred_split=tmp_ps_dict, lick_pred_split=tmp_lick_dict,\n",
    "#                                               decoder_key='miss/cr', ax_acc_ps=miss_ax_dict, \n",
    "#                                               time_array=time_array_plot, plot_legend=False)\n",
    "\n",
    "# pop.plot_dynamic_decoding_two_regions_wrapper(ps_pred_split=tmp_ps_dict, lick_pred_split=tmp_lick_dict,\n",
    "#                                               decoder_key='spont/cr', ax_acc_ps=spont_ax_dict, \n",
    "#                                               time_array=time_array_full, plot_legend=False, \n",
    "#                                               plot_artefact=False)\n",
    "\n",
    "pop.plot_dynamic_decoding_two_regions_wrapper(ps_pred_split=tmp_ps_dict, lick_pred_split=tmp_lick_dict,\n",
    "                                              decoder_key='hit/cr 10 trials', ax_acc_ps=hit10_ax_dict, \n",
    "                                              time_array=time_array_plot, plot_legend=False)\n",
    "\n",
    "for reg in ['s1', 's2']:\n",
    "    miss_ax_dict[reg].set_title(f'Dynamic stimulus encoding in {reg.upper()}', \n",
    "                               x=1.25, y=1.35, fontdict={'weight': 'bold'})  \n",
    "    hit_ax_dict[reg].set_title('')\n",
    "    spont_ax_dict[reg].set_title('')\n",
    "    hit10_ax_dict[reg].set_title('')\n",
    "    # hit_ax_dict[reg].text(s=('a' if reg == 's1' else 'b'), x=-4.5, y=1.2,\n",
    "    #                       fontdict={'weight': 'bold', 'size': 18})\n",
    "    # miss_ax_dict[reg].text(s=('c' if reg == 's1' else 'd'), x=-4.5, y=1.2,\n",
    "    #                       fontdict={'weight': 'bold', 'size': 18})\n",
    "    # spont_ax_dict[reg].text(s=('e' if reg == 's1' else 'f'), x=-5.1, y=1.2,\n",
    "    #                       fontdict={'weight': 'bold', 'size': 18})\n",
    "    # hit10_ax_dict[reg].text(s=('g' if reg == 's1' else 'h'), x=-5.1, y=1.2,\n",
    "    #                       fontdict={'weight': 'bold', 'size': 18})\n",
    "    \n",
    "if save_fig:\n",
    "    plt.savefig('/home/tplas/repos/popping-off/figures/full_figs_manuscript/Supplementary_Figure4.pdf')#,\n",
    "#                 bbox_to_inches='tight')\n",
    "    "
   ]
  },
  {
   "cell_type": "markdown",
   "id": "ef12680a",
   "metadata": {},
   "source": []
  },
  {
   "cell_type": "markdown",
   "metadata": {},
   "source": [
    "# Supp 2 (indiv animals)"
   ]
  },
  {
   "cell_type": "code",
   "execution_count": null,
   "metadata": {},
   "outputs": [],
   "source": [
    "save_fig = True\n",
    "\n",
    "fig = plt.figure(constrained_layout=False, figsize=(8, 6.5))\n",
    "gs_dyn_dec = fig.add_gridspec(ncols=2, nrows=2, bottom=0.1, top=0.87, right=0.97, left=0.1,\n",
    "                              wspace=0.4, hspace=1)\n",
    "hit_ax_dict = {'s1': fig.add_subplot(gs_dyn_dec[0, 0]), 's2': fig.add_subplot(gs_dyn_dec[1, 0])}\n",
    "miss_ax_dict = {'s1': fig.add_subplot(gs_dyn_dec[0, 1]), 's2': fig.add_subplot(gs_dyn_dec[1, 1])}\n",
    "\n",
    "reg_key = 1000\n",
    "tmp_ps_dict = all_ps_pred_split_tt[reg_key]\n",
    "tmp_lick_dict = all_lick_pred_split_tt[reg_key]\n",
    "\n",
    "pop.plot_dynamic_decoding_two_regions_wrapper(ps_pred_split=tmp_ps_dict, lick_pred_split=tmp_lick_dict,\n",
    "                                              decoder_key='hit/cr', ax_acc_ps=hit_ax_dict, \n",
    "                                              plot_indiv=True, smooth_traces=True,\n",
    "                                              plot_tt=['hit', 'cr', 'spont'], plot_legend=False,\n",
    "                                              time_array=time_array_plot, indicate_spont=False,\n",
    "                                              plot_mean=False,\n",
    "                                              bottom_sign_bar=1.01, plot_ci=False)\n",
    "\n",
    "pop.plot_dynamic_decoding_two_regions_wrapper(ps_pred_split=tmp_ps_dict, lick_pred_split=tmp_lick_dict,\n",
    "                                              decoder_key='miss/cr', ax_acc_ps=miss_ax_dict, \n",
    "                                              plot_indiv=True, smooth_traces=True,\n",
    "                                              plot_tt=['miss', 'cr'], plot_legend=False,\n",
    "                                              plot_ci=False, plot_mean=False,\n",
    "                                              time_array=time_array_plot, bottom_sign_bar=1.01)\n",
    "\n",
    "for reg in ['s1' ,'s2']:\n",
    "    hit_ax_dict[reg].set_title(f'Dynamic stimulus encoding in {reg.upper()} of individual sessions', \n",
    "                               x=1.25, y=1.35, fontdict={'weight': 'bold'})    \n",
    "    miss_ax_dict[reg].set_title('')\n",
    "    hit_ax_dict[reg].text(s=('a' if reg == 's1' else 'b'), x=-4.48, y=1.19,\n",
    "                          fontdict={'weight': 'bold', 'size': 18})\n",
    "    miss_ax_dict[reg].text(s=('c' if reg == 's1' else 'd'), x=-4.48, y=1.19,\n",
    "                          fontdict={'weight': 'bold', 'size': 18})\n",
    "    \n",
    "if save_fig:        \n",
    "    plt.savefig('/home/tplas/repos/popping-off/figures/full_figs_manuscript/Supplementary_Figure5.pdf',\n",
    "                bbox_to_inches='tight')"
   ]
  },
  {
   "cell_type": "code",
   "execution_count": null,
   "metadata": {},
   "outputs": [],
   "source": [
    "for ses_reg_name, data in tmp_ps_dict['miss/cr']['cr'].items():\n",
    "    if ses_reg_name[-2:] == 's1' and ses_reg_name[:4] == 'J064':\n",
    "        trace = copy.deepcopy(data[:, 0][72:])\n",
    "        plt.plot(trace, label=ses_reg_name)\n",
    "plt.legend(bbox_to_anchor=(1, 1))"
   ]
  },
  {
   "cell_type": "markdown",
   "metadata": {},
   "source": [
    "## Supp figs; split by n_stim or pop var:"
   ]
  },
  {
   "cell_type": "code",
   "execution_count": null,
   "metadata": {},
   "outputs": [],
   "source": [
    "save_fig = False\n",
    "\n",
    "fig = plt.figure(constrained_layout=False, figsize=(12, 6.5))\n",
    "gs_dyn_dec = fig.add_gridspec(ncols=2, nrows=2, bottom=0.1, top=0.88, right=0.75, left=0.08,\n",
    "                              wspace=0.4, hspace=0.7)\n",
    "hit_ax_dict = {'s1': fig.add_subplot(gs_dyn_dec[0, 0]), 's2': fig.add_subplot(gs_dyn_dec[1, 0])}\n",
    "miss_ax_dict = {'s1': fig.add_subplot(gs_dyn_dec[0, 1]), 's2': fig.add_subplot(gs_dyn_dec[1, 1])}\n",
    "# hitmiss_ax_dict = {'s1': fig.add_subplot(gs_dyn_dec[0, 2]), 's2': fig.add_subplot(gs_dyn_dec[1, 2])}\n",
    "\n",
    "reg_key = 1000\n",
    "tmp_ps_dict = all_ps_pred_split_tt_nstim[reg_key]\n",
    "tmp_lick_dict = all_lick_pred_split_tt_nstim[reg_key]\n",
    "\n",
    "\n",
    "pop.plot_dynamic_decoding_two_regions_wrapper_split(ps_pred_split=tmp_ps_dict, \n",
    "                                                    lick_pred_split=tmp_lick_dict,\n",
    "                                              decoder_key='hit/cr', ax_acc_ps=hit_ax_dict, \n",
    "                                                    plot_legend=False, name_cov=None,\n",
    "                                                    plot_tt=['hit_n1', 'hit_n2', 'hit_n3', \n",
    "                                                       'miss_n1', 'miss_n2', 'miss_n3'],\n",
    "                                              time_array=time_array_plot)\n",
    "\n",
    "pop.plot_dynamic_decoding_two_regions_wrapper_split(ps_pred_split=tmp_ps_dict, \n",
    "                                                    lick_pred_split=tmp_lick_dict,\n",
    "                                              decoder_key='miss/cr', ax_acc_ps=miss_ax_dict, \n",
    "                                                    plot_legend=True,name_cov=None,\n",
    "                                                    plot_tt=['hit_n1', 'hit_n2', 'hit_n3', \n",
    "                                                       'miss_n1', 'miss_n2', 'miss_n3'],\n",
    "                                              time_array=time_array_plot)\n",
    "\n",
    "# pop.plot_dynamic_decoding_two_regions_wrapper_split(ps_pred_split=tmp_ps_dict, \n",
    "#                                                     lick_pred_split=tmp_lick_dict,\n",
    "#                                               decoder_key='hit/miss', ax_acc_ps=hitmiss_ax_dict, \n",
    "#                                                     plot_legend=True,name_cov=None,\n",
    "#                                                     plot_tt=['hit_n1', 'hit_n2', 'hit_n3', \n",
    "#                                                        'miss_n1', 'miss_n2', 'miss_n3'],\n",
    "#                                               time_array=time_array_plot)\n",
    "\n",
    "\n",
    "for reg in ['s1' ,'s2']:\n",
    "    hit_ax_dict[reg].set_title(f'Dynamic stimulus encoding in {reg.upper()}', \n",
    "                               x=1.25, y=1.25, fontdict={'weight': 'bold'})    \n",
    "    miss_ax_dict[reg].set_title('')\n",
    "    miss_ax_dict[reg].set_title('')\n",
    "    hit_ax_dict[reg].text(s=('a' if reg == 's1' else 'b'), x=-4.3, y=1.11,\n",
    "                          fontdict={'weight': 'bold', 'size': 18})\n",
    "    miss_ax_dict[reg].text(s=('c' if reg == 's1' else 'd'), x=-4.3, y=1.11,\n",
    "                          fontdict={'weight': 'bold', 'size': 18})\n",
    "#     hitmiss_ax_dict[reg].text(s=('E' if reg == 's1' else 'F'), x=-4.5, y=1.19,\n",
    "#                           fontdict={'weight': 'bold'})\n",
    "    \n",
    "#     pop.naked(miss_ax_dict[reg])\n",
    "    \n",
    "if save_fig:        \n",
    "    plt.savefig('/home/tplas/repos/popping-off/figures/full_figs_manuscript/Supplementary_Figure8.pdf',\n",
    "                bbox_to_inches='tight')"
   ]
  },
  {
   "cell_type": "code",
   "execution_count": null,
   "metadata": {},
   "outputs": [],
   "source": [
    "save_fig = True\n",
    "\n",
    "fig = plt.figure(constrained_layout=False, figsize=(12, 6.5))\n",
    "gs_dyn_dec = fig.add_gridspec(ncols=2, nrows=2, bottom=0.1, top=0.88, right=0.75, left=0.08,\n",
    "                              wspace=0.4, hspace=0.7)\n",
    "hit_ax_dict = {'s1': fig.add_subplot(gs_dyn_dec[0, 0]), 's2': fig.add_subplot(gs_dyn_dec[1, 0])}\n",
    "miss_ax_dict = {'s1': fig.add_subplot(gs_dyn_dec[0, 1]), 's2': fig.add_subplot(gs_dyn_dec[1, 1])}\n",
    "# hitmiss_ax_dict = {'s1': fig.add_subplot(gs_dyn_dec[0, 2]), 's2': fig.add_subplot(gs_dyn_dec[1, 2])}\n",
    "\n",
    "reg_key = 1000\n",
    "tmp_ps_dict = all_ps_pred_split_tt_covar[reg_key]\n",
    "tmp_lick_dict = all_lick_pred_split_tt_covar[reg_key]\n",
    "\n",
    "\n",
    "pop.plot_dynamic_decoding_two_regions_wrapper_split(ps_pred_split=tmp_ps_dict, \n",
    "                                                    lick_pred_split=tmp_lick_dict,\n",
    "                                              decoder_key='hit/cr', ax_acc_ps=hit_ax_dict, \n",
    "                                                    plot_legend=False,\n",
    "                                              time_array=time_array_plot)\n",
    "\n",
    "pop.plot_dynamic_decoding_two_regions_wrapper_split(ps_pred_split=tmp_ps_dict, \n",
    "                                                    lick_pred_split=tmp_lick_dict,\n",
    "                                              decoder_key='miss/cr', ax_acc_ps=miss_ax_dict, \n",
    "                                                    plot_legend=True,\n",
    "                                              time_array=time_array_plot)\n",
    "\n",
    "# pop.plot_dynamic_decoding_two_regions_wrapper_split(ps_pred_split=tmp_ps_dict, \n",
    "#                                                     lick_pred_split=tmp_lick_dict,\n",
    "#                                               decoder_key='hit/miss', ax_acc_ps=hitmiss_ax_dict, \n",
    "#                                                     plot_legend=True,\n",
    "#                                               time_array=time_array_plot)\n",
    "\n",
    "\n",
    "for reg in ['s1' ,'s2']:\n",
    "    hit_ax_dict[reg].set_title(f'Dynamic stimulus encoding in {reg.upper()}', \n",
    "                               x=1.25, y=1.25, fontdict={'weight': 'bold'})    \n",
    "    miss_ax_dict[reg].set_title('')\n",
    "    hit_ax_dict[reg].text(s=('a' if reg == 's1' else 'b'), x=-4.3, y=1.11,\n",
    "                          fontdict={'weight': 'bold', 'size': 18})\n",
    "    miss_ax_dict[reg].text(s=('c' if reg == 's1' else 'd'), x=-4.3, y=1.11,\n",
    "                          fontdict={'weight': 'bold', 'size': 18})\n",
    "#     hitmiss_ax_dict[reg].text(s=('E' if reg == 's1' else 'F'), x=-4.5, y=1.19,\n",
    "#                           fontdict={'weight': 'bold'})\n",
    "    \n",
    "if save_fig:        \n",
    "    plt.savefig('/home/tplas/repos/popping-off/figures/full_figs_manuscript/Supplementary_Figure9.pdf',\n",
    "                bbox_to_inches='tight')"
   ]
  },
  {
   "cell_type": "markdown",
   "metadata": {},
   "source": [
    "# Optimize regularisation strength"
   ]
  },
  {
   "cell_type": "code",
   "execution_count": null,
   "metadata": {},
   "outputs": [],
   "source": [
    "tp_dict['decoders'] = tp_dict['mutual']\n",
    "tp_dict['decoders'] = tp_dict['decoders'][np.logical_and(tp_dict['decoders'] >- 2, \n",
    "                                                         tp_dict['decoders'] <= 4)]\n",
    "tp_dict['decoders'] = tp_dict['decoders']#[::60]\n",
    "\n",
    "pre_stim_art_time = -0.07\n",
    "post_stim_art_time = 0.35\n",
    "time_array_plot = copy.deepcopy(tp_dict['decoders'])\n",
    "time_array_full = copy.deepcopy(tp_dict['decoders'])\n",
    "time_array_plot[np.logical_and(time_array_plot >= pre_stim_art_time, \n",
    "                               time_array_plot < post_stim_art_time)] = np.nan\n",
    "time_array_full -= pre_stim_art_time\n",
    "time_array_plot -= pre_stim_art_time\n",
    "\n",
    "\n",
    "dict_tt_train = {'hit/cr': ['hit', 'cr'],\n",
    "                 'hit/miss': ['hit', 'miss'],\n",
    "                 'miss/cr': ['miss', 'cr'],\n",
    "                 'spont/cr': ['spont', 'cr'],\n",
    "                 'hit/cr 10 trials': ['hit', 'cr']}  # to run 10 trials; set hard_set_10_trials to True\n",
    "\n",
    "all_lick_pred_split_tt, all_lick_pred_split_tt_nstim, all_lick_pred_split_tt_covar = {}, {} ,{}\n",
    "all_ps_pred_split_tt, all_ps_pred_split_tt_nstim, all_ps_pred_split_tt_covar = {}, {}, {}\n"
   ]
  },
  {
   "cell_type": "code",
   "execution_count": null,
   "metadata": {},
   "outputs": [],
   "source": [
    "reg_strength_array = np.logspace(-3, 7, 11)\n",
    "print('Regularisation strength: ', reg_strength_array)"
   ]
  },
  {
   "cell_type": "code",
   "execution_count": null,
   "metadata": {},
   "outputs": [],
   "source": [
    "## Compute results decoders (note: CV of regularisation is down below in the notebook)\n",
    "\n",
    "store_folder = '/home/tplas/repos/popping-off/notebooks/regularisation_optimisation_dyn_dec'\n",
    "\n",
    "for i_reg, reg_strength in enumerate(reg_strength_array):\n",
    "    (all_lick_pred_split_tt[reg_strength], all_lick_pred_split_tt_nstim[reg_strength], \n",
    "     all_lick_pred_split_tt_covar[reg_strength], all_ps_pred_split_tt[reg_strength], \n",
    "     all_ps_pred_split_tt_nstim[reg_strength], \n",
    "     all_ps_pred_split_tt_covar[reg_strength]) = {}, {}, {}, {}, {}, {}\n",
    "    for key, list_tt_train in dict_tt_train.items():\n",
    "        print(f'Now training {key} decoder of regularisation iteration {i_reg + 1}/{len(reg_strength_array)}')\n",
    "\n",
    "        (all_lick_pred_split_tt[reg_strength][key], all_lick_pred_split_tt_nstim[reg_strength][key], \n",
    "         all_lick_pred_split_tt_covar[reg_strength][key], all_ps_pred_split_tt[reg_strength][key], \n",
    "         all_ps_pred_split_tt_nstim[reg_strength][key], \n",
    "         all_ps_pred_split_tt_covar[reg_strength][key]) = pof.compute_prediction_time_array_average_per_mouse_split(sessions=sessions, \n",
    "                                                      time_array=tp_dict['decoders'],\n",
    "                                                      projected_data=False, \n",
    "                                                      reg_type='l2', regularizer=reg_strength, \n",
    "                                                      average_fun=pof.class_av_mean_accuracy,\n",
    "                                                      list_tt_training=list_tt_train,\n",
    "                                                      concatenate_sessions_per_mouse=False,\n",
    "                                                      hard_set_10_trials=(True if key == 'hit/cr 10 trials' else False),\n",
    "                                                      list_save_covs=['variance_cell_rates_s1'])\n",
    "dt = datetime.now()\n",
    "timestamp = str(dt.date()) + '-' + str(dt.hour).zfill(2) + str(dt.minute).zfill(2)\n",
    "with open(os.path.join(store_folder, timestamp + '__all_lick_pred_split_tt.pickle'), 'wb') as handle:\n",
    "    pickle.dump(all_lick_pred_split_tt, handle)\n",
    "\n",
    "with open(os.path.join(store_folder, timestamp + '__all_lick_pred_split_tt_nstim.pickle'), 'wb') as handle:\n",
    "    pickle.dump(all_lick_pred_split_tt_nstim, handle)\n",
    "\n",
    "with open(os.path.join(store_folder, timestamp + '__all_lick_pred_split_tt_covar.pickle'), 'wb') as handle:\n",
    "    pickle.dump(all_lick_pred_split_tt_covar, handle)\n",
    "\n",
    "with open(os.path.join(store_folder, timestamp + '__all_ps_pred_split_tt.pickle'), 'wb') as handle:\n",
    "    pickle.dump(all_ps_pred_split_tt, handle)\n",
    "\n",
    "with open(os.path.join(store_folder, timestamp + '__all_ps_pred_split_tt_nstim.pickle'), 'wb') as handle:\n",
    "    pickle.dump(all_ps_pred_split_tt_nstim, handle)\n",
    "\n",
    "with open(os.path.join(store_folder, timestamp + '__all_ps_pred_split_tt_covar.pickle'), 'wb') as handle:\n",
    "    pickle.dump(all_ps_pred_split_tt_covar, handle)\n",
    "    \n",
    "    \n",
    "    \n"
   ]
  },
  {
   "cell_type": "code",
   "execution_count": null,
   "metadata": {},
   "outputs": [],
   "source": [
    "# To load:\n",
    "store_folder = '/home/tplas/repos/popping-off/notebooks/regularisation_optimisation_dyn_dec/'\n",
    "timestamp = '2021-10-28-1457'\n",
    "# with open(os.path.join(store_folder, timestamp + '__all_ps_pred_split_tt.pickle'), 'rb') as handle:\n",
    "#     tmp = pickle.load(handle)\n",
    "    \n",
    "    \n",
    "with open(os.path.join(store_folder, timestamp + '__all_lick_pred_split_tt.pickle'), 'rb') as handle:\n",
    "    all_lick_pred_split_tt = pickle.load(handle)\n",
    "\n",
    "with open(os.path.join(store_folder, timestamp + '__all_lick_pred_split_tt_nstim.pickle'), 'rb') as handle:\n",
    "    all_lick_pred_split_tt_nstim = pickle.load(handle)\n",
    "\n",
    "with open(os.path.join(store_folder, timestamp + '__all_lick_pred_split_tt_covar.pickle'), 'rb') as handle:\n",
    "    all_lick_pred_split_tt_covar = pickle.load(handle)\n",
    "\n",
    "with open(os.path.join(store_folder, timestamp + '__all_ps_pred_split_tt.pickle'), 'rb') as handle:\n",
    "    all_ps_pred_split_tt = pickle.load(handle)\n",
    "\n",
    "with open(os.path.join(store_folder, timestamp + '__all_ps_pred_split_tt_nstim.pickle'), 'rb') as handle:\n",
    "    all_ps_pred_split_tt_nstim = pickle.load(handle)\n",
    "\n",
    "with open(os.path.join(store_folder, timestamp + '__all_ps_pred_split_tt_covar.pickle'), 'rb') as handle:\n",
    "    all_ps_pred_split_tt_covar = pickle.load(handle)\n",
    "    "
   ]
  },
  {
   "cell_type": "code",
   "execution_count": null,
   "metadata": {},
   "outputs": [],
   "source": [
    "# all_ps_pred_split_tt[100.0]['hit/cr']['hit']['J064_R10_s1'].shape\n",
    "all_ps_pred_split_tt.keys()"
   ]
  },
  {
   "cell_type": "code",
   "execution_count": null,
   "metadata": {},
   "outputs": [],
   "source": [
    "fig, ax = plt.subplots(1, 2, figsize=(12, 4), gridspec_kw={'wspace': 0.4})\n",
    "save_fig = False\n",
    "\n",
    "for i_reg, reg in enumerate(['s1', 's2']):\n",
    "    pop.plot_regularisation_optimisation(all_data_dict=all_ps_pred_split_tt, time_array_plot=time_array_plot,\n",
    "                                        decoder_key='hit/cr', tt_pos='hit', tt_neg='cr', reg=reg, ax=ax[i_reg])\n",
    "    pop.plot_regularisation_optimisation(all_data_dict=all_ps_pred_split_tt, time_array_plot=time_array_plot,\n",
    "                                        decoder_key='miss/cr', tt_pos='miss', tt_neg='cr', c='blue', reg=reg, ax=ax[i_reg])\n",
    "    pop.plot_regularisation_optimisation(all_data_dict=all_lick_pred_split_tt, time_array_plot=time_array_plot,\n",
    "                                        decoder_key='spont/cr', tt_pos='spont', tt_neg='cr', c='orange', reg=reg, ax=ax[i_reg])\n",
    "    \n",
    "if save_fig:\n",
    "    \n",
    "    plt.savefig('/home/tplas/repos/popping-off/figures/full_figs_manuscript/fig3_supp_regularisation_optimisation.pdf',\n",
    "                bbox_to_inches='tight')"
   ]
  },
  {
   "cell_type": "code",
   "execution_count": null,
   "metadata": {},
   "outputs": [],
   "source": [
    "all_ps_pred_split_tt"
   ]
  }
 ],
 "metadata": {
  "kernelspec": {
   "display_name": "Python 3.7.10 ('pope')",
   "language": "python",
   "name": "python3"
  },
  "language_info": {
   "codemirror_mode": {
    "name": "ipython",
    "version": 3
   },
   "file_extension": ".py",
   "mimetype": "text/x-python",
   "name": "python",
   "nbconvert_exporter": "python",
   "pygments_lexer": "ipython3",
   "version": "3.7.10"
  },
  "vscode": {
   "interpreter": {
    "hash": "9be863cc0890c641158b9994edf9b86f44546b9a093d80972b36ff16939ddef2"
   }
  }
 },
 "nbformat": 4,
 "nbformat_minor": 5
}
