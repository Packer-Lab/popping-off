{
 "cells": [
  {
   "cell_type": "code",
   "execution_count": 1,
   "id": "perfect-fifth",
   "metadata": {},
   "outputs": [],
   "source": [
    "%load_ext autoreload\n",
    "%autoreload 2"
   ]
  },
  {
   "cell_type": "code",
   "execution_count": null,
   "id": "arranged-sacrifice",
   "metadata": {},
   "outputs": [],
   "source": [
    "import popoff\n",
    "from Session import SessionLite, build_flu_array_single\n",
    "from mpl_toolkits.mplot3d import Axes3D\n",
    "from linear_model import PoolAcrossSessions, LinearModel, pca_session, LabelEncoder, largest_PC_trace, largest_PC_loading, do_pca\n",
    "import loadpaths\n",
    "import matplotlib.pyplot as plt\n",
    "import numpy as np\n",
    "import seaborn as sns\n",
    "import sys, os, pickle, copy\n",
    "from sklearn.decomposition import PCA\n",
    "import warnings\n",
    "import pandas as pd\n",
    "import math, cmath\n",
    "from tqdm import tqdm\n",
    "import pop_off_functions as pof\n",
    "import pop_off_plotting as pop\n",
    "from IPython.core.debugger import Pdb\n",
    "ipdb = Pdb()\n",
    "\n",
    "# sys.path.append(os.path.expanduser('~/Documents/code/PtitPrince/pititprince'))\n",
    "import ptitprince as pt\n",
    "\n",
    "## Add paths:\n",
    "# user_paths_dict = loadpaths.loadpaths()\n",
    "\n",
    "# path_to_vape = user_paths_dict['vape_path']\n",
    "\n",
    "# sys.path.append(str(path_to_vape))\n",
    "# sys.path.append(str(os.path.join(path_to_vape, 'jupyter')))\n",
    "# sys.path.append(str(os.path.join(path_to_vape, 'utils')))\n",
    "\n",
    "# user_paths = loadpaths.loadpaths()\n",
    "# sys.path.append(user_paths['base_path'])\n",
    "# figure_path = '/home/tplas/repos/optistim_results/'\n",
    "# from pySpatialNeuronNet import factor_analysis\n",
    "\n",
    "\n",
    "# COLORS = [\n",
    "# '#228E5E', # Hit green\n",
    "# '#DB3713', # Miss red\n",
    "# ]\n",
    "\n",
    "\n",
    "## Load data in form of Jimmy's PAS object\n",
    "warnings.warn('Targets in data, fix self.ever_targetted')\n",
    "remove_targets = False\n",
    "pas = PoolAcrossSessions(save_PCA=False, subsample_sessions=False,\n",
    "                         remove_targets=remove_targets, remove_toosoon = True)\n",
    "lm = pas.linear_models[0]\n",
    "print(pas.sessions)"
   ]
  },
  {
   "cell_type": "code",
   "execution_count": null,
   "id": "hourly-europe",
   "metadata": {},
   "outputs": [],
   "source": [
    "## Create sessions object from PAS:\n",
    "\n",
    "try:  # ensure sessions doesn't exist yet \n",
    "    sessions\n",
    "    assert type(sessions) is dict\n",
    "except NameError:\n",
    "    pass\n",
    "\n",
    "sessions = {}\n",
    "int_keys_pas_sessions = pas.sessions.keys()\n",
    "print(int_keys_pas_sessions)\n",
    "i_s = 0\n",
    "for ses in pas.sessions.values():  # load into sessions dict (in case pas skips an int as key)\n",
    "    ses.signature = f'{ses.mouse}_R{ses.run_number}'\n",
    "    sessions[i_s] = ses\n",
    "    i_s += 1\n",
    "#     if ses.signature != 'RL117_R29':  # one that used not to have spont data\n",
    "#         sessions[i_s] = ses\n",
    "#         i_s += 1\n",
    "#     else:\n",
    "#         f'{ses.signature} has been excluded !!! (because no spont data available)'\n",
    "print(sessions)\n",
    "assert len(sessions) == 10\n",
    "pof.label_urh_arm(sessions=sessions)  # label arm and urh\n",
    "\n",
    "# for kk, ss in sessions.items():\n",
    "    \n",
    "    \n",
    "print('------------------------------------')\n",
    "print(f'{len(sessions)} sessions are loaded')\n",
    "tp_dict = pof.create_tp_dict(sessions=sessions)\n",
    "tp_dict['decoders'] = tp_dict['mutual']#[np.logical_and(tp_dict['mutual'] >-2]#, tp_dict['mutual'] <= 4)]\n"
   ]
  },
  {
   "cell_type": "markdown",
   "id": "latest-restoration",
   "metadata": {},
   "source": [
    "## Train decoders (takes 20 mins per decoder type)"
   ]
  },
  {
   "cell_type": "code",
   "execution_count": null,
   "id": "secondary-sweden",
   "metadata": {},
   "outputs": [],
   "source": [
    "## Compute results decoders (note: CV of regularisation is down below in the notebook)\n",
    "(lick_acc, lick_acc_split, lick_pred_split, ps_acc, ps_acc_split, ps_pred_split, lick_half, \n",
    "     angle_dec, decoder_weights) = pof.compute_accuracy_time_array_average_per_mouse(sessions=sessions, \n",
    "                                               time_array=tp_dict['decoders'][40:280],\n",
    "                                              projected_data=False, \n",
    "                                              reg_type='l2', regularizer=1,  #reg_type='none',\n",
    "                                              average_fun=pof.class_av_mean_accuracy,\n",
    "                                              split_fourway=True,\n",
    "                                                list_tt_training=['cr', 'spont'])"
   ]
  },
  {
   "cell_type": "code",
   "execution_count": null,
   "id": "solid-invite",
   "metadata": {},
   "outputs": [],
   "source": [
    "## Spont used for training\n",
    "\n",
    "plot_tt = ['hit', 'spont', 'miss', 'fp', 'cr']\n",
    "plot_dict_split = {x: ps_pred_split[x] for x in plot_tt}\n",
    "pop.plot_dynamic_decoding_two_regions(ps_acc_split=plot_dict_split,\n",
    "                                      time_array=tp_dict['decoders'][40:280],\n",
    "                                      yaxis_type='prediction', \n",
    "                                      smooth_traces=True,\n",
    "                                      one_sided_window_size=2,\n",
    "                                      save_fig=False,\n",
    "                                      fn_suffix='subsampled_SpontCr_10-sessions_ws2',\n",
    "                                      plot_indiv=False,\n",
    "                                      plot_std_area=True)"
   ]
  },
  {
   "cell_type": "code",
   "execution_count": null,
   "id": "beneficial-apparel",
   "metadata": {},
   "outputs": [],
   "source": []
  },
  {
   "cell_type": "code",
   "execution_count": null,
   "id": "future-infection",
   "metadata": {},
   "outputs": [],
   "source": []
  },
  {
   "cell_type": "code",
   "execution_count": null,
   "id": "developed-clark",
   "metadata": {},
   "outputs": [],
   "source": []
  },
  {
   "cell_type": "code",
   "execution_count": null,
   "id": "irish-speed",
   "metadata": {},
   "outputs": [],
   "source": []
  }
 ],
 "metadata": {
  "kernelspec": {
   "display_name": "Python 3",
   "language": "python",
   "name": "python3"
  },
  "language_info": {
   "codemirror_mode": {
    "name": "ipython",
    "version": 3
   },
   "file_extension": ".py",
   "mimetype": "text/x-python",
   "name": "python",
   "nbconvert_exporter": "python",
   "pygments_lexer": "ipython3",
   "version": "3.7.10"
  }
 },
 "nbformat": 4,
 "nbformat_minor": 5
}
